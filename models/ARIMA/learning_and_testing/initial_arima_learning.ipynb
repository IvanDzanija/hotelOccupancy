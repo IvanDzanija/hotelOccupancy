{
 "cells": [
  {
   "cell_type": "code",
   "execution_count": 1,
   "id": "b879620f-e6fd-478b-b07e-459ca7f6dedb",
   "metadata": {},
   "outputs": [
    {
     "data": {
      "text/html": [
       "<div>\n",
       "<style scoped>\n",
       "    .dataframe tbody tr th:only-of-type {\n",
       "        vertical-align: middle;\n",
       "    }\n",
       "\n",
       "    .dataframe tbody tr th {\n",
       "        vertical-align: top;\n",
       "    }\n",
       "\n",
       "    .dataframe thead th {\n",
       "        text-align: right;\n",
       "    }\n",
       "</style>\n",
       "<table border=\"1\" class=\"dataframe\">\n",
       "  <thead>\n",
       "    <tr style=\"text-align: right;\">\n",
       "      <th></th>\n",
       "      <th>datum</th>\n",
       "      <th>ukupan_broj_gostiju</th>\n",
       "      <th>broj_djece_gostiju</th>\n",
       "      <th>broj_odraslih_gostiju</th>\n",
       "    </tr>\n",
       "  </thead>\n",
       "  <tbody>\n",
       "    <tr>\n",
       "      <th>0</th>\n",
       "      <td>2015-07-01</td>\n",
       "      <td>67</td>\n",
       "      <td>2</td>\n",
       "      <td>65</td>\n",
       "    </tr>\n",
       "    <tr>\n",
       "      <th>1</th>\n",
       "      <td>2015-07-02</td>\n",
       "      <td>128</td>\n",
       "      <td>4</td>\n",
       "      <td>124</td>\n",
       "    </tr>\n",
       "    <tr>\n",
       "      <th>2</th>\n",
       "      <td>2015-07-03</td>\n",
       "      <td>165</td>\n",
       "      <td>5</td>\n",
       "      <td>160</td>\n",
       "    </tr>\n",
       "    <tr>\n",
       "      <th>3</th>\n",
       "      <td>2015-07-04</td>\n",
       "      <td>227</td>\n",
       "      <td>12</td>\n",
       "      <td>215</td>\n",
       "    </tr>\n",
       "    <tr>\n",
       "      <th>4</th>\n",
       "      <td>2015-07-05</td>\n",
       "      <td>253</td>\n",
       "      <td>15</td>\n",
       "      <td>238</td>\n",
       "    </tr>\n",
       "  </tbody>\n",
       "</table>\n",
       "</div>"
      ],
      "text/plain": [
       "        datum  ukupan_broj_gostiju  broj_djece_gostiju  broj_odraslih_gostiju\n",
       "0  2015-07-01                   67                   2                     65\n",
       "1  2015-07-02                  128                   4                    124\n",
       "2  2015-07-03                  165                   5                    160\n",
       "3  2015-07-04                  227                  12                    215\n",
       "4  2015-07-05                  253                  15                    238"
      ]
     },
     "execution_count": 1,
     "metadata": {},
     "output_type": "execute_result"
    }
   ],
   "source": [
    "import pandas as pd\n",
    "import matplotlib.pyplot as plt\n",
    "import seaborn as sns\n",
    "from statsmodels.tsa.stattools import adfuller\n",
    "from statsmodels.graphics.tsaplots import plot_acf, plot_pacf\n",
    "from statsmodels.tsa.arima.model import ARIMA\n",
    "from pmdarima import auto_arima\n",
    "from pathlib import Path\n",
    "path = Path.cwd()\n",
    "path = str(path)+\"/dnevna_popunjenost_hotel0_ARIMA.csv\"\n",
    "df = pd.read_csv(path)\n",
    "df.head()\n"
   ]
  },
  {
   "cell_type": "code",
   "execution_count": 55,
   "id": "867903bc-5ee7-4c28-9c6c-2d9278136814",
   "metadata": {},
   "outputs": [],
   "source": [
    "df['datum']=pd.to_datetime(df['datum'])"
   ]
  },
  {
   "cell_type": "code",
   "execution_count": 56,
   "id": "47be5741-a3e9-48b4-93a6-87bddc5e5eae",
   "metadata": {},
   "outputs": [],
   "source": [
    "df.index = df['datum']"
   ]
  },
  {
   "cell_type": "code",
   "execution_count": 57,
   "id": "012458d4-d7ed-4f0b-abfd-a7831cad0176",
   "metadata": {},
   "outputs": [
    {
     "data": {
      "text/html": [
       "<div>\n",
       "<style scoped>\n",
       "    .dataframe tbody tr th:only-of-type {\n",
       "        vertical-align: middle;\n",
       "    }\n",
       "\n",
       "    .dataframe tbody tr th {\n",
       "        vertical-align: top;\n",
       "    }\n",
       "\n",
       "    .dataframe thead th {\n",
       "        text-align: right;\n",
       "    }\n",
       "</style>\n",
       "<table border=\"1\" class=\"dataframe\">\n",
       "  <thead>\n",
       "    <tr style=\"text-align: right;\">\n",
       "      <th></th>\n",
       "      <th>datum</th>\n",
       "      <th>ukupan_broj_gostiju</th>\n",
       "      <th>broj_djece_gostiju</th>\n",
       "      <th>broj_odraslih_gostiju</th>\n",
       "    </tr>\n",
       "    <tr>\n",
       "      <th>datum</th>\n",
       "      <th></th>\n",
       "      <th></th>\n",
       "      <th></th>\n",
       "      <th></th>\n",
       "    </tr>\n",
       "  </thead>\n",
       "  <tbody>\n",
       "    <tr>\n",
       "      <th>2015-07-01</th>\n",
       "      <td>2015-07-01</td>\n",
       "      <td>67</td>\n",
       "      <td>2</td>\n",
       "      <td>65</td>\n",
       "    </tr>\n",
       "    <tr>\n",
       "      <th>2015-07-02</th>\n",
       "      <td>2015-07-02</td>\n",
       "      <td>128</td>\n",
       "      <td>4</td>\n",
       "      <td>124</td>\n",
       "    </tr>\n",
       "    <tr>\n",
       "      <th>2015-07-03</th>\n",
       "      <td>2015-07-03</td>\n",
       "      <td>165</td>\n",
       "      <td>5</td>\n",
       "      <td>160</td>\n",
       "    </tr>\n",
       "    <tr>\n",
       "      <th>2015-07-04</th>\n",
       "      <td>2015-07-04</td>\n",
       "      <td>227</td>\n",
       "      <td>12</td>\n",
       "      <td>215</td>\n",
       "    </tr>\n",
       "    <tr>\n",
       "      <th>2015-07-05</th>\n",
       "      <td>2015-07-05</td>\n",
       "      <td>253</td>\n",
       "      <td>15</td>\n",
       "      <td>238</td>\n",
       "    </tr>\n",
       "  </tbody>\n",
       "</table>\n",
       "</div>"
      ],
      "text/plain": [
       "                datum  ukupan_broj_gostiju  broj_djece_gostiju  \\\n",
       "datum                                                            \n",
       "2015-07-01 2015-07-01                   67                   2   \n",
       "2015-07-02 2015-07-02                  128                   4   \n",
       "2015-07-03 2015-07-03                  165                   5   \n",
       "2015-07-04 2015-07-04                  227                  12   \n",
       "2015-07-05 2015-07-05                  253                  15   \n",
       "\n",
       "            broj_odraslih_gostiju  \n",
       "datum                              \n",
       "2015-07-01                     65  \n",
       "2015-07-02                    124  \n",
       "2015-07-03                    160  \n",
       "2015-07-04                    215  \n",
       "2015-07-05                    238  "
      ]
     },
     "execution_count": 57,
     "metadata": {},
     "output_type": "execute_result"
    }
   ],
   "source": [
    "df.head()"
   ]
  },
  {
   "cell_type": "code",
   "execution_count": 58,
   "id": "98b08d1f-f524-4364-baef-96a40c67f41c",
   "metadata": {},
   "outputs": [
    {
     "name": "stdout",
     "output_type": "stream",
     "text": [
      "ADF Statistic: -1.8062698079004698\n",
      "p-value: 0.3773533810095373\n",
      "Critical Values:\n",
      "   1%: -3.4388599939707056\n",
      "   5%: -2.865295977855759\n",
      "   10%: -2.5687700561872413\n",
      "\n",
      "Serija nije stacionarna i treba je diferencirati\n"
     ]
    }
   ],
   "source": [
    "#provjera stacionarnosti vremenske serije koristeći Augmented Dickey-Fuller (ADF) test\n",
    "result = adfuller(df['ukupan_broj_gostiju'])\n",
    "# Ispis rezultata\n",
    "print('ADF Statistic:', result[0])\n",
    "print('p-value:', result[1])\n",
    "print('Critical Values:')\n",
    "for key, value in result[4].items():\n",
    "    print(f'   {key}: {value}')\n",
    "\n",
    "# Interpretacija rezultata\n",
    "if result[1] < 0.05:\n",
    "    print(\"\\nSerija je stacionarna.\")\n",
    "else:\n",
    "    print(\"\\nSerija nije stacionarna i treba je diferencirati\")\n",
    "#pocetna hipoteza je da serija nije stacionarna. ADF statistika mora biti manja od kriticnih vrijednosti kako bi mogli\n",
    "#odbaciti pocetnu hipotezu sa 99%, 95% ili 90% sigurnosti\n",
    "#posto je ADF statistika veca od krtiicnih vrijednosti ne mozemo odbaciti hipotezu i moramo diferencirati podatke"
   ]
  },
  {
   "cell_type": "code",
   "execution_count": 59,
   "id": "2d0587e5-2030-4268-bdf3-1a4d3d34f04b",
   "metadata": {},
   "outputs": [],
   "source": [
    "#diferenciranje podataka\n",
    "df['diferencirano_ukupno'] = df['ukupan_broj_gostiju'].diff()\n",
    "path = Path.cwd()\n",
    "path = str(path)+\"/diferencirano_hotel0.csv\"\n",
    "df.to_csv(path, index=False)\n",
    "df_dif = pd.read_csv(path)"
   ]
  },
  {
   "cell_type": "code",
   "execution_count": 60,
   "id": "e4f3cec5-c1c8-4997-8b20-3603b397efb1",
   "metadata": {},
   "outputs": [
    {
     "data": {
      "text/html": [
       "<div>\n",
       "<style scoped>\n",
       "    .dataframe tbody tr th:only-of-type {\n",
       "        vertical-align: middle;\n",
       "    }\n",
       "\n",
       "    .dataframe tbody tr th {\n",
       "        vertical-align: top;\n",
       "    }\n",
       "\n",
       "    .dataframe thead th {\n",
       "        text-align: right;\n",
       "    }\n",
       "</style>\n",
       "<table border=\"1\" class=\"dataframe\">\n",
       "  <thead>\n",
       "    <tr style=\"text-align: right;\">\n",
       "      <th></th>\n",
       "      <th>datum</th>\n",
       "      <th>ukupan_broj_gostiju</th>\n",
       "      <th>broj_djece_gostiju</th>\n",
       "      <th>broj_odraslih_gostiju</th>\n",
       "      <th>diferencirano_ukupno</th>\n",
       "    </tr>\n",
       "  </thead>\n",
       "  <tbody>\n",
       "    <tr>\n",
       "      <th>0</th>\n",
       "      <td>2015-07-01</td>\n",
       "      <td>67</td>\n",
       "      <td>2</td>\n",
       "      <td>65</td>\n",
       "      <td>NaN</td>\n",
       "    </tr>\n",
       "    <tr>\n",
       "      <th>1</th>\n",
       "      <td>2015-07-02</td>\n",
       "      <td>128</td>\n",
       "      <td>4</td>\n",
       "      <td>124</td>\n",
       "      <td>61.0</td>\n",
       "    </tr>\n",
       "    <tr>\n",
       "      <th>2</th>\n",
       "      <td>2015-07-03</td>\n",
       "      <td>165</td>\n",
       "      <td>5</td>\n",
       "      <td>160</td>\n",
       "      <td>37.0</td>\n",
       "    </tr>\n",
       "    <tr>\n",
       "      <th>3</th>\n",
       "      <td>2015-07-04</td>\n",
       "      <td>227</td>\n",
       "      <td>12</td>\n",
       "      <td>215</td>\n",
       "      <td>62.0</td>\n",
       "    </tr>\n",
       "    <tr>\n",
       "      <th>4</th>\n",
       "      <td>2015-07-05</td>\n",
       "      <td>253</td>\n",
       "      <td>15</td>\n",
       "      <td>238</td>\n",
       "      <td>26.0</td>\n",
       "    </tr>\n",
       "  </tbody>\n",
       "</table>\n",
       "</div>"
      ],
      "text/plain": [
       "        datum  ukupan_broj_gostiju  broj_djece_gostiju  broj_odraslih_gostiju  \\\n",
       "0  2015-07-01                   67                   2                     65   \n",
       "1  2015-07-02                  128                   4                    124   \n",
       "2  2015-07-03                  165                   5                    160   \n",
       "3  2015-07-04                  227                  12                    215   \n",
       "4  2015-07-05                  253                  15                    238   \n",
       "\n",
       "   diferencirano_ukupno  \n",
       "0                   NaN  \n",
       "1                  61.0  \n",
       "2                  37.0  \n",
       "3                  62.0  \n",
       "4                  26.0  "
      ]
     },
     "execution_count": 60,
     "metadata": {},
     "output_type": "execute_result"
    }
   ],
   "source": [
    "df_dif.head()"
   ]
  },
  {
   "cell_type": "code",
   "execution_count": 61,
   "id": "ed006181-802f-478f-84f8-42b545cc7eba",
   "metadata": {},
   "outputs": [
    {
     "data": {
      "text/html": [
       "<div>\n",
       "<style scoped>\n",
       "    .dataframe tbody tr th:only-of-type {\n",
       "        vertical-align: middle;\n",
       "    }\n",
       "\n",
       "    .dataframe tbody tr th {\n",
       "        vertical-align: top;\n",
       "    }\n",
       "\n",
       "    .dataframe thead th {\n",
       "        text-align: right;\n",
       "    }\n",
       "</style>\n",
       "<table border=\"1\" class=\"dataframe\">\n",
       "  <thead>\n",
       "    <tr style=\"text-align: right;\">\n",
       "      <th></th>\n",
       "      <th>datum</th>\n",
       "      <th>ukupan_broj_gostiju</th>\n",
       "      <th>broj_djece_gostiju</th>\n",
       "      <th>broj_odraslih_gostiju</th>\n",
       "      <th>diferencirano_ukupno</th>\n",
       "    </tr>\n",
       "  </thead>\n",
       "  <tbody>\n",
       "    <tr>\n",
       "      <th>1</th>\n",
       "      <td>2015-07-02</td>\n",
       "      <td>128</td>\n",
       "      <td>4</td>\n",
       "      <td>124</td>\n",
       "      <td>61.0</td>\n",
       "    </tr>\n",
       "    <tr>\n",
       "      <th>2</th>\n",
       "      <td>2015-07-03</td>\n",
       "      <td>165</td>\n",
       "      <td>5</td>\n",
       "      <td>160</td>\n",
       "      <td>37.0</td>\n",
       "    </tr>\n",
       "    <tr>\n",
       "      <th>3</th>\n",
       "      <td>2015-07-04</td>\n",
       "      <td>227</td>\n",
       "      <td>12</td>\n",
       "      <td>215</td>\n",
       "      <td>62.0</td>\n",
       "    </tr>\n",
       "    <tr>\n",
       "      <th>4</th>\n",
       "      <td>2015-07-05</td>\n",
       "      <td>253</td>\n",
       "      <td>15</td>\n",
       "      <td>238</td>\n",
       "      <td>26.0</td>\n",
       "    </tr>\n",
       "    <tr>\n",
       "      <th>5</th>\n",
       "      <td>2015-07-06</td>\n",
       "      <td>302</td>\n",
       "      <td>21</td>\n",
       "      <td>281</td>\n",
       "      <td>49.0</td>\n",
       "    </tr>\n",
       "  </tbody>\n",
       "</table>\n",
       "</div>"
      ],
      "text/plain": [
       "        datum  ukupan_broj_gostiju  broj_djece_gostiju  broj_odraslih_gostiju  \\\n",
       "1  2015-07-02                  128                   4                    124   \n",
       "2  2015-07-03                  165                   5                    160   \n",
       "3  2015-07-04                  227                  12                    215   \n",
       "4  2015-07-05                  253                  15                    238   \n",
       "5  2015-07-06                  302                  21                    281   \n",
       "\n",
       "   diferencirano_ukupno  \n",
       "1                  61.0  \n",
       "2                  37.0  \n",
       "3                  62.0  \n",
       "4                  26.0  \n",
       "5                  49.0  "
      ]
     },
     "execution_count": 61,
     "metadata": {},
     "output_type": "execute_result"
    }
   ],
   "source": [
    "df_dif = df_dif.dropna()\n",
    "df_dif.head()"
   ]
  },
  {
   "cell_type": "code",
   "execution_count": 62,
   "id": "37cd3dcf-1741-432c-9b3b-65c8de1bc9b9",
   "metadata": {},
   "outputs": [
    {
     "name": "stdout",
     "output_type": "stream",
     "text": [
      "ADF Statistic: -1.8776658393836825\n",
      "p-value: 0.3426396339444887\n",
      "Critical Values:\n",
      "   1%: -3.4388599939707056\n",
      "   5%: -2.865295977855759\n",
      "   10%: -2.5687700561872413\n",
      "\n",
      "Serija nije stacionarna i treba je diferencirati\n"
     ]
    }
   ],
   "source": [
    "#ADF test za broj odraslih\n",
    "result_odrasli = adfuller(df['broj_odraslih_gostiju'])\n",
    "print('ADF Statistic:', result_odrasli[0])\n",
    "print('p-value:', result_odrasli[1])\n",
    "print('Critical Values:')\n",
    "for key, value in result_odrasli[4].items():\n",
    "    print(f'   {key}: {value}')\n",
    "\n",
    "# Interpretacija rezultata\n",
    "if result_odrasli[1] < 0.05:\n",
    "    print(\"\\nSerija je stacionarna.\")\n",
    "else:\n",
    "    print(\"\\nSerija nije stacionarna i treba je diferencirati\")"
   ]
  },
  {
   "cell_type": "code",
   "execution_count": 63,
   "id": "112d03ab-ac1a-4e3c-b8c4-8d2f92fc06b1",
   "metadata": {},
   "outputs": [
    {
     "name": "stdout",
     "output_type": "stream",
     "text": [
      "ADF Statistic: -7.879987409589661\n",
      "p-value: 4.731094097220997e-12\n",
      "Critical Values:\n",
      "   1%: -3.4388599939707056\n",
      "   5%: -2.865295977855759\n",
      "   10%: -2.5687700561872413\n",
      "\n",
      "Serija je stacionarna.\n"
     ]
    }
   ],
   "source": [
    "#ponovljeni ADF test na diferenciranim podatcima \n",
    "df_dif = df_dif.dropna()\n",
    "result = adfuller(df_dif['diferencirano_ukupno'])\n",
    "print('ADF Statistic:', result[0])\n",
    "print('p-value:', result[1])\n",
    "print('Critical Values:')\n",
    "for key, value in result[4].items():\n",
    "    print(f'   {key}: {value}')\n",
    "\n",
    "# Interpretacija rezultata\n",
    "if result[1] < 0.05:\n",
    "    print(\"\\nSerija je stacionarna.\")\n",
    "else:\n",
    "    print(\"\\nSerija nije stacionarna i treba je diferencirati\")"
   ]
  },
  {
   "cell_type": "code",
   "execution_count": 64,
   "id": "cc146999-f62a-4efb-9d25-0e02c1bb4928",
   "metadata": {},
   "outputs": [],
   "source": [
    "#Kreiranje ACF (Autocorrelation Function) i PACF (Partial Autocorrelation Function) grafikona koji nam sluze\n",
    "#za odredivanje p i q parametara u ARIM-i\n"
   ]
  },
  {
   "cell_type": "code",
   "execution_count": 65,
   "id": "8ee7ba59-9609-4298-91a8-bd2a8ff93422",
   "metadata": {},
   "outputs": [
    {
     "data": {
      "text/plain": [
       "<Figure size 1000x600 with 0 Axes>"
      ]
     },
     "metadata": {},
     "output_type": "display_data"
    },
    {
     "data": {
      "image/png": "[encoded data removed]",
      "text/plain": [
       "<Figure size 640x480 with 1 Axes>"
      ]
     },
     "metadata": {},
     "output_type": "display_data"
    }
   ],
   "source": [
    "#ACF grafikon\n",
    "plt.figure(figsize=(10, 6))\n",
    "plot_acf(df_dif['diferencirano_ukupno'], lags=50)\n",
    "plt.title('ACF grafikon')\n",
    "plt.show()"
   ]
  },
  {
   "cell_type": "code",
   "execution_count": 66,
   "id": "9e13d64b-80fd-4537-9d68-d15e384d2df6",
   "metadata": {},
   "outputs": [
    {
     "data": {
      "text/plain": [
       "<Figure size 1000x600 with 0 Axes>"
      ]
     },
     "metadata": {},
     "output_type": "display_data"
    },
    {
     "data": {
      "image/png": "[encoded data removed]",
      "text/plain": [
       "<Figure size 640x480 with 1 Axes>"
      ]
     },
     "metadata": {},
     "output_type": "display_data"
    }
   ],
   "source": [
    "#PACF grafikon\n",
    "plt.figure(figsize=(10, 6))\n",
    "plot_pacf(df_dif['diferencirano_ukupno'], lags=50)\n",
    "plt.title('PACF grafikon')\n",
    "plt.show()"
   ]
  },
  {
   "cell_type": "code",
   "execution_count": 67,
   "id": "37b1d4c2-f951-46d8-b693-85f3ff6876b5",
   "metadata": {},
   "outputs": [
    {
     "name": "stdout",
     "output_type": "stream",
     "text": [
      "<class 'pandas.core.frame.DataFrame'>\n",
      "Index: 792 entries, 1 to 792\n",
      "Data columns (total 5 columns):\n",
      " #   Column                 Non-Null Count  Dtype  \n",
      "---  ------                 --------------  -----  \n",
      " 0   datum                  792 non-null    object \n",
      " 1   ukupan_broj_gostiju    792 non-null    int64  \n",
      " 2   broj_djece_gostiju     792 non-null    int64  \n",
      " 3   broj_odraslih_gostiju  792 non-null    int64  \n",
      " 4   diferencirano_ukupno   792 non-null    float64\n",
      "dtypes: float64(1), int64(3), object(1)\n",
      "memory usage: 37.1+ KB\n"
     ]
    }
   ],
   "source": [
    "df_dif.info()"
   ]
  },
  {
   "cell_type": "code",
   "execution_count": 68,
   "id": "86d65461-580c-4e0f-bc24-7b796cfc61c5",
   "metadata": {},
   "outputs": [],
   "source": [
    "df_dif['datum'] = pd.to_datetime(df_dif['datum'])"
   ]
  },
  {
   "cell_type": "code",
   "execution_count": 69,
   "id": "5192ac44-031d-4eb5-8f89-65941ea39af6",
   "metadata": {},
   "outputs": [
    {
     "name": "stdout",
     "output_type": "stream",
     "text": [
      "Performing stepwise search to minimize aic\n",
      " ARIMA(2,1,2)(0,0,0)[0] intercept   : AIC=7888.562, Time=0.61 sec\n",
      " ARIMA(0,1,0)(0,0,0)[0] intercept   : AIC=7947.317, Time=0.03 sec\n",
      " ARIMA(1,1,0)(0,0,0)[0] intercept   : AIC=7945.272, Time=0.11 sec\n",
      " ARIMA(0,1,1)(0,0,0)[0] intercept   : AIC=7942.582, Time=0.20 sec\n",
      " ARIMA(0,1,0)(0,0,0)[0]             : AIC=7945.412, Time=0.02 sec\n",
      " ARIMA(1,1,2)(0,0,0)[0] intercept   : AIC=7886.848, Time=0.32 sec\n",
      " ARIMA(0,1,2)(0,0,0)[0] intercept   : AIC=7897.903, Time=0.26 sec\n",
      " ARIMA(1,1,1)(0,0,0)[0] intercept   : AIC=7894.148, Time=0.21 sec\n",
      " ARIMA(1,1,3)(0,0,0)[0] intercept   : AIC=7895.522, Time=0.66 sec\n",
      " ARIMA(0,1,3)(0,0,0)[0] intercept   : AIC=7887.323, Time=0.33 sec\n",
      " ARIMA(2,1,1)(0,0,0)[0] intercept   : AIC=7886.563, Time=0.36 sec\n",
      " ARIMA(2,1,0)(0,0,0)[0] intercept   : AIC=7918.987, Time=0.08 sec\n",
      " ARIMA(3,1,1)(0,0,0)[0] intercept   : AIC=7888.561, Time=0.47 sec\n",
      " ARIMA(3,1,0)(0,0,0)[0] intercept   : AIC=7905.150, Time=0.34 sec\n",
      " ARIMA(3,1,2)(0,0,0)[0] intercept   : AIC=7880.328, Time=0.74 sec\n",
      " ARIMA(4,1,2)(0,0,0)[0] intercept   : AIC=7878.135, Time=1.05 sec\n",
      " ARIMA(4,1,1)(0,0,0)[0] intercept   : AIC=7890.435, Time=0.46 sec\n",
      " ARIMA(5,1,2)(0,0,0)[0] intercept   : AIC=7875.114, Time=1.15 sec\n",
      " ARIMA(5,1,1)(0,0,0)[0] intercept   : AIC=7890.398, Time=0.62 sec\n",
      " ARIMA(5,1,3)(0,0,0)[0] intercept   : AIC=7848.044, Time=1.71 sec\n",
      " ARIMA(4,1,3)(0,0,0)[0] intercept   : AIC=7856.603, Time=1.43 sec\n",
      " ARIMA(5,1,4)(0,0,0)[0] intercept   : AIC=7852.393, Time=1.79 sec\n",
      " ARIMA(4,1,4)(0,0,0)[0] intercept   : AIC=7850.988, Time=2.01 sec\n",
      " ARIMA(5,1,3)(0,0,0)[0]             : AIC=7846.968, Time=1.40 sec\n",
      " ARIMA(4,1,3)(0,0,0)[0]             : AIC=7854.267, Time=1.26 sec\n",
      " ARIMA(5,1,2)(0,0,0)[0]             : AIC=7873.420, Time=0.77 sec\n",
      " ARIMA(5,1,4)(0,0,0)[0]             : AIC=7850.683, Time=1.51 sec\n",
      " ARIMA(4,1,2)(0,0,0)[0]             : AIC=7876.390, Time=0.55 sec\n",
      " ARIMA(4,1,4)(0,0,0)[0]             : AIC=7849.886, Time=1.30 sec\n",
      "\n",
      "Best model:  ARIMA(5,1,3)(0,0,0)[0]          \n",
      "Total fit time: 21.762 seconds\n"
     ]
    },
    {
     "data": {
      "text/html": [
       "<table class=\"simpletable\">\n",
       "<caption>SARIMAX Results</caption>\n",
       "<tr>\n",
       "  <th>Dep. Variable:</th>           <td>y</td>        <th>  No. Observations:  </th>    <td>793</td>   \n",
       "</tr>\n",
       "<tr>\n",
       "  <th>Model:</th>           <td>SARIMAX(5, 1, 3)</td> <th>  Log Likelihood     </th> <td>-3914.484</td>\n",
       "</tr>\n",
       "<tr>\n",
       "  <th>Date:</th>            <td>Tue, 05 Mar 2024</td> <th>  AIC                </th> <td>7846.968</td> \n",
       "</tr>\n",
       "<tr>\n",
       "  <th>Time:</th>                <td>22:52:58</td>     <th>  BIC                </th> <td>7889.039</td> \n",
       "</tr>\n",
       "<tr>\n",
       "  <th>Sample:</th>             <td>07-01-2015</td>    <th>  HQIC               </th> <td>7863.137</td> \n",
       "</tr>\n",
       "<tr>\n",
       "  <th></th>                   <td>- 08-31-2017</td>   <th>                     </th>     <td> </td>    \n",
       "</tr>\n",
       "<tr>\n",
       "  <th>Covariance Type:</th>        <td>opg</td>       <th>                     </th>     <td> </td>    \n",
       "</tr>\n",
       "</table>\n",
       "<table class=\"simpletable\">\n",
       "<tr>\n",
       "     <td></td>       <th>coef</th>     <th>std err</th>      <th>z</th>      <th>P>|z|</th>  <th>[0.025</th>    <th>0.975]</th>  \n",
       "</tr>\n",
       "<tr>\n",
       "  <th>ar.L1</th>  <td>    0.0341</td> <td>    0.074</td> <td>    0.459</td> <td> 0.646</td> <td>   -0.111</td> <td>    0.180</td>\n",
       "</tr>\n",
       "<tr>\n",
       "  <th>ar.L2</th>  <td>   -0.8019</td> <td>    0.049</td> <td>  -16.362</td> <td> 0.000</td> <td>   -0.898</td> <td>   -0.706</td>\n",
       "</tr>\n",
       "<tr>\n",
       "  <th>ar.L3</th>  <td>    0.2790</td> <td>    0.092</td> <td>    3.036</td> <td> 0.002</td> <td>    0.099</td> <td>    0.459</td>\n",
       "</tr>\n",
       "<tr>\n",
       "  <th>ar.L4</th>  <td>   -0.1126</td> <td>    0.033</td> <td>   -3.420</td> <td> 0.001</td> <td>   -0.177</td> <td>   -0.048</td>\n",
       "</tr>\n",
       "<tr>\n",
       "  <th>ar.L5</th>  <td>   -0.1757</td> <td>    0.037</td> <td>   -4.726</td> <td> 0.000</td> <td>   -0.248</td> <td>   -0.103</td>\n",
       "</tr>\n",
       "<tr>\n",
       "  <th>ma.L1</th>  <td>   -0.1658</td> <td>    0.076</td> <td>   -2.187</td> <td> 0.029</td> <td>   -0.314</td> <td>   -0.017</td>\n",
       "</tr>\n",
       "<tr>\n",
       "  <th>ma.L2</th>  <td>    0.6361</td> <td>    0.037</td> <td>   17.039</td> <td> 0.000</td> <td>    0.563</td> <td>    0.709</td>\n",
       "</tr>\n",
       "<tr>\n",
       "  <th>ma.L3</th>  <td>   -0.5751</td> <td>    0.067</td> <td>   -8.530</td> <td> 0.000</td> <td>   -0.707</td> <td>   -0.443</td>\n",
       "</tr>\n",
       "<tr>\n",
       "  <th>sigma2</th> <td> 1191.3166</td> <td>   37.837</td> <td>   31.486</td> <td> 0.000</td> <td> 1117.158</td> <td> 1265.476</td>\n",
       "</tr>\n",
       "</table>\n",
       "<table class=\"simpletable\">\n",
       "<tr>\n",
       "  <th>Ljung-Box (L1) (Q):</th>     <td>0.00</td> <th>  Jarque-Bera (JB):  </th> <td>973.18</td>\n",
       "</tr>\n",
       "<tr>\n",
       "  <th>Prob(Q):</th>                <td>0.99</td> <th>  Prob(JB):          </th>  <td>0.00</td> \n",
       "</tr>\n",
       "<tr>\n",
       "  <th>Heteroskedasticity (H):</th> <td>0.44</td> <th>  Skew:              </th>  <td>-0.18</td>\n",
       "</tr>\n",
       "<tr>\n",
       "  <th>Prob(H) (two-sided):</th>    <td>0.00</td> <th>  Kurtosis:          </th>  <td>8.42</td> \n",
       "</tr>\n",
       "</table><br/><br/>Warnings:<br/>[1] Covariance matrix calculated using the outer product of gradients (complex-step)."
      ],
      "text/latex": [
       "\\begin{center}\n",
       "\\begin{tabular}{lclc}\n",
       "\\toprule\n",
       "\\textbf{Dep. Variable:}          &        y         & \\textbf{  No. Observations:  } &    793      \\\\\n",
       "\\textbf{Model:}                  & SARIMAX(5, 1, 3) & \\textbf{  Log Likelihood     } & -3914.484   \\\\\n",
       "\\textbf{Date:}                   & Tue, 05 Mar 2024 & \\textbf{  AIC                } &  7846.968   \\\\\n",
       "\\textbf{Time:}                   &     22:52:58     & \\textbf{  BIC                } &  7889.039   \\\\\n",
       "\\textbf{Sample:}                 &    07-01-2015    & \\textbf{  HQIC               } &  7863.137   \\\\\n",
       "\\textbf{}                        &   - 08-31-2017   & \\textbf{                     } &             \\\\\n",
       "\\textbf{Covariance Type:}        &       opg        & \\textbf{                     } &             \\\\\n",
       "\\bottomrule\n",
       "\\end{tabular}\n",
       "\\begin{tabular}{lcccccc}\n",
       "                & \\textbf{coef} & \\textbf{std err} & \\textbf{z} & \\textbf{P$> |$z$|$} & \\textbf{[0.025} & \\textbf{0.975]}  \\\\\n",
       "\\midrule\n",
       "\\textbf{ar.L1}  &       0.0341  &        0.074     &     0.459  &         0.646        &       -0.111    &        0.180     \\\\\n",
       "\\textbf{ar.L2}  &      -0.8019  &        0.049     &   -16.362  &         0.000        &       -0.898    &       -0.706     \\\\\n",
       "\\textbf{ar.L3}  &       0.2790  &        0.092     &     3.036  &         0.002        &        0.099    &        0.459     \\\\\n",
       "\\textbf{ar.L4}  &      -0.1126  &        0.033     &    -3.420  &         0.001        &       -0.177    &       -0.048     \\\\\n",
       "\\textbf{ar.L5}  &      -0.1757  &        0.037     &    -4.726  &         0.000        &       -0.248    &       -0.103     \\\\\n",
       "\\textbf{ma.L1}  &      -0.1658  &        0.076     &    -2.187  &         0.029        &       -0.314    &       -0.017     \\\\\n",
       "\\textbf{ma.L2}  &       0.6361  &        0.037     &    17.039  &         0.000        &        0.563    &        0.709     \\\\\n",
       "\\textbf{ma.L3}  &      -0.5751  &        0.067     &    -8.530  &         0.000        &       -0.707    &       -0.443     \\\\\n",
       "\\textbf{sigma2} &    1191.3166  &       37.837     &    31.486  &         0.000        &     1117.158    &     1265.476     \\\\\n",
       "\\bottomrule\n",
       "\\end{tabular}\n",
       "\\begin{tabular}{lclc}\n",
       "\\textbf{Ljung-Box (L1) (Q):}     & 0.00 & \\textbf{  Jarque-Bera (JB):  } & 973.18  \\\\\n",
       "\\textbf{Prob(Q):}                & 0.99 & \\textbf{  Prob(JB):          } &  0.00   \\\\\n",
       "\\textbf{Heteroskedasticity (H):} & 0.44 & \\textbf{  Skew:              } & -0.18   \\\\\n",
       "\\textbf{Prob(H) (two-sided):}    & 0.00 & \\textbf{  Kurtosis:          } &  8.42   \\\\\n",
       "\\bottomrule\n",
       "\\end{tabular}\n",
       "%\\caption{SARIMAX Results}\n",
       "\\end{center}\n",
       "\n",
       "Warnings: \\newline\n",
       " [1] Covariance matrix calculated using the outer product of gradients (complex-step)."
      ],
      "text/plain": [
       "<class 'statsmodels.iolib.summary.Summary'>\n",
       "\"\"\"\n",
       "                               SARIMAX Results                                \n",
       "==============================================================================\n",
       "Dep. Variable:                      y   No. Observations:                  793\n",
       "Model:               SARIMAX(5, 1, 3)   Log Likelihood               -3914.484\n",
       "Date:                Tue, 05 Mar 2024   AIC                           7846.968\n",
       "Time:                        22:52:58   BIC                           7889.039\n",
       "Sample:                    07-01-2015   HQIC                          7863.137\n",
       "                         - 08-31-2017                                         \n",
       "Covariance Type:                  opg                                         \n",
       "==============================================================================\n",
       "                 coef    std err          z      P>|z|      [0.025      0.975]\n",
       "------------------------------------------------------------------------------\n",
       "ar.L1          0.0341      0.074      0.459      0.646      -0.111       0.180\n",
       "ar.L2         -0.8019      0.049    -16.362      0.000      -0.898      -0.706\n",
       "ar.L3          0.2790      0.092      3.036      0.002       0.099       0.459\n",
       "ar.L4         -0.1126      0.033     -3.420      0.001      -0.177      -0.048\n",
       "ar.L5         -0.1757      0.037     -4.726      0.000      -0.248      -0.103\n",
       "ma.L1         -0.1658      0.076     -2.187      0.029      -0.314      -0.017\n",
       "ma.L2          0.6361      0.037     17.039      0.000       0.563       0.709\n",
       "ma.L3         -0.5751      0.067     -8.530      0.000      -0.707      -0.443\n",
       "sigma2      1191.3166     37.837     31.486      0.000    1117.158    1265.476\n",
       "===================================================================================\n",
       "Ljung-Box (L1) (Q):                   0.00   Jarque-Bera (JB):               973.18\n",
       "Prob(Q):                              0.99   Prob(JB):                         0.00\n",
       "Heteroskedasticity (H):               0.44   Skew:                            -0.18\n",
       "Prob(H) (two-sided):                  0.00   Kurtosis:                         8.42\n",
       "===================================================================================\n",
       "\n",
       "Warnings:\n",
       "[1] Covariance matrix calculated using the outer product of gradients (complex-step).\n",
       "\"\"\""
      ]
     },
     "execution_count": 69,
     "metadata": {},
     "output_type": "execute_result"
    }
   ],
   "source": [
    "#trazenje najboljih parametara za ARIMU korsitenjem fit funkcije \n",
    "\n",
    "from pmdarima import auto_arima\n",
    "model = auto_arima(df['ukupan_broj_gostiju'], seasonal=False, trace=True)\n",
    "model.summary()"
   ]
  },
  {
   "cell_type": "code",
   "execution_count": 70,
   "id": "deda539e-1d5b-4070-8e74-e1855217dbfd",
   "metadata": {},
   "outputs": [
    {
     "name": "stdout",
     "output_type": "stream",
     "text": [
      "(793, 5)\n",
      "(763, 5) (30, 5)\n"
     ]
    }
   ],
   "source": [
    "print(df.shape)\n",
    "train = df.iloc[:-30]\n",
    "test=df.iloc[-30:]\n",
    "print(train.shape, test.shape)"
   ]
  },
  {
   "cell_type": "code",
   "execution_count": 71,
   "id": "e92be356-51ff-4f3f-a507-488d8cac4342",
   "metadata": {},
   "outputs": [
    {
     "data": {
      "text/plain": [
       "<bound method NDFrame.describe of                 datum  ukupan_broj_gostiju  broj_djece_gostiju  \\\n",
       "datum                                                            \n",
       "2015-07-01 2015-07-01                   67                   2   \n",
       "2015-07-02 2015-07-02                  128                   4   \n",
       "2015-07-03 2015-07-03                  165                   5   \n",
       "2015-07-04 2015-07-04                  227                  12   \n",
       "2015-07-05 2015-07-05                  253                  15   \n",
       "...               ...                  ...                 ...   \n",
       "2017-07-28 2017-07-28                  423                  49   \n",
       "2017-07-29 2017-07-29                  420                  54   \n",
       "2017-07-30 2017-07-30                  408                  48   \n",
       "2017-07-31 2017-07-31                  395                  53   \n",
       "2017-08-01 2017-08-01                  438                  65   \n",
       "\n",
       "            broj_odraslih_gostiju  diferencirano_ukupno  \n",
       "datum                                                    \n",
       "2015-07-01                     65                   NaN  \n",
       "2015-07-02                    124                  61.0  \n",
       "2015-07-03                    160                  37.0  \n",
       "2015-07-04                    215                  62.0  \n",
       "2015-07-05                    238                  26.0  \n",
       "...                           ...                   ...  \n",
       "2017-07-28                    374                   4.0  \n",
       "2017-07-29                    366                  -3.0  \n",
       "2017-07-30                    360                 -12.0  \n",
       "2017-07-31                    342                 -13.0  \n",
       "2017-08-01                    373                  43.0  \n",
       "\n",
       "[763 rows x 5 columns]>"
      ]
     },
     "execution_count": 71,
     "metadata": {},
     "output_type": "execute_result"
    }
   ],
   "source": [
    "train.describe"
   ]
  },
  {
   "cell_type": "code",
   "execution_count": 72,
   "id": "455d1964-0211-4e5b-80df-b0718551ce2c",
   "metadata": {},
   "outputs": [
    {
     "name": "stderr",
     "output_type": "stream",
     "text": [
      "/Library/Frameworks/Python.framework/Versions/3.12/lib/python3.12/site-packages/statsmodels/tsa/base/tsa_model.py:473: ValueWarning: No frequency information was provided, so inferred frequency D will be used.\n",
      "  self._init_dates(dates, freq)\n",
      "/Library/Frameworks/Python.framework/Versions/3.12/lib/python3.12/site-packages/statsmodels/tsa/base/tsa_model.py:473: ValueWarning: No frequency information was provided, so inferred frequency D will be used.\n",
      "  self._init_dates(dates, freq)\n",
      "/Library/Frameworks/Python.framework/Versions/3.12/lib/python3.12/site-packages/statsmodels/tsa/base/tsa_model.py:473: ValueWarning: No frequency information was provided, so inferred frequency D will be used.\n",
      "  self._init_dates(dates, freq)\n",
      "/Library/Frameworks/Python.framework/Versions/3.12/lib/python3.12/site-packages/statsmodels/tsa/statespace/sarimax.py:966: UserWarning: Non-stationary starting autoregressive parameters found. Using zeros as starting parameters.\n",
      "  warn('Non-stationary starting autoregressive parameters'\n",
      "/Library/Frameworks/Python.framework/Versions/3.12/lib/python3.12/site-packages/statsmodels/tsa/statespace/sarimax.py:978: UserWarning: Non-invertible starting MA parameters found. Using zeros as starting parameters.\n",
      "  warn('Non-invertible starting MA parameters found.'\n",
      "/Library/Frameworks/Python.framework/Versions/3.12/lib/python3.12/site-packages/statsmodels/base/model.py:607: ConvergenceWarning: Maximum Likelihood optimization failed to converge. Check mle_retvals\n",
      "  warnings.warn(\"Maximum Likelihood optimization failed to \"\n"
     ]
    },
    {
     "data": {
      "text/html": [
       "<table class=\"simpletable\">\n",
       "<caption>SARIMAX Results</caption>\n",
       "<tr>\n",
       "  <th>Dep. Variable:</th>   <td>ukupan_broj_gostiju</td> <th>  No. Observations:  </th>    <td>763</td>   \n",
       "</tr>\n",
       "<tr>\n",
       "  <th>Model:</th>             <td>ARIMA(5, 1, 3)</td>    <th>  Log Likelihood     </th> <td>-3778.692</td>\n",
       "</tr>\n",
       "<tr>\n",
       "  <th>Date:</th>             <td>Tue, 05 Mar 2024</td>   <th>  AIC                </th> <td>7575.383</td> \n",
       "</tr>\n",
       "<tr>\n",
       "  <th>Time:</th>                 <td>22:53:00</td>       <th>  BIC                </th> <td>7617.107</td> \n",
       "</tr>\n",
       "<tr>\n",
       "  <th>Sample:</th>              <td>07-01-2015</td>      <th>  HQIC               </th> <td>7591.448</td> \n",
       "</tr>\n",
       "<tr>\n",
       "  <th></th>                    <td>- 08-01-2017</td>     <th>                     </th>     <td> </td>    \n",
       "</tr>\n",
       "<tr>\n",
       "  <th>Covariance Type:</th>         <td>opg</td>         <th>                     </th>     <td> </td>    \n",
       "</tr>\n",
       "</table>\n",
       "<table class=\"simpletable\">\n",
       "<tr>\n",
       "     <td></td>       <th>coef</th>     <th>std err</th>      <th>z</th>      <th>P>|z|</th>  <th>[0.025</th>    <th>0.975]</th>  \n",
       "</tr>\n",
       "<tr>\n",
       "  <th>ar.L1</th>  <td>   -0.0157</td> <td>    0.087</td> <td>   -0.180</td> <td> 0.857</td> <td>   -0.187</td> <td>    0.155</td>\n",
       "</tr>\n",
       "<tr>\n",
       "  <th>ar.L2</th>  <td>   -0.8478</td> <td>    0.055</td> <td>  -15.511</td> <td> 0.000</td> <td>   -0.955</td> <td>   -0.741</td>\n",
       "</tr>\n",
       "<tr>\n",
       "  <th>ar.L3</th>  <td>    0.2204</td> <td>    0.108</td> <td>    2.041</td> <td> 0.041</td> <td>    0.009</td> <td>    0.432</td>\n",
       "</tr>\n",
       "<tr>\n",
       "  <th>ar.L4</th>  <td>   -0.1371</td> <td>    0.034</td> <td>   -4.032</td> <td> 0.000</td> <td>   -0.204</td> <td>   -0.070</td>\n",
       "</tr>\n",
       "<tr>\n",
       "  <th>ar.L5</th>  <td>   -0.1705</td> <td>    0.039</td> <td>   -4.386</td> <td> 0.000</td> <td>   -0.247</td> <td>   -0.094</td>\n",
       "</tr>\n",
       "<tr>\n",
       "  <th>ma.L1</th>  <td>   -0.1140</td> <td>    0.090</td> <td>   -1.266</td> <td> 0.206</td> <td>   -0.291</td> <td>    0.063</td>\n",
       "</tr>\n",
       "<tr>\n",
       "  <th>ma.L2</th>  <td>    0.6685</td> <td>    0.043</td> <td>   15.502</td> <td> 0.000</td> <td>    0.584</td> <td>    0.753</td>\n",
       "</tr>\n",
       "<tr>\n",
       "  <th>ma.L3</th>  <td>   -0.5253</td> <td>    0.082</td> <td>   -6.409</td> <td> 0.000</td> <td>   -0.686</td> <td>   -0.365</td>\n",
       "</tr>\n",
       "<tr>\n",
       "  <th>sigma2</th> <td> 1227.3915</td> <td>   40.330</td> <td>   30.433</td> <td> 0.000</td> <td> 1148.345</td> <td> 1306.438</td>\n",
       "</tr>\n",
       "</table>\n",
       "<table class=\"simpletable\">\n",
       "<tr>\n",
       "  <th>Ljung-Box (L1) (Q):</th>     <td>0.01</td> <th>  Jarque-Bera (JB):  </th> <td>895.22</td>\n",
       "</tr>\n",
       "<tr>\n",
       "  <th>Prob(Q):</th>                <td>0.93</td> <th>  Prob(JB):          </th>  <td>0.00</td> \n",
       "</tr>\n",
       "<tr>\n",
       "  <th>Heteroskedasticity (H):</th> <td>0.52</td> <th>  Skew:              </th>  <td>-0.17</td>\n",
       "</tr>\n",
       "<tr>\n",
       "  <th>Prob(H) (two-sided):</th>    <td>0.00</td> <th>  Kurtosis:          </th>  <td>8.30</td> \n",
       "</tr>\n",
       "</table><br/><br/>Warnings:<br/>[1] Covariance matrix calculated using the outer product of gradients (complex-step)."
      ],
      "text/latex": [
       "\\begin{center}\n",
       "\\begin{tabular}{lclc}\n",
       "\\toprule\n",
       "\\textbf{Dep. Variable:}          & ukupan\\_broj\\_gostiju & \\textbf{  No. Observations:  } &    763      \\\\\n",
       "\\textbf{Model:}                  &     ARIMA(5, 1, 3)    & \\textbf{  Log Likelihood     } & -3778.692   \\\\\n",
       "\\textbf{Date:}                   &    Tue, 05 Mar 2024   & \\textbf{  AIC                } &  7575.383   \\\\\n",
       "\\textbf{Time:}                   &        22:53:00       & \\textbf{  BIC                } &  7617.107   \\\\\n",
       "\\textbf{Sample:}                 &       07-01-2015      & \\textbf{  HQIC               } &  7591.448   \\\\\n",
       "\\textbf{}                        &      - 08-01-2017     & \\textbf{                     } &             \\\\\n",
       "\\textbf{Covariance Type:}        &          opg          & \\textbf{                     } &             \\\\\n",
       "\\bottomrule\n",
       "\\end{tabular}\n",
       "\\begin{tabular}{lcccccc}\n",
       "                & \\textbf{coef} & \\textbf{std err} & \\textbf{z} & \\textbf{P$> |$z$|$} & \\textbf{[0.025} & \\textbf{0.975]}  \\\\\n",
       "\\midrule\n",
       "\\textbf{ar.L1}  &      -0.0157  &        0.087     &    -0.180  &         0.857        &       -0.187    &        0.155     \\\\\n",
       "\\textbf{ar.L2}  &      -0.8478  &        0.055     &   -15.511  &         0.000        &       -0.955    &       -0.741     \\\\\n",
       "\\textbf{ar.L3}  &       0.2204  &        0.108     &     2.041  &         0.041        &        0.009    &        0.432     \\\\\n",
       "\\textbf{ar.L4}  &      -0.1371  &        0.034     &    -4.032  &         0.000        &       -0.204    &       -0.070     \\\\\n",
       "\\textbf{ar.L5}  &      -0.1705  &        0.039     &    -4.386  &         0.000        &       -0.247    &       -0.094     \\\\\n",
       "\\textbf{ma.L1}  &      -0.1140  &        0.090     &    -1.266  &         0.206        &       -0.291    &        0.063     \\\\\n",
       "\\textbf{ma.L2}  &       0.6685  &        0.043     &    15.502  &         0.000        &        0.584    &        0.753     \\\\\n",
       "\\textbf{ma.L3}  &      -0.5253  &        0.082     &    -6.409  &         0.000        &       -0.686    &       -0.365     \\\\\n",
       "\\textbf{sigma2} &    1227.3915  &       40.330     &    30.433  &         0.000        &     1148.345    &     1306.438     \\\\\n",
       "\\bottomrule\n",
       "\\end{tabular}\n",
       "\\begin{tabular}{lclc}\n",
       "\\textbf{Ljung-Box (L1) (Q):}     & 0.01 & \\textbf{  Jarque-Bera (JB):  } & 895.22  \\\\\n",
       "\\textbf{Prob(Q):}                & 0.93 & \\textbf{  Prob(JB):          } &  0.00   \\\\\n",
       "\\textbf{Heteroskedasticity (H):} & 0.52 & \\textbf{  Skew:              } & -0.17   \\\\\n",
       "\\textbf{Prob(H) (two-sided):}    & 0.00 & \\textbf{  Kurtosis:          } &  8.30   \\\\\n",
       "\\bottomrule\n",
       "\\end{tabular}\n",
       "%\\caption{SARIMAX Results}\n",
       "\\end{center}\n",
       "\n",
       "Warnings: \\newline\n",
       " [1] Covariance matrix calculated using the outer product of gradients (complex-step)."
      ],
      "text/plain": [
       "<class 'statsmodels.iolib.summary.Summary'>\n",
       "\"\"\"\n",
       "                                SARIMAX Results                                \n",
       "===============================================================================\n",
       "Dep. Variable:     ukupan_broj_gostiju   No. Observations:                  763\n",
       "Model:                  ARIMA(5, 1, 3)   Log Likelihood               -3778.692\n",
       "Date:                 Tue, 05 Mar 2024   AIC                           7575.383\n",
       "Time:                         22:53:00   BIC                           7617.107\n",
       "Sample:                     07-01-2015   HQIC                          7591.448\n",
       "                          - 08-01-2017                                         \n",
       "Covariance Type:                   opg                                         \n",
       "==============================================================================\n",
       "                 coef    std err          z      P>|z|      [0.025      0.975]\n",
       "------------------------------------------------------------------------------\n",
       "ar.L1         -0.0157      0.087     -0.180      0.857      -0.187       0.155\n",
       "ar.L2         -0.8478      0.055    -15.511      0.000      -0.955      -0.741\n",
       "ar.L3          0.2204      0.108      2.041      0.041       0.009       0.432\n",
       "ar.L4         -0.1371      0.034     -4.032      0.000      -0.204      -0.070\n",
       "ar.L5         -0.1705      0.039     -4.386      0.000      -0.247      -0.094\n",
       "ma.L1         -0.1140      0.090     -1.266      0.206      -0.291       0.063\n",
       "ma.L2          0.6685      0.043     15.502      0.000       0.584       0.753\n",
       "ma.L3         -0.5253      0.082     -6.409      0.000      -0.686      -0.365\n",
       "sigma2      1227.3915     40.330     30.433      0.000    1148.345    1306.438\n",
       "===================================================================================\n",
       "Ljung-Box (L1) (Q):                   0.01   Jarque-Bera (JB):               895.22\n",
       "Prob(Q):                              0.93   Prob(JB):                         0.00\n",
       "Heteroskedasticity (H):               0.52   Skew:                            -0.17\n",
       "Prob(H) (two-sided):                  0.00   Kurtosis:                         8.30\n",
       "===================================================================================\n",
       "\n",
       "Warnings:\n",
       "[1] Covariance matrix calculated using the outer product of gradients (complex-step).\n",
       "\"\"\""
      ]
     },
     "execution_count": 72,
     "metadata": {},
     "output_type": "execute_result"
    }
   ],
   "source": [
    "model = ARIMA(train['ukupan_broj_gostiju'], order = (5,1,3))\n",
    "model = model.fit()\n",
    "model.summary()"
   ]
  },
  {
   "cell_type": "code",
   "execution_count": 73,
   "id": "6fe295c4-d170-486b-8ec6-2c44cdb7f8d4",
   "metadata": {},
   "outputs": [
    {
     "name": "stdout",
     "output_type": "stream",
     "text": [
      "2017-08-02    430.882518\n",
      "2017-08-03    427.438280\n",
      "2017-08-04    428.529072\n",
      "2017-08-05    426.184379\n",
      "2017-08-06    418.182393\n",
      "2017-08-07    422.222127\n",
      "2017-08-08    428.863852\n",
      "2017-08-09    423.705987\n",
      "2017-08-10    420.543138\n",
      "2017-08-11    427.240305\n",
      "2017-08-12    427.080454\n",
      "2017-08-13    420.282464\n",
      "2017-08-14    423.314025\n",
      "2017-08-15    428.615830\n",
      "2017-08-16    423.343904\n",
      "2017-08-17    420.559133\n",
      "2017-08-18    426.984662\n",
      "2017-08-19    426.838955\n",
      "2017-08-20    420.598453\n",
      "2017-08-21    423.516995\n",
      "2017-08-22    428.323816\n",
      "2017-08-23    423.322751\n",
      "2017-08-24    420.849638\n",
      "2017-08-25    426.851966\n",
      "2017-08-26    426.595506\n",
      "2017-08-27    420.831504\n",
      "2017-08-28    423.654267\n",
      "2017-08-29    428.039071\n",
      "2017-08-30    423.318209\n",
      "2017-08-31    421.130941\n",
      "Freq: D, Name: predicted_mean, dtype: float64\n"
     ]
    },
    {
     "name": "stderr",
     "output_type": "stream",
     "text": [
      "/Library/Frameworks/Python.framework/Versions/3.12/lib/python3.12/site-packages/statsmodels/tsa/statespace/representation.py:374: FutureWarning: Unknown keyword arguments: dict_keys(['typ']).Passing unknown keyword arguments will raise a TypeError beginning in version 0.15.\n",
      "  warnings.warn(msg, FutureWarning)\n"
     ]
    }
   ],
   "source": [
    "start = len(train)\n",
    "end = len(train)+len(test)-1\n",
    "pred = model.predict(start = start, end = end, typ = 'levels')\n",
    "print(pred)"
   ]
  },
  {
   "cell_type": "code",
   "execution_count": 74,
   "id": "728f034c-0f70-447f-9e2f-19453d1b997f",
   "metadata": {},
   "outputs": [
    {
     "data": {
      "text/plain": [
       "2017-08-02    430.882518\n",
       "2017-08-03    427.438280\n",
       "2017-08-04    428.529072\n",
       "2017-08-05    426.184379\n",
       "2017-08-06    418.182393\n",
       "Freq: D, Name: predicted_mean, dtype: float64"
      ]
     },
     "execution_count": 74,
     "metadata": {},
     "output_type": "execute_result"
    }
   ],
   "source": [
    "pred.head()"
   ]
  },
  {
   "cell_type": "code",
   "execution_count": 75,
   "id": "d9aea3c9-c08b-47a6-9e40-62ee4ab0a685",
   "metadata": {},
   "outputs": [
    {
     "name": "stdout",
     "output_type": "stream",
     "text": [
      "                datum  ukupan_broj_gostiju  broj_djece_gostiju  \\\n",
      "datum                                                            \n",
      "2017-08-02 2017-08-02                  451                  68   \n",
      "2017-08-03 2017-08-03                  438                  63   \n",
      "2017-08-04 2017-08-04                  441                  56   \n",
      "2017-08-05 2017-08-05                  429                  55   \n",
      "2017-08-06 2017-08-06                  428                  64   \n",
      "2017-08-07 2017-08-07                  439                  62   \n",
      "2017-08-08 2017-08-08                  437                  64   \n",
      "2017-08-09 2017-08-09                  437                  63   \n",
      "2017-08-10 2017-08-10                  418                  55   \n",
      "2017-08-11 2017-08-11                  434                  59   \n",
      "2017-08-12 2017-08-12                  433                  54   \n",
      "2017-08-13 2017-08-13                  413                  51   \n",
      "2017-08-14 2017-08-14                  429                  55   \n",
      "2017-08-15 2017-08-15                  417                  52   \n",
      "2017-08-16 2017-08-16                  434                  56   \n",
      "2017-08-17 2017-08-17                  430                  58   \n",
      "2017-08-18 2017-08-18                  439                  56   \n",
      "2017-08-19 2017-08-19                  445                  57   \n",
      "2017-08-20 2017-08-20                  438                  61   \n",
      "2017-08-21 2017-08-21                  443                  56   \n",
      "2017-08-22 2017-08-22                  449                  58   \n",
      "2017-08-23 2017-08-23                  446                  60   \n",
      "2017-08-24 2017-08-24                  443                  59   \n",
      "2017-08-25 2017-08-25                  446                  62   \n",
      "2017-08-26 2017-08-26                  434                  57   \n",
      "2017-08-27 2017-08-27                  422                  57   \n",
      "2017-08-28 2017-08-28                  414                  63   \n",
      "2017-08-29 2017-08-29                  401                  52   \n",
      "2017-08-30 2017-08-30                  388                  40   \n",
      "2017-08-31 2017-08-31                  382                  41   \n",
      "\n",
      "            broj_odraslih_gostiju  diferencirano_ukupno  \n",
      "datum                                                    \n",
      "2017-08-02                    383                  13.0  \n",
      "2017-08-03                    375                 -13.0  \n",
      "2017-08-04                    385                   3.0  \n",
      "2017-08-05                    374                 -12.0  \n",
      "2017-08-06                    364                  -1.0  \n",
      "2017-08-07                    377                  11.0  \n",
      "2017-08-08                    373                  -2.0  \n",
      "2017-08-09                    374                   0.0  \n",
      "2017-08-10                    363                 -19.0  \n",
      "2017-08-11                    375                  16.0  \n",
      "2017-08-12                    379                  -1.0  \n",
      "2017-08-13                    362                 -20.0  \n",
      "2017-08-14                    374                  16.0  \n",
      "2017-08-15                    365                 -12.0  \n",
      "2017-08-16                    378                  17.0  \n",
      "2017-08-17                    372                  -4.0  \n",
      "2017-08-18                    383                   9.0  \n",
      "2017-08-19                    388                   6.0  \n",
      "2017-08-20                    377                  -7.0  \n",
      "2017-08-21                    387                   5.0  \n",
      "2017-08-22                    391                   6.0  \n",
      "2017-08-23                    386                  -3.0  \n",
      "2017-08-24                    384                  -3.0  \n",
      "2017-08-25                    384                   3.0  \n",
      "2017-08-26                    377                 -12.0  \n",
      "2017-08-27                    365                 -12.0  \n",
      "2017-08-28                    351                  -8.0  \n",
      "2017-08-29                    349                 -13.0  \n",
      "2017-08-30                    348                 -13.0  \n",
      "2017-08-31                    341                  -6.0  \n"
     ]
    }
   ],
   "source": [
    "print(test)"
   ]
  },
  {
   "cell_type": "code",
   "execution_count": 76,
   "id": "bf344061-7327-4fa8-871f-80fb07113643",
   "metadata": {},
   "outputs": [
    {
     "name": "stdout",
     "output_type": "stream",
     "text": [
      "<class 'pandas.core.frame.DataFrame'>\n",
      "DatetimeIndex: 30 entries, 2017-08-02 to 2017-08-31\n",
      "Data columns (total 5 columns):\n",
      " #   Column                 Non-Null Count  Dtype         \n",
      "---  ------                 --------------  -----         \n",
      " 0   datum                  30 non-null     datetime64[ns]\n",
      " 1   ukupan_broj_gostiju    30 non-null     int64         \n",
      " 2   broj_djece_gostiju     30 non-null     int64         \n",
      " 3   broj_odraslih_gostiju  30 non-null     int64         \n",
      " 4   diferencirano_ukupno   30 non-null     float64       \n",
      "dtypes: datetime64[ns](1), float64(1), int64(3)\n",
      "memory usage: 1.4 KB\n"
     ]
    }
   ],
   "source": [
    "test.info()\n"
   ]
  },
  {
   "cell_type": "code",
   "execution_count": 77,
   "id": "4df9d876-abbe-431b-8223-705c67062446",
   "metadata": {},
   "outputs": [
    {
     "data": {
      "text/plain": [
       "<Axes: xlabel='datum'>"
      ]
     },
     "execution_count": 77,
     "metadata": {},
     "output_type": "execute_result"
    },
    {
     "data": {
      "image/png": "[encoded data removed]",
      "text/plain": [
       "<Figure size 640x480 with 1 Axes>"
      ]
     },
     "metadata": {},
     "output_type": "display_data"
    }
   ],
   "source": [
    "pred.plot(legend=True)\n",
    "\n",
    "test['ukupan_broj_gostiju'].plot(legend = True)"
   ]
  },
  {
   "cell_type": "code",
   "execution_count": 82,
   "id": "2001da6e-e732-4493-9a77-e5d5d501a8f7",
   "metadata": {},
   "outputs": [
    {
     "name": "stdout",
     "output_type": "stream",
     "text": [
      "RMSE: 16.75853733910615%\n",
      "MAPE: 3.333669973960541%\n"
     ]
    }
   ],
   "source": [
    "#racunanje greske modela\n",
    "#rmse = root mean squared error\n",
    "from sklearn.metrics import mean_squared_error\n",
    "from math import sqrt\n",
    "rmse = sqrt(mean_squared_error(pred,test['ukupan_broj_gostiju']))\n",
    "print(f\"RMSE: {rmse}%\")\n",
    "\n",
    "#mape = mean apsolute percentage error \n",
    "import numpy as np\n",
    "mape = np.mean(np.abs((test['ukupan_broj_gostiju'] - pred) / test['ukupan_broj_gostiju'])) * 100\n",
    "print(f\"MAPE: {mape}%\")"
   ]
  },
  {
   "cell_type": "code",
   "execution_count": 83,
   "id": "33e0e00b-ee4a-4cf1-bc88-3f984939134d",
   "metadata": {},
   "outputs": [
    {
     "data": {
      "image/png": "[encoded data removed]",
      "text/plain": [
       "<Figure size 1000x600 with 1 Axes>"
      ]
     },
     "metadata": {},
     "output_type": "display_data"
    }
   ],
   "source": [
    "#racunanje residuala\n",
    "reziduali = test['ukupan_broj_gostiju'] - pred\n",
    "\n",
    "# Vizualizacija reziduala\n",
    "plt.figure(figsize=(10, 6))  # Postavljanje veličine figure\n",
    "plt.plot(reziduali, marker='o', linestyle='--', color='blue')  # Crtanje grafa reziduala\n",
    "plt.title('Graf reziduala')\n",
    "plt.xlabel('Indeks promatranja')\n",
    "plt.ylabel('Reziduali')\n",
    "plt.axhline(y=0, color='red', linestyle='-')  # Crta horizontalnu liniju na y=0 za referencu\n",
    "plt.grid(True)\n",
    "plt.show()"
   ]
  }
 ],
 "metadata": {
  "kernelspec": {
   "display_name": "Python 3 (ipykernel)",
   "language": "python",
   "name": "python3"
  },
  "language_info": {
   "codemirror_mode": {
    "name": "ipython",
    "version": 3
   },
   "file_extension": ".py",
   "mimetype": "text/x-python",
   "name": "python",
   "nbconvert_exporter": "python",
   "pygments_lexer": "ipython3",
   "version": "3.12.2"
  }
 },
 "nbformat": 4,
 "nbformat_minor": 5
}
