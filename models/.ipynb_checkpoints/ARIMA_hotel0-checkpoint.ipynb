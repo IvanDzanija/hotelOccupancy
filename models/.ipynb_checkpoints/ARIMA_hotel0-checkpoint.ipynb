{
 "cells": [
  {
   "cell_type": "code",
   "execution_count": 2,
   "id": "b879620f-e6fd-478b-b07e-459ca7f6dedb",
   "metadata": {},
   "outputs": [
    {
     "data": {
      "text/html": [
       "<div>\n",
       "<style scoped>\n",
       "    .dataframe tbody tr th:only-of-type {\n",
       "        vertical-align: middle;\n",
       "    }\n",
       "\n",
       "    .dataframe tbody tr th {\n",
       "        vertical-align: top;\n",
       "    }\n",
       "\n",
       "    .dataframe thead th {\n",
       "        text-align: right;\n",
       "    }\n",
       "</style>\n",
       "<table border=\"1\" class=\"dataframe\">\n",
       "  <thead>\n",
       "    <tr style=\"text-align: right;\">\n",
       "      <th></th>\n",
       "      <th>datum</th>\n",
       "      <th>ukupan_broj_gostiju</th>\n",
       "      <th>broj_djece_gostiju</th>\n",
       "      <th>broj_odraslih_gostiju</th>\n",
       "    </tr>\n",
       "  </thead>\n",
       "  <tbody>\n",
       "    <tr>\n",
       "      <th>0</th>\n",
       "      <td>2015-07-01</td>\n",
       "      <td>67</td>\n",
       "      <td>2</td>\n",
       "      <td>65</td>\n",
       "    </tr>\n",
       "    <tr>\n",
       "      <th>1</th>\n",
       "      <td>2015-07-02</td>\n",
       "      <td>128</td>\n",
       "      <td>4</td>\n",
       "      <td>124</td>\n",
       "    </tr>\n",
       "    <tr>\n",
       "      <th>2</th>\n",
       "      <td>2015-07-03</td>\n",
       "      <td>165</td>\n",
       "      <td>5</td>\n",
       "      <td>160</td>\n",
       "    </tr>\n",
       "    <tr>\n",
       "      <th>3</th>\n",
       "      <td>2015-07-04</td>\n",
       "      <td>227</td>\n",
       "      <td>12</td>\n",
       "      <td>215</td>\n",
       "    </tr>\n",
       "    <tr>\n",
       "      <th>4</th>\n",
       "      <td>2015-07-05</td>\n",
       "      <td>253</td>\n",
       "      <td>15</td>\n",
       "      <td>238</td>\n",
       "    </tr>\n",
       "  </tbody>\n",
       "</table>\n",
       "</div>"
      ],
      "text/plain": [
       "        datum  ukupan_broj_gostiju  broj_djece_gostiju  broj_odraslih_gostiju\n",
       "0  2015-07-01                   67                   2                     65\n",
       "1  2015-07-02                  128                   4                    124\n",
       "2  2015-07-03                  165                   5                    160\n",
       "3  2015-07-04                  227                  12                    215\n",
       "4  2015-07-05                  253                  15                    238"
      ]
     },
     "execution_count": 2,
     "metadata": {},
     "output_type": "execute_result"
    }
   ],
   "source": [
    "import pandas as pd\n",
    "import matplotlib.pyplot as plt\n",
    "import seaborn as sns\n",
    "from statsmodels.tsa.stattools import adfuller\n",
    "from statsmodels.graphics.tsaplots import plot_acf, plot_pacf\n",
    "from statsmodels.tsa.arima.model import ARIMA\n",
    "from pmdarima import auto_arima\n",
    "from pathlib import Path\n",
    "path = Path.cwd()\n",
    "path = str(path)+\"/dnevna_popunjenost_hotel0_ARIMA.csv\"\n",
    "df = pd.read_csv(path)\n",
    "df.head()\n"
   ]
  },
  {
   "cell_type": "code",
   "execution_count": 3,
   "id": "98b08d1f-f524-4364-baef-96a40c67f41c",
   "metadata": {},
   "outputs": [
    {
     "name": "stdout",
     "output_type": "stream",
     "text": [
      "ADF Statistic: -1.8062698079004698\n",
      "p-value: 0.3773533810095373\n",
      "Critical Values:\n",
      "   1%: -3.4388599939707056\n",
      "   5%: -2.865295977855759\n",
      "   10%: -2.5687700561872413\n",
      "\n",
      "Serija nije stacionarna i treba je diferencirati\n"
     ]
    }
   ],
   "source": [
    "#provjera stacionarnosti vremenske serije koristeći Augmented Dickey-Fuller (ADF) test\n",
    "result = adfuller(df['ukupan_broj_gostiju'])\n",
    "# Ispis rezultata\n",
    "print('ADF Statistic:', result[0])\n",
    "print('p-value:', result[1])\n",
    "print('Critical Values:')\n",
    "for key, value in result[4].items():\n",
    "    print(f'   {key}: {value}')\n",
    "\n",
    "# Interpretacija rezultata\n",
    "if result[1] < 0.05:\n",
    "    print(\"\\nSerija je stacionarna.\")\n",
    "else:\n",
    "    print(\"\\nSerija nije stacionarna i treba je diferencirati\")\n",
    "#pocetna hipoteza je da serija nije stacionarna. ADF statistika mora biti manja od kriticnih vrijednosti kako bi mogli\n",
    "#odbaciti pocetnu hipotezu sa 99%, 95% ili 90% sigurnosti\n",
    "#posto je ADF statistika veca od krtiicnih vrijednosti ne mozemo odbaciti hipotezu i moramo diferencirati podatke"
   ]
  },
  {
   "cell_type": "code",
   "execution_count": 4,
   "id": "2d0587e5-2030-4268-bdf3-1a4d3d34f04b",
   "metadata": {},
   "outputs": [],
   "source": [
    "#diferenciranje podataka\n",
    "df['diferencirano_ukupno'] = df['ukupan_broj_gostiju'].diff()\n",
    "path = Path.cwd()\n",
    "path = str(path)+\"/diferencirano_hotel0.csv\"\n",
    "df.to_csv(path, index=False)\n",
    "df_dif = pd.read_csv(path)"
   ]
  },
  {
   "cell_type": "code",
   "execution_count": 5,
   "id": "e4f3cec5-c1c8-4997-8b20-3603b397efb1",
   "metadata": {},
   "outputs": [
    {
     "data": {
      "text/html": [
       "<div>\n",
       "<style scoped>\n",
       "    .dataframe tbody tr th:only-of-type {\n",
       "        vertical-align: middle;\n",
       "    }\n",
       "\n",
       "    .dataframe tbody tr th {\n",
       "        vertical-align: top;\n",
       "    }\n",
       "\n",
       "    .dataframe thead th {\n",
       "        text-align: right;\n",
       "    }\n",
       "</style>\n",
       "<table border=\"1\" class=\"dataframe\">\n",
       "  <thead>\n",
       "    <tr style=\"text-align: right;\">\n",
       "      <th></th>\n",
       "      <th>datum</th>\n",
       "      <th>ukupan_broj_gostiju</th>\n",
       "      <th>broj_djece_gostiju</th>\n",
       "      <th>broj_odraslih_gostiju</th>\n",
       "      <th>diferencirano_ukupno</th>\n",
       "    </tr>\n",
       "  </thead>\n",
       "  <tbody>\n",
       "    <tr>\n",
       "      <th>0</th>\n",
       "      <td>2015-07-01</td>\n",
       "      <td>67</td>\n",
       "      <td>2</td>\n",
       "      <td>65</td>\n",
       "      <td>NaN</td>\n",
       "    </tr>\n",
       "    <tr>\n",
       "      <th>1</th>\n",
       "      <td>2015-07-02</td>\n",
       "      <td>128</td>\n",
       "      <td>4</td>\n",
       "      <td>124</td>\n",
       "      <td>61.0</td>\n",
       "    </tr>\n",
       "    <tr>\n",
       "      <th>2</th>\n",
       "      <td>2015-07-03</td>\n",
       "      <td>165</td>\n",
       "      <td>5</td>\n",
       "      <td>160</td>\n",
       "      <td>37.0</td>\n",
       "    </tr>\n",
       "    <tr>\n",
       "      <th>3</th>\n",
       "      <td>2015-07-04</td>\n",
       "      <td>227</td>\n",
       "      <td>12</td>\n",
       "      <td>215</td>\n",
       "      <td>62.0</td>\n",
       "    </tr>\n",
       "    <tr>\n",
       "      <th>4</th>\n",
       "      <td>2015-07-05</td>\n",
       "      <td>253</td>\n",
       "      <td>15</td>\n",
       "      <td>238</td>\n",
       "      <td>26.0</td>\n",
       "    </tr>\n",
       "  </tbody>\n",
       "</table>\n",
       "</div>"
      ],
      "text/plain": [
       "        datum  ukupan_broj_gostiju  broj_djece_gostiju  broj_odraslih_gostiju  \\\n",
       "0  2015-07-01                   67                   2                     65   \n",
       "1  2015-07-02                  128                   4                    124   \n",
       "2  2015-07-03                  165                   5                    160   \n",
       "3  2015-07-04                  227                  12                    215   \n",
       "4  2015-07-05                  253                  15                    238   \n",
       "\n",
       "   diferencirano_ukupno  \n",
       "0                   NaN  \n",
       "1                  61.0  \n",
       "2                  37.0  \n",
       "3                  62.0  \n",
       "4                  26.0  "
      ]
     },
     "execution_count": 5,
     "metadata": {},
     "output_type": "execute_result"
    }
   ],
   "source": [
    "df_dif.head()"
   ]
  },
  {
   "cell_type": "code",
   "execution_count": 6,
   "id": "ed006181-802f-478f-84f8-42b545cc7eba",
   "metadata": {},
   "outputs": [
    {
     "data": {
      "text/html": [
       "<div>\n",
       "<style scoped>\n",
       "    .dataframe tbody tr th:only-of-type {\n",
       "        vertical-align: middle;\n",
       "    }\n",
       "\n",
       "    .dataframe tbody tr th {\n",
       "        vertical-align: top;\n",
       "    }\n",
       "\n",
       "    .dataframe thead th {\n",
       "        text-align: right;\n",
       "    }\n",
       "</style>\n",
       "<table border=\"1\" class=\"dataframe\">\n",
       "  <thead>\n",
       "    <tr style=\"text-align: right;\">\n",
       "      <th></th>\n",
       "      <th>datum</th>\n",
       "      <th>ukupan_broj_gostiju</th>\n",
       "      <th>broj_djece_gostiju</th>\n",
       "      <th>broj_odraslih_gostiju</th>\n",
       "      <th>diferencirano_ukupno</th>\n",
       "    </tr>\n",
       "  </thead>\n",
       "  <tbody>\n",
       "    <tr>\n",
       "      <th>1</th>\n",
       "      <td>2015-07-02</td>\n",
       "      <td>128</td>\n",
       "      <td>4</td>\n",
       "      <td>124</td>\n",
       "      <td>61.0</td>\n",
       "    </tr>\n",
       "    <tr>\n",
       "      <th>2</th>\n",
       "      <td>2015-07-03</td>\n",
       "      <td>165</td>\n",
       "      <td>5</td>\n",
       "      <td>160</td>\n",
       "      <td>37.0</td>\n",
       "    </tr>\n",
       "    <tr>\n",
       "      <th>3</th>\n",
       "      <td>2015-07-04</td>\n",
       "      <td>227</td>\n",
       "      <td>12</td>\n",
       "      <td>215</td>\n",
       "      <td>62.0</td>\n",
       "    </tr>\n",
       "    <tr>\n",
       "      <th>4</th>\n",
       "      <td>2015-07-05</td>\n",
       "      <td>253</td>\n",
       "      <td>15</td>\n",
       "      <td>238</td>\n",
       "      <td>26.0</td>\n",
       "    </tr>\n",
       "    <tr>\n",
       "      <th>5</th>\n",
       "      <td>2015-07-06</td>\n",
       "      <td>302</td>\n",
       "      <td>21</td>\n",
       "      <td>281</td>\n",
       "      <td>49.0</td>\n",
       "    </tr>\n",
       "  </tbody>\n",
       "</table>\n",
       "</div>"
      ],
      "text/plain": [
       "        datum  ukupan_broj_gostiju  broj_djece_gostiju  broj_odraslih_gostiju  \\\n",
       "1  2015-07-02                  128                   4                    124   \n",
       "2  2015-07-03                  165                   5                    160   \n",
       "3  2015-07-04                  227                  12                    215   \n",
       "4  2015-07-05                  253                  15                    238   \n",
       "5  2015-07-06                  302                  21                    281   \n",
       "\n",
       "   diferencirano_ukupno  \n",
       "1                  61.0  \n",
       "2                  37.0  \n",
       "3                  62.0  \n",
       "4                  26.0  \n",
       "5                  49.0  "
      ]
     },
     "execution_count": 6,
     "metadata": {},
     "output_type": "execute_result"
    }
   ],
   "source": [
    "df_dif = df_dif.dropna()\n",
    "df_dif.head()"
   ]
  },
  {
   "cell_type": "code",
   "execution_count": 7,
   "id": "37cd3dcf-1741-432c-9b3b-65c8de1bc9b9",
   "metadata": {},
   "outputs": [
    {
     "name": "stdout",
     "output_type": "stream",
     "text": [
      "ADF Statistic: -1.8776658393836825\n",
      "p-value: 0.3426396339444887\n",
      "Critical Values:\n",
      "   1%: -3.4388599939707056\n",
      "   5%: -2.865295977855759\n",
      "   10%: -2.5687700561872413\n",
      "\n",
      "Serija nije stacionarna i treba je diferencirati\n"
     ]
    }
   ],
   "source": [
    "#ADF test za broj odraslih\n",
    "result_odrasli = adfuller(df['broj_odraslih_gostiju'])\n",
    "print('ADF Statistic:', result_odrasli[0])\n",
    "print('p-value:', result_odrasli[1])\n",
    "print('Critical Values:')\n",
    "for key, value in result_odrasli[4].items():\n",
    "    print(f'   {key}: {value}')\n",
    "\n",
    "# Interpretacija rezultata\n",
    "if result_odrasli[1] < 0.05:\n",
    "    print(\"\\nSerija je stacionarna.\")\n",
    "else:\n",
    "    print(\"\\nSerija nije stacionarna i treba je diferencirati\")"
   ]
  },
  {
   "cell_type": "code",
   "execution_count": 8,
   "id": "112d03ab-ac1a-4e3c-b8c4-8d2f92fc06b1",
   "metadata": {},
   "outputs": [
    {
     "name": "stdout",
     "output_type": "stream",
     "text": [
      "ADF Statistic: -7.879987409589661\n",
      "p-value: 4.731094097220997e-12\n",
      "Critical Values:\n",
      "   1%: -3.4388599939707056\n",
      "   5%: -2.865295977855759\n",
      "   10%: -2.5687700561872413\n",
      "\n",
      "Serija je stacionarna.\n"
     ]
    }
   ],
   "source": [
    "#ponovljeni ADF test na diferenciranim podatcima \n",
    "df_dif = df_dif.dropna()\n",
    "result = adfuller(df_dif['diferencirano_ukupno'])\n",
    "print('ADF Statistic:', result[0])\n",
    "print('p-value:', result[1])\n",
    "print('Critical Values:')\n",
    "for key, value in result[4].items():\n",
    "    print(f'   {key}: {value}')\n",
    "\n",
    "# Interpretacija rezultata\n",
    "if result[1] < 0.05:\n",
    "    print(\"\\nSerija je stacionarna.\")\n",
    "else:\n",
    "    print(\"\\nSerija nije stacionarna i treba je diferencirati\")"
   ]
  },
  {
   "cell_type": "code",
   "execution_count": 45,
   "id": "cc146999-f62a-4efb-9d25-0e02c1bb4928",
   "metadata": {},
   "outputs": [],
   "source": [
    "#Kreiranje ACF (Autocorrelation Function) i PACF (Partial Autocorrelation Function) grafikona koji nam sluze\n",
    "#za odredivanje p i q parametara u ARIM-i\n"
   ]
  },
  {
   "cell_type": "code",
   "execution_count": 9,
   "id": "8ee7ba59-9609-4298-91a8-bd2a8ff93422",
   "metadata": {},
   "outputs": [
    {
     "data": {
      "text/plain": [
       "<Figure size 1000x600 with 0 Axes>"
      ]
     },
     "metadata": {},
     "output_type": "display_data"
    },
    {
     "data": {
      "image/png": "[encoded data removed]",
      "text/plain": [
       "<Figure size 640x480 with 1 Axes>"
      ]
     },
     "metadata": {},
     "output_type": "display_data"
    }
   ],
   "source": [
    "#ACF grafikon\n",
    "plt.figure(figsize=(10, 6))\n",
    "plot_acf(df_dif['diferencirano_ukupno'], lags=50)\n",
    "plt.title('ACF grafikon')\n",
    "plt.show()"
   ]
  },
  {
   "cell_type": "code",
   "execution_count": 10,
   "id": "9e13d64b-80fd-4537-9d68-d15e384d2df6",
   "metadata": {},
   "outputs": [
    {
     "data": {
      "text/plain": [
       "<Figure size 1000x600 with 0 Axes>"
      ]
     },
     "metadata": {},
     "output_type": "display_data"
    },
    {
     "data": {
      "image/png": "[encoded data removed]",
      "text/plain": [
       "<Figure size 640x480 with 1 Axes>"
      ]
     },
     "metadata": {},
     "output_type": "display_data"
    }
   ],
   "source": [
    "#PACF grafikon\n",
    "plt.figure(figsize=(10, 6))\n",
    "plot_pacf(df_dif['diferencirano_ukupno'], lags=50)\n",
    "plt.title('PACF grafikon')\n",
    "plt.show()"
   ]
  },
  {
   "cell_type": "code",
   "execution_count": 11,
   "id": "37b1d4c2-f951-46d8-b693-85f3ff6876b5",
   "metadata": {},
   "outputs": [
    {
     "name": "stdout",
     "output_type": "stream",
     "text": [
      "<class 'pandas.core.frame.DataFrame'>\n",
      "Index: 792 entries, 1 to 792\n",
      "Data columns (total 5 columns):\n",
      " #   Column                 Non-Null Count  Dtype  \n",
      "---  ------                 --------------  -----  \n",
      " 0   datum                  792 non-null    object \n",
      " 1   ukupan_broj_gostiju    792 non-null    int64  \n",
      " 2   broj_djece_gostiju     792 non-null    int64  \n",
      " 3   broj_odraslih_gostiju  792 non-null    int64  \n",
      " 4   diferencirano_ukupno   792 non-null    float64\n",
      "dtypes: float64(1), int64(3), object(1)\n",
      "memory usage: 37.1+ KB\n"
     ]
    }
   ],
   "source": [
    "df_dif.info()"
   ]
  },
  {
   "cell_type": "code",
   "execution_count": 12,
   "id": "86d65461-580c-4e0f-bc24-7b796cfc61c5",
   "metadata": {},
   "outputs": [],
   "source": [
    "df_dif['datum'] = pd.to_datetime(df_dif['datum'])"
   ]
  },
  {
   "cell_type": "code",
   "execution_count": 13,
   "id": "5192ac44-031d-4eb5-8f89-65941ea39af6",
   "metadata": {},
   "outputs": [
    {
     "name": "stdout",
     "output_type": "stream",
     "text": [
      "Performing stepwise search to minimize aic\n",
      " ARIMA(2,1,2)(0,0,0)[0] intercept   : AIC=7888.562, Time=0.65 sec\n",
      " ARIMA(0,1,0)(0,0,0)[0] intercept   : AIC=7947.317, Time=0.03 sec\n",
      " ARIMA(1,1,0)(0,0,0)[0] intercept   : AIC=7945.272, Time=0.10 sec\n",
      " ARIMA(0,1,1)(0,0,0)[0] intercept   : AIC=7942.582, Time=0.19 sec\n",
      " ARIMA(0,1,0)(0,0,0)[0]             : AIC=7945.412, Time=0.02 sec\n",
      " ARIMA(1,1,2)(0,0,0)[0] intercept   : AIC=7886.848, Time=0.29 sec\n",
      " ARIMA(0,1,2)(0,0,0)[0] intercept   : AIC=7897.903, Time=0.26 sec\n",
      " ARIMA(1,1,1)(0,0,0)[0] intercept   : AIC=7894.148, Time=0.21 sec\n",
      " ARIMA(1,1,3)(0,0,0)[0] intercept   : AIC=7895.522, Time=0.65 sec\n",
      " ARIMA(0,1,3)(0,0,0)[0] intercept   : AIC=7887.323, Time=0.32 sec\n",
      " ARIMA(2,1,1)(0,0,0)[0] intercept   : AIC=7886.563, Time=0.35 sec\n",
      " ARIMA(2,1,0)(0,0,0)[0] intercept   : AIC=7918.987, Time=0.08 sec\n",
      " ARIMA(3,1,1)(0,0,0)[0] intercept   : AIC=7888.561, Time=0.46 sec\n",
      " ARIMA(3,1,0)(0,0,0)[0] intercept   : AIC=7905.150, Time=0.33 sec\n",
      " ARIMA(3,1,2)(0,0,0)[0] intercept   : AIC=7880.328, Time=0.73 sec\n",
      " ARIMA(4,1,2)(0,0,0)[0] intercept   : AIC=7878.135, Time=0.98 sec\n",
      " ARIMA(4,1,1)(0,0,0)[0] intercept   : AIC=7890.435, Time=0.45 sec\n",
      " ARIMA(5,1,2)(0,0,0)[0] intercept   : AIC=7875.114, Time=1.16 sec\n",
      " ARIMA(5,1,1)(0,0,0)[0] intercept   : AIC=7890.398, Time=0.61 sec\n",
      " ARIMA(5,1,3)(0,0,0)[0] intercept   : AIC=7848.044, Time=1.71 sec\n",
      " ARIMA(4,1,3)(0,0,0)[0] intercept   : AIC=7856.603, Time=1.49 sec\n",
      " ARIMA(5,1,4)(0,0,0)[0] intercept   : AIC=7852.393, Time=1.79 sec\n",
      " ARIMA(4,1,4)(0,0,0)[0] intercept   : AIC=7850.988, Time=1.83 sec\n",
      " ARIMA(5,1,3)(0,0,0)[0]             : AIC=7846.968, Time=1.05 sec\n",
      " ARIMA(4,1,3)(0,0,0)[0]             : AIC=7854.267, Time=0.88 sec\n",
      " ARIMA(5,1,2)(0,0,0)[0]             : AIC=7873.420, Time=0.73 sec\n",
      " ARIMA(5,1,4)(0,0,0)[0]             : AIC=7850.683, Time=1.07 sec\n",
      " ARIMA(4,1,2)(0,0,0)[0]             : AIC=7876.390, Time=0.40 sec\n",
      " ARIMA(4,1,4)(0,0,0)[0]             : AIC=7849.886, Time=1.08 sec\n",
      "\n",
      "Best model:  ARIMA(5,1,3)(0,0,0)[0]          \n",
      "Total fit time: 19.990 seconds\n"
     ]
    },
    {
     "data": {
      "text/html": [
       "<table class=\"simpletable\">\n",
       "<caption>SARIMAX Results</caption>\n",
       "<tr>\n",
       "  <th>Dep. Variable:</th>           <td>y</td>        <th>  No. Observations:  </th>    <td>793</td>   \n",
       "</tr>\n",
       "<tr>\n",
       "  <th>Model:</th>           <td>SARIMAX(5, 1, 3)</td> <th>  Log Likelihood     </th> <td>-3914.484</td>\n",
       "</tr>\n",
       "<tr>\n",
       "  <th>Date:</th>            <td>Tue, 05 Mar 2024</td> <th>  AIC                </th> <td>7846.968</td> \n",
       "</tr>\n",
       "<tr>\n",
       "  <th>Time:</th>                <td>18:01:25</td>     <th>  BIC                </th> <td>7889.039</td> \n",
       "</tr>\n",
       "<tr>\n",
       "  <th>Sample:</th>                  <td>0</td>        <th>  HQIC               </th> <td>7863.137</td> \n",
       "</tr>\n",
       "<tr>\n",
       "  <th></th>                      <td> - 793</td>      <th>                     </th>     <td> </td>    \n",
       "</tr>\n",
       "<tr>\n",
       "  <th>Covariance Type:</th>        <td>opg</td>       <th>                     </th>     <td> </td>    \n",
       "</tr>\n",
       "</table>\n",
       "<table class=\"simpletable\">\n",
       "<tr>\n",
       "     <td></td>       <th>coef</th>     <th>std err</th>      <th>z</th>      <th>P>|z|</th>  <th>[0.025</th>    <th>0.975]</th>  \n",
       "</tr>\n",
       "<tr>\n",
       "  <th>ar.L1</th>  <td>    0.0341</td> <td>    0.074</td> <td>    0.459</td> <td> 0.646</td> <td>   -0.111</td> <td>    0.180</td>\n",
       "</tr>\n",
       "<tr>\n",
       "  <th>ar.L2</th>  <td>   -0.8019</td> <td>    0.049</td> <td>  -16.362</td> <td> 0.000</td> <td>   -0.898</td> <td>   -0.706</td>\n",
       "</tr>\n",
       "<tr>\n",
       "  <th>ar.L3</th>  <td>    0.2790</td> <td>    0.092</td> <td>    3.036</td> <td> 0.002</td> <td>    0.099</td> <td>    0.459</td>\n",
       "</tr>\n",
       "<tr>\n",
       "  <th>ar.L4</th>  <td>   -0.1126</td> <td>    0.033</td> <td>   -3.420</td> <td> 0.001</td> <td>   -0.177</td> <td>   -0.048</td>\n",
       "</tr>\n",
       "<tr>\n",
       "  <th>ar.L5</th>  <td>   -0.1757</td> <td>    0.037</td> <td>   -4.726</td> <td> 0.000</td> <td>   -0.248</td> <td>   -0.103</td>\n",
       "</tr>\n",
       "<tr>\n",
       "  <th>ma.L1</th>  <td>   -0.1658</td> <td>    0.076</td> <td>   -2.187</td> <td> 0.029</td> <td>   -0.314</td> <td>   -0.017</td>\n",
       "</tr>\n",
       "<tr>\n",
       "  <th>ma.L2</th>  <td>    0.6361</td> <td>    0.037</td> <td>   17.039</td> <td> 0.000</td> <td>    0.563</td> <td>    0.709</td>\n",
       "</tr>\n",
       "<tr>\n",
       "  <th>ma.L3</th>  <td>   -0.5751</td> <td>    0.067</td> <td>   -8.530</td> <td> 0.000</td> <td>   -0.707</td> <td>   -0.443</td>\n",
       "</tr>\n",
       "<tr>\n",
       "  <th>sigma2</th> <td> 1191.3166</td> <td>   37.837</td> <td>   31.486</td> <td> 0.000</td> <td> 1117.158</td> <td> 1265.476</td>\n",
       "</tr>\n",
       "</table>\n",
       "<table class=\"simpletable\">\n",
       "<tr>\n",
       "  <th>Ljung-Box (L1) (Q):</th>     <td>0.00</td> <th>  Jarque-Bera (JB):  </th> <td>973.18</td>\n",
       "</tr>\n",
       "<tr>\n",
       "  <th>Prob(Q):</th>                <td>0.99</td> <th>  Prob(JB):          </th>  <td>0.00</td> \n",
       "</tr>\n",
       "<tr>\n",
       "  <th>Heteroskedasticity (H):</th> <td>0.44</td> <th>  Skew:              </th>  <td>-0.18</td>\n",
       "</tr>\n",
       "<tr>\n",
       "  <th>Prob(H) (two-sided):</th>    <td>0.00</td> <th>  Kurtosis:          </th>  <td>8.42</td> \n",
       "</tr>\n",
       "</table><br/><br/>Warnings:<br/>[1] Covariance matrix calculated using the outer product of gradients (complex-step)."
      ],
      "text/latex": [
       "\\begin{center}\n",
       "\\begin{tabular}{lclc}\n",
       "\\toprule\n",
       "\\textbf{Dep. Variable:}          &        y         & \\textbf{  No. Observations:  } &    793      \\\\\n",
       "\\textbf{Model:}                  & SARIMAX(5, 1, 3) & \\textbf{  Log Likelihood     } & -3914.484   \\\\\n",
       "\\textbf{Date:}                   & Tue, 05 Mar 2024 & \\textbf{  AIC                } &  7846.968   \\\\\n",
       "\\textbf{Time:}                   &     18:01:25     & \\textbf{  BIC                } &  7889.039   \\\\\n",
       "\\textbf{Sample:}                 &        0         & \\textbf{  HQIC               } &  7863.137   \\\\\n",
       "\\textbf{}                        &       - 793      & \\textbf{                     } &             \\\\\n",
       "\\textbf{Covariance Type:}        &       opg        & \\textbf{                     } &             \\\\\n",
       "\\bottomrule\n",
       "\\end{tabular}\n",
       "\\begin{tabular}{lcccccc}\n",
       "                & \\textbf{coef} & \\textbf{std err} & \\textbf{z} & \\textbf{P$> |$z$|$} & \\textbf{[0.025} & \\textbf{0.975]}  \\\\\n",
       "\\midrule\n",
       "\\textbf{ar.L1}  &       0.0341  &        0.074     &     0.459  &         0.646        &       -0.111    &        0.180     \\\\\n",
       "\\textbf{ar.L2}  &      -0.8019  &        0.049     &   -16.362  &         0.000        &       -0.898    &       -0.706     \\\\\n",
       "\\textbf{ar.L3}  &       0.2790  &        0.092     &     3.036  &         0.002        &        0.099    &        0.459     \\\\\n",
       "\\textbf{ar.L4}  &      -0.1126  &        0.033     &    -3.420  &         0.001        &       -0.177    &       -0.048     \\\\\n",
       "\\textbf{ar.L5}  &      -0.1757  &        0.037     &    -4.726  &         0.000        &       -0.248    &       -0.103     \\\\\n",
       "\\textbf{ma.L1}  &      -0.1658  &        0.076     &    -2.187  &         0.029        &       -0.314    &       -0.017     \\\\\n",
       "\\textbf{ma.L2}  &       0.6361  &        0.037     &    17.039  &         0.000        &        0.563    &        0.709     \\\\\n",
       "\\textbf{ma.L3}  &      -0.5751  &        0.067     &    -8.530  &         0.000        &       -0.707    &       -0.443     \\\\\n",
       "\\textbf{sigma2} &    1191.3166  &       37.837     &    31.486  &         0.000        &     1117.158    &     1265.476     \\\\\n",
       "\\bottomrule\n",
       "\\end{tabular}\n",
       "\\begin{tabular}{lclc}\n",
       "\\textbf{Ljung-Box (L1) (Q):}     & 0.00 & \\textbf{  Jarque-Bera (JB):  } & 973.18  \\\\\n",
       "\\textbf{Prob(Q):}                & 0.99 & \\textbf{  Prob(JB):          } &  0.00   \\\\\n",
       "\\textbf{Heteroskedasticity (H):} & 0.44 & \\textbf{  Skew:              } & -0.18   \\\\\n",
       "\\textbf{Prob(H) (two-sided):}    & 0.00 & \\textbf{  Kurtosis:          } &  8.42   \\\\\n",
       "\\bottomrule\n",
       "\\end{tabular}\n",
       "%\\caption{SARIMAX Results}\n",
       "\\end{center}\n",
       "\n",
       "Warnings: \\newline\n",
       " [1] Covariance matrix calculated using the outer product of gradients (complex-step)."
      ],
      "text/plain": [
       "<class 'statsmodels.iolib.summary.Summary'>\n",
       "\"\"\"\n",
       "                               SARIMAX Results                                \n",
       "==============================================================================\n",
       "Dep. Variable:                      y   No. Observations:                  793\n",
       "Model:               SARIMAX(5, 1, 3)   Log Likelihood               -3914.484\n",
       "Date:                Tue, 05 Mar 2024   AIC                           7846.968\n",
       "Time:                        18:01:25   BIC                           7889.039\n",
       "Sample:                             0   HQIC                          7863.137\n",
       "                                - 793                                         \n",
       "Covariance Type:                  opg                                         \n",
       "==============================================================================\n",
       "                 coef    std err          z      P>|z|      [0.025      0.975]\n",
       "------------------------------------------------------------------------------\n",
       "ar.L1          0.0341      0.074      0.459      0.646      -0.111       0.180\n",
       "ar.L2         -0.8019      0.049    -16.362      0.000      -0.898      -0.706\n",
       "ar.L3          0.2790      0.092      3.036      0.002       0.099       0.459\n",
       "ar.L4         -0.1126      0.033     -3.420      0.001      -0.177      -0.048\n",
       "ar.L5         -0.1757      0.037     -4.726      0.000      -0.248      -0.103\n",
       "ma.L1         -0.1658      0.076     -2.187      0.029      -0.314      -0.017\n",
       "ma.L2          0.6361      0.037     17.039      0.000       0.563       0.709\n",
       "ma.L3         -0.5751      0.067     -8.530      0.000      -0.707      -0.443\n",
       "sigma2      1191.3166     37.837     31.486      0.000    1117.158    1265.476\n",
       "===================================================================================\n",
       "Ljung-Box (L1) (Q):                   0.00   Jarque-Bera (JB):               973.18\n",
       "Prob(Q):                              0.99   Prob(JB):                         0.00\n",
       "Heteroskedasticity (H):               0.44   Skew:                            -0.18\n",
       "Prob(H) (two-sided):                  0.00   Kurtosis:                         8.42\n",
       "===================================================================================\n",
       "\n",
       "Warnings:\n",
       "[1] Covariance matrix calculated using the outer product of gradients (complex-step).\n",
       "\"\"\""
      ]
     },
     "execution_count": 13,
     "metadata": {},
     "output_type": "execute_result"
    }
   ],
   "source": [
    "#trazenje najboljih parametara za ARIMU korsitenjem fit funkcije \n",
    "\n",
    "from pmdarima import auto_arima\n",
    "model = auto_arima(df['ukupan_broj_gostiju'], seasonal=False, trace=True)\n",
    "model.summary()"
   ]
  },
  {
   "cell_type": "code",
   "execution_count": null,
   "id": "deda539e-1d5b-4070-8e74-e1855217dbfd",
   "metadata": {},
   "outputs": [],
   "source": []
  }
 ],
 "metadata": {
  "kernelspec": {
   "display_name": "Python 3 (ipykernel)",
   "language": "python",
   "name": "python3"
  },
  "language_info": {
   "codemirror_mode": {
    "name": "ipython",
    "version": 3
   },
   "file_extension": ".py",
   "mimetype": "text/x-python",
   "name": "python",
   "nbconvert_exporter": "python",
   "pygments_lexer": "ipython3",
   "version": "3.12.0"
  }
 },
 "nbformat": 4,
 "nbformat_minor": 5
}
