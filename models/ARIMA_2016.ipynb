{
 "cells": [
  {
   "cell_type": "code",
   "execution_count": 141,
   "id": "b879620f-e6fd-478b-b07e-459ca7f6dedb",
   "metadata": {},
   "outputs": [],
   "source": [
    "import pandas as pd\n",
    "import matplotlib.pyplot as plt\n",
    "import seaborn as sns\n",
    "from statsmodels.tsa.stattools import adfuller\n",
    "from statsmodels.graphics.tsaplots import plot_acf, plot_pacf\n",
    "from statsmodels.tsa.arima.model import ARIMA\n",
    "from pmdarima import auto_arima\n",
    "path = '/Users/tina/Documents/LUMEN/dnevna_popunjenost_hotel0_2016.csv'\n",
    "df = pd.read_csv(path)\n"
   ]
  },
  {
   "cell_type": "code",
   "execution_count": 142,
   "id": "98b08d1f-f524-4364-baef-96a40c67f41c",
   "metadata": {},
   "outputs": [
    {
     "name": "stdout",
     "output_type": "stream",
     "text": [
      "ADF Statistic: -2.0672693314890958\n",
      "p-value: 0.25787774149895804\n",
      "Critical Values:\n",
      "   1%: -3.44911857009962\n",
      "   5%: -2.8698097654570507\n",
      "   10%: -2.5711757061225153\n",
      "\n",
      "Serija nije stacionarna i treba je diferencirati\n"
     ]
    }
   ],
   "source": [
    "#provjera stacionarnosti vremenske serije koristeći Augmented Dickey-Fuller (ADF) test\n",
    "result = adfuller(df['ukupan_broj_gostiju'])\n",
    "# Ispis rezultata\n",
    "print('ADF Statistic:', result[0])\n",
    "print('p-value:', result[1])\n",
    "print('Critical Values:')\n",
    "for key, value in result[4].items():\n",
    "    print(f'   {key}: {value}')\n",
    "\n",
    "# Interpretacija rezultata\n",
    "if result[1] < 0.05:\n",
    "    print(\"\\nSerija je stacionarna.\")\n",
    "else:\n",
    "    print(\"\\nSerija nije stacionarna i treba je diferencirati\")\n",
    "#pocetna hipoteza je da serija nije stacionarna. ADF statistika mora biti manja od kriticnih vrijednosti kako bi mogli\n",
    "#odbaciti pocetnu hipotezu sa 99%, 95% ili 90% sigurnosti\n",
    "#posto je ADF statistika veca od krtiicnih vrijednosti ne mozemo odbaciti hipotezu i moramo diferencirati podatke"
   ]
  },
  {
   "cell_type": "code",
   "execution_count": 26,
   "id": "e4f3cec5-c1c8-4997-8b20-3603b397efb1",
   "metadata": {},
   "outputs": [
    {
     "data": {
      "text/html": [
       "<div>\n",
       "<style scoped>\n",
       "    .dataframe tbody tr th:only-of-type {\n",
       "        vertical-align: middle;\n",
       "    }\n",
       "\n",
       "    .dataframe tbody tr th {\n",
       "        vertical-align: top;\n",
       "    }\n",
       "\n",
       "    .dataframe thead th {\n",
       "        text-align: right;\n",
       "    }\n",
       "</style>\n",
       "<table border=\"1\" class=\"dataframe\">\n",
       "  <thead>\n",
       "    <tr style=\"text-align: right;\">\n",
       "      <th></th>\n",
       "      <th>datum</th>\n",
       "      <th>ukupan_broj_gostiju</th>\n",
       "      <th>broj_djece_gostiju</th>\n",
       "      <th>broj_odraslih_gostiju</th>\n",
       "    </tr>\n",
       "  </thead>\n",
       "  <tbody>\n",
       "    <tr>\n",
       "      <th>0</th>\n",
       "      <td>2016-01-01</td>\n",
       "      <td>24</td>\n",
       "      <td>6</td>\n",
       "      <td>18</td>\n",
       "    </tr>\n",
       "    <tr>\n",
       "      <th>1</th>\n",
       "      <td>2016-01-02</td>\n",
       "      <td>92</td>\n",
       "      <td>3</td>\n",
       "      <td>89</td>\n",
       "    </tr>\n",
       "    <tr>\n",
       "      <th>2</th>\n",
       "      <td>2016-01-03</td>\n",
       "      <td>98</td>\n",
       "      <td>2</td>\n",
       "      <td>96</td>\n",
       "    </tr>\n",
       "    <tr>\n",
       "      <th>3</th>\n",
       "      <td>2016-01-04</td>\n",
       "      <td>132</td>\n",
       "      <td>1</td>\n",
       "      <td>131</td>\n",
       "    </tr>\n",
       "    <tr>\n",
       "      <th>4</th>\n",
       "      <td>2016-01-05</td>\n",
       "      <td>115</td>\n",
       "      <td>1</td>\n",
       "      <td>114</td>\n",
       "    </tr>\n",
       "  </tbody>\n",
       "</table>\n",
       "</div>"
      ],
      "text/plain": [
       "        datum  ukupan_broj_gostiju  broj_djece_gostiju  broj_odraslih_gostiju\n",
       "0  2016-01-01                   24                   6                     18\n",
       "1  2016-01-02                   92                   3                     89\n",
       "2  2016-01-03                   98                   2                     96\n",
       "3  2016-01-04                  132                   1                    131\n",
       "4  2016-01-05                  115                   1                    114"
      ]
     },
     "execution_count": 26,
     "metadata": {},
     "output_type": "execute_result"
    }
   ],
   "source": [
    "df.head()"
   ]
  },
  {
   "cell_type": "code",
   "execution_count": null,
   "id": "6f18a982-026c-464b-88f4-edfec5a90c93",
   "metadata": {},
   "outputs": [],
   "source": []
  },
  {
   "cell_type": "code",
   "execution_count": 18,
   "id": "37cd3dcf-1741-432c-9b3b-65c8de1bc9b9",
   "metadata": {},
   "outputs": [
    {
     "name": "stdout",
     "output_type": "stream",
     "text": [
      "ADF Statistic: -2.095675212862444\n",
      "p-value: 0.246257172508683\n",
      "Critical Values:\n",
      "   1%: -3.44911857009962\n",
      "   5%: -2.8698097654570507\n",
      "   10%: -2.5711757061225153\n",
      "\n",
      "Serija nije stacionarna i treba je diferencirati\n"
     ]
    }
   ],
   "source": [
    "#ADF test za broj odraslih\n",
    "result_odrasli = adfuller(df['broj_odraslih_gostiju'])\n",
    "print('ADF Statistic:', result_odrasli[0])\n",
    "print('p-value:', result_odrasli[1])\n",
    "print('Critical Values:')\n",
    "for key, value in result_odrasli[4].items():\n",
    "    print(f'   {key}: {value}')\n",
    "\n",
    "# Interpretacija rezultata\n",
    "if result_odrasli[1] < 0.05:\n",
    "    print(\"\\nSerija je stacionarna.\")\n",
    "else:\n",
    "    print(\"\\nSerija nije stacionarna i treba je diferencirati\")"
   ]
  },
  {
   "cell_type": "code",
   "execution_count": 143,
   "id": "03d8b468-91c7-469f-93f2-f701a22c189f",
   "metadata": {},
   "outputs": [],
   "source": [
    "#diferenciranje podataka\n",
    "df['diferencirano_ukupno'] = df['ukupan_broj_gostiju'].diff()\n",
    "df.to_csv('/Users/tina/Documents/LUMEN/dnevna_popunjenost_diferencirano_hotel0_2016.csv', index=False)\n",
    "df_dif = pd.read_csv('/Users/tina/Documents/LUMEN/dnevna_popunjenost_diferencirano_hotel0_2016.csv')"
   ]
  },
  {
   "cell_type": "code",
   "execution_count": 144,
   "id": "4849a3eb-c2e2-47aa-b18d-ca5ba3d31779",
   "metadata": {},
   "outputs": [
    {
     "data": {
      "text/html": [
       "<div>\n",
       "<style scoped>\n",
       "    .dataframe tbody tr th:only-of-type {\n",
       "        vertical-align: middle;\n",
       "    }\n",
       "\n",
       "    .dataframe tbody tr th {\n",
       "        vertical-align: top;\n",
       "    }\n",
       "\n",
       "    .dataframe thead th {\n",
       "        text-align: right;\n",
       "    }\n",
       "</style>\n",
       "<table border=\"1\" class=\"dataframe\">\n",
       "  <thead>\n",
       "    <tr style=\"text-align: right;\">\n",
       "      <th></th>\n",
       "      <th>datum</th>\n",
       "      <th>ukupan_broj_gostiju</th>\n",
       "      <th>broj_djece_gostiju</th>\n",
       "      <th>broj_odraslih_gostiju</th>\n",
       "      <th>diferencirano_ukupno</th>\n",
       "    </tr>\n",
       "  </thead>\n",
       "  <tbody>\n",
       "    <tr>\n",
       "      <th>0</th>\n",
       "      <td>2016-01-01</td>\n",
       "      <td>24</td>\n",
       "      <td>6</td>\n",
       "      <td>18</td>\n",
       "      <td>NaN</td>\n",
       "    </tr>\n",
       "    <tr>\n",
       "      <th>1</th>\n",
       "      <td>2016-01-02</td>\n",
       "      <td>92</td>\n",
       "      <td>3</td>\n",
       "      <td>89</td>\n",
       "      <td>68.0</td>\n",
       "    </tr>\n",
       "    <tr>\n",
       "      <th>2</th>\n",
       "      <td>2016-01-03</td>\n",
       "      <td>98</td>\n",
       "      <td>2</td>\n",
       "      <td>96</td>\n",
       "      <td>6.0</td>\n",
       "    </tr>\n",
       "    <tr>\n",
       "      <th>3</th>\n",
       "      <td>2016-01-04</td>\n",
       "      <td>132</td>\n",
       "      <td>1</td>\n",
       "      <td>131</td>\n",
       "      <td>34.0</td>\n",
       "    </tr>\n",
       "    <tr>\n",
       "      <th>4</th>\n",
       "      <td>2016-01-05</td>\n",
       "      <td>115</td>\n",
       "      <td>1</td>\n",
       "      <td>114</td>\n",
       "      <td>-17.0</td>\n",
       "    </tr>\n",
       "  </tbody>\n",
       "</table>\n",
       "</div>"
      ],
      "text/plain": [
       "        datum  ukupan_broj_gostiju  broj_djece_gostiju  broj_odraslih_gostiju  \\\n",
       "0  2016-01-01                   24                   6                     18   \n",
       "1  2016-01-02                   92                   3                     89   \n",
       "2  2016-01-03                   98                   2                     96   \n",
       "3  2016-01-04                  132                   1                    131   \n",
       "4  2016-01-05                  115                   1                    114   \n",
       "\n",
       "   diferencirano_ukupno  \n",
       "0                   NaN  \n",
       "1                  68.0  \n",
       "2                   6.0  \n",
       "3                  34.0  \n",
       "4                 -17.0  "
      ]
     },
     "execution_count": 144,
     "metadata": {},
     "output_type": "execute_result"
    }
   ],
   "source": [
    "\n",
    "df_dif.head()"
   ]
  },
  {
   "cell_type": "code",
   "execution_count": 44,
   "id": "112d03ab-ac1a-4e3c-b8c4-8d2f92fc06b1",
   "metadata": {},
   "outputs": [
    {
     "name": "stdout",
     "output_type": "stream",
     "text": [
      "ADF Statistic: -5.381881631072805\n",
      "p-value: 3.6969971945827884e-06\n",
      "Critical Values:\n",
      "   1%: -3.44911857009962\n",
      "   5%: -2.8698097654570507\n",
      "   10%: -2.5711757061225153\n",
      "\n",
      "Serija je stacionarna.\n"
     ]
    }
   ],
   "source": [
    "#ponovljeni ADF test na diferenciranim podatcima \n",
    "df_dif = df_dif.dropna()\n",
    "result = adfuller(df_dif['diferencirano_ukupno'])\n",
    "print('ADF Statistic:', result[0])\n",
    "print('p-value:', result[1])\n",
    "print('Critical Values:')\n",
    "for key, value in result[4].items():\n",
    "    print(f'   {key}: {value}')\n",
    "\n",
    "# Interpretacija rezultata\n",
    "if result[1] < 0.05:\n",
    "    print(\"\\nSerija je stacionarna.\")\n",
    "else:\n",
    "    print(\"\\nSerija nije stacionarna i treba je diferencirati\")"
   ]
  },
  {
   "cell_type": "code",
   "execution_count": 45,
   "id": "cc146999-f62a-4efb-9d25-0e02c1bb4928",
   "metadata": {},
   "outputs": [],
   "source": [
    "#Kreiranje ACF (Autocorrelation Function) i PACF (Partial Autocorrelation Function) grafikona koji nam sluze\n",
    "#za odredivanje p i q parametara u ARIM-i\n"
   ]
  },
  {
   "cell_type": "code",
   "execution_count": 56,
   "id": "8ee7ba59-9609-4298-91a8-bd2a8ff93422",
   "metadata": {},
   "outputs": [
    {
     "data": {
      "text/plain": [
       "<Figure size 1000x600 with 0 Axes>"
      ]
     },
     "metadata": {},
     "output_type": "display_data"
    },
    {
     "data": {
      "image/png": "[encoded data removed]",
      "text/plain": [
       "<Figure size 640x480 with 1 Axes>"
      ]
     },
     "metadata": {},
     "output_type": "display_data"
    }
   ],
   "source": [
    "#ACF grafikon\n",
    "plt.figure(figsize=(10, 6))\n",
    "plot_acf(df_dif['diferencirano_ukupno'], lags=50)\n",
    "plt.title('ACF grafikon')\n",
    "plt.show()"
   ]
  },
  {
   "cell_type": "code",
   "execution_count": 59,
   "id": "9e13d64b-80fd-4537-9d68-d15e384d2df6",
   "metadata": {},
   "outputs": [
    {
     "data": {
      "text/plain": [
       "<Figure size 1000x600 with 0 Axes>"
      ]
     },
     "metadata": {},
     "output_type": "display_data"
    },
    {
     "data": {
      "image/png": "[encoded data removed]",
      "text/plain": [
       "<Figure size 640x480 with 1 Axes>"
      ]
     },
     "metadata": {},
     "output_type": "display_data"
    }
   ],
   "source": [
    "#PACF grafikon\n",
    "plt.figure(figsize=(10, 6))\n",
    "plot_pacf(df_dif['diferencirano_ukupno'], lags=50)\n",
    "plt.title('PACF grafikon')\n",
    "plt.show()"
   ]
  },
  {
   "cell_type": "code",
   "execution_count": 71,
   "id": "37b1d4c2-f951-46d8-b693-85f3ff6876b5",
   "metadata": {},
   "outputs": [
    {
     "name": "stdout",
     "output_type": "stream",
     "text": [
      "<class 'pandas.core.frame.DataFrame'>\n",
      "RangeIndex: 366 entries, 0 to 365\n",
      "Data columns (total 5 columns):\n",
      " #   Column                 Non-Null Count  Dtype         \n",
      "---  ------                 --------------  -----         \n",
      " 0   datum                  366 non-null    datetime64[ns]\n",
      " 1   ukupan_broj_gostiju    366 non-null    int64         \n",
      " 2   broj_djece_gostiju     366 non-null    int64         \n",
      " 3   broj_odraslih_gostiju  366 non-null    int64         \n",
      " 4   diferencirano_ukupno   365 non-null    float64       \n",
      "dtypes: datetime64[ns](1), float64(1), int64(3)\n",
      "memory usage: 14.4 KB\n"
     ]
    }
   ],
   "source": [
    "df_dif.info()"
   ]
  },
  {
   "cell_type": "code",
   "execution_count": 146,
   "id": "86d65461-580c-4e0f-bc24-7b796cfc61c5",
   "metadata": {},
   "outputs": [],
   "source": [
    "df_dif['datum'] = pd.to_datetime(df_dif['datum'])"
   ]
  },
  {
   "cell_type": "code",
   "execution_count": 147,
   "id": "4b2d3d27-f67c-44b1-bbfc-80cc2fbb0f27",
   "metadata": {},
   "outputs": [],
   "source": [
    "training_df_dif = df_dif[df_dif['datum'].dt.month<=9]"
   ]
  },
  {
   "cell_type": "code",
   "execution_count": 148,
   "id": "6e18b21f-3077-42a4-aef1-62b59f84d001",
   "metadata": {},
   "outputs": [
    {
     "name": "stdout",
     "output_type": "stream",
     "text": [
      "<class 'pandas.core.frame.DataFrame'>\n",
      "Index: 273 entries, 1 to 273\n",
      "Data columns (total 5 columns):\n",
      " #   Column                 Non-Null Count  Dtype         \n",
      "---  ------                 --------------  -----         \n",
      " 0   datum                  273 non-null    datetime64[ns]\n",
      " 1   ukupan_broj_gostiju    273 non-null    int64         \n",
      " 2   broj_djece_gostiju     273 non-null    int64         \n",
      " 3   broj_odraslih_gostiju  273 non-null    int64         \n",
      " 4   diferencirano_ukupno   273 non-null    float64       \n",
      "dtypes: datetime64[ns](1), float64(1), int64(3)\n",
      "memory usage: 12.8 KB\n"
     ]
    }
   ],
   "source": [
    "training_df_dif = training_df_dif.dropna()\n",
    "training_df_dif.info()\n"
   ]
  },
  {
   "cell_type": "code",
   "execution_count": 149,
   "id": "7b411f35-be85-4edb-b8a6-61d83628e4c0",
   "metadata": {},
   "outputs": [
    {
     "data": {
      "text/html": [
       "<div>\n",
       "<style scoped>\n",
       "    .dataframe tbody tr th:only-of-type {\n",
       "        vertical-align: middle;\n",
       "    }\n",
       "\n",
       "    .dataframe tbody tr th {\n",
       "        vertical-align: top;\n",
       "    }\n",
       "\n",
       "    .dataframe thead th {\n",
       "        text-align: right;\n",
       "    }\n",
       "</style>\n",
       "<table border=\"1\" class=\"dataframe\">\n",
       "  <thead>\n",
       "    <tr style=\"text-align: right;\">\n",
       "      <th></th>\n",
       "      <th>Unnamed: 0</th>\n",
       "      <th>ukupan_broj_gostiju</th>\n",
       "      <th>broj_djece_gostiju</th>\n",
       "      <th>broj_odraslih_gostiju</th>\n",
       "      <th>diferencirano_ukupno</th>\n",
       "    </tr>\n",
       "    <tr>\n",
       "      <th>datum</th>\n",
       "      <th></th>\n",
       "      <th></th>\n",
       "      <th></th>\n",
       "      <th></th>\n",
       "      <th></th>\n",
       "    </tr>\n",
       "  </thead>\n",
       "  <tbody>\n",
       "    <tr>\n",
       "      <th>2016-01-02</th>\n",
       "      <td>1</td>\n",
       "      <td>92</td>\n",
       "      <td>3</td>\n",
       "      <td>89</td>\n",
       "      <td>68.0</td>\n",
       "    </tr>\n",
       "    <tr>\n",
       "      <th>2016-01-03</th>\n",
       "      <td>2</td>\n",
       "      <td>98</td>\n",
       "      <td>2</td>\n",
       "      <td>96</td>\n",
       "      <td>6.0</td>\n",
       "    </tr>\n",
       "    <tr>\n",
       "      <th>2016-01-04</th>\n",
       "      <td>3</td>\n",
       "      <td>132</td>\n",
       "      <td>1</td>\n",
       "      <td>131</td>\n",
       "      <td>34.0</td>\n",
       "    </tr>\n",
       "    <tr>\n",
       "      <th>2016-01-05</th>\n",
       "      <td>4</td>\n",
       "      <td>115</td>\n",
       "      <td>1</td>\n",
       "      <td>114</td>\n",
       "      <td>-17.0</td>\n",
       "    </tr>\n",
       "    <tr>\n",
       "      <th>2016-01-06</th>\n",
       "      <td>5</td>\n",
       "      <td>110</td>\n",
       "      <td>0</td>\n",
       "      <td>110</td>\n",
       "      <td>-5.0</td>\n",
       "    </tr>\n",
       "  </tbody>\n",
       "</table>\n",
       "</div>"
      ],
      "text/plain": [
       "            Unnamed: 0  ukupan_broj_gostiju  broj_djece_gostiju  \\\n",
       "datum                                                             \n",
       "2016-01-02           1                   92                   3   \n",
       "2016-01-03           2                   98                   2   \n",
       "2016-01-04           3                  132                   1   \n",
       "2016-01-05           4                  115                   1   \n",
       "2016-01-06           5                  110                   0   \n",
       "\n",
       "            broj_odraslih_gostiju  diferencirano_ukupno  \n",
       "datum                                                    \n",
       "2016-01-02                     89                  68.0  \n",
       "2016-01-03                     96                   6.0  \n",
       "2016-01-04                    131                  34.0  \n",
       "2016-01-05                    114                 -17.0  \n",
       "2016-01-06                    110                  -5.0  "
      ]
     },
     "execution_count": 149,
     "metadata": {},
     "output_type": "execute_result"
    }
   ],
   "source": [
    "training_df_dif.to_csv('/Users/tina/Documents/LUMEN/training_data2016.csv')\n",
    "training = pd.read_csv('/Users/tina/Documents/LUMEN/training_data2016.csv', index_col = 'datum', parse_dates = True)\n",
    "#training = training.drop(training.columns[0], axis=1)\n",
    "training.head()"
   ]
  },
  {
   "cell_type": "code",
   "execution_count": 135,
   "id": "0b8d2ce1-817d-4d58-a9a0-6aa319368cb9",
   "metadata": {},
   "outputs": [],
   "source": [
    "stepwise_fit = autoarima(training['ukupan_broj_gostiju'])\n"
   ]
  },
  {
   "cell_type": "code",
   "execution_count": null,
   "id": "deda539e-1d5b-4070-8e74-e1855217dbfd",
   "metadata": {},
   "outputs": [],
   "source": []
  }
 ],
 "metadata": {
  "kernelspec": {
   "display_name": "Python 3 (ipykernel)",
   "language": "python",
   "name": "python3"
  },
  "language_info": {
   "codemirror_mode": {
    "name": "ipython",
    "version": 3
   },
   "file_extension": ".py",
   "mimetype": "text/x-python",
   "name": "python",
   "nbconvert_exporter": "python",
   "pygments_lexer": "ipython3",
   "version": "3.12.0"
  }
 },
 "nbformat": 4,
 "nbformat_minor": 5
}
