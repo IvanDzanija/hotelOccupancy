{
 "cells": [
  {
   "cell_type": "code",
   "execution_count": 1,
   "outputs": [
    {
     "name": "stdout",
     "output_type": "stream",
     "text": [
      "Requirement already satisfied: pandas in c:\\users\\user\\documents\\projects\\ocr_testing\\venv\\lib\\site-packages (2.1.3)\n",
      "Requirement already satisfied: numpy<2,>=1.22.4 in c:\\users\\user\\appdata\\local\\programs\\python\\python310\\lib\\site-packages (from pandas) (1.26.1)\n",
      "Requirement already satisfied: python-dateutil>=2.8.2 in c:\\users\\user\\appdata\\local\\programs\\python\\python310\\lib\\site-packages (from pandas) (2.8.2)\n",
      "Requirement already satisfied: pytz>=2020.1 in c:\\users\\user\\documents\\projects\\ocr_testing\\venv\\lib\\site-packages (from pandas) (2023.3.post1)\n",
      "Requirement already satisfied: tzdata>=2022.1 in c:\\users\\user\\documents\\projects\\ocr_testing\\venv\\lib\\site-packages (from pandas) (2023.4)\n",
      "Requirement already satisfied: six>=1.5 in c:\\users\\user\\appdata\\local\\programs\\python\\python310\\lib\\site-packages (from python-dateutil>=2.8.2->pandas) (1.16.0)\n"
     ]
    },
    {
     "name": "stderr",
     "output_type": "stream",
     "text": [
      "\n",
      "[notice] A new release of pip is available: 23.2.1 -> 23.3.2\n",
      "[notice] To update, run: python.exe -m pip install --upgrade pip\n"
     ]
    },
    {
     "name": "stdout",
     "output_type": "stream",
     "text": [
      "Requirement already satisfied: parquet in c:\\users\\user\\documents\\projects\\ocr_testing\\venv\\lib\\site-packages (1.3.1)\n",
      "Requirement already satisfied: thriftpy2 in c:\\users\\user\\documents\\projects\\ocr_testing\\venv\\lib\\site-packages (from parquet) (0.4.17)\n",
      "Requirement already satisfied: ply<4.0,>=3.4 in c:\\users\\user\\documents\\projects\\ocr_testing\\venv\\lib\\site-packages (from thriftpy2->parquet) (3.11)\n",
      "Requirement already satisfied: six~=1.15 in c:\\users\\user\\appdata\\local\\programs\\python\\python310\\lib\\site-packages (from thriftpy2->parquet) (1.16.0)\n"
     ]
    },
    {
     "name": "stderr",
     "output_type": "stream",
     "text": [
      "\n",
      "[notice] A new release of pip is available: 23.2.1 -> 23.3.2\n",
      "[notice] To update, run: python.exe -m pip install --upgrade pip\n"
     ]
    },
    {
     "name": "stdout",
     "output_type": "stream",
     "text": [
      "Requirement already satisfied: pyarrow in c:\\users\\user\\documents\\projects\\ocr_testing\\venv\\lib\\site-packages (14.0.2)\n",
      "Requirement already satisfied: numpy>=1.16.6 in c:\\users\\user\\appdata\\local\\programs\\python\\python310\\lib\\site-packages (from pyarrow) (1.26.1)\n"
     ]
    },
    {
     "name": "stderr",
     "output_type": "stream",
     "text": [
      "\n",
      "[notice] A new release of pip is available: 23.2.1 -> 23.3.2\n",
      "[notice] To update, run: python.exe -m pip install --upgrade pip\n"
     ]
    }
   ],
   "source": [
    "# install pandas and parquet\n",
    "!pip install pandas\n",
    "!pip install parquet\n",
    "!pip install pyarrow"
   ],
   "metadata": {
    "collapsed": false,
    "ExecuteTime": {
     "end_time": "2024-01-29T08:50:50.344415800Z",
     "start_time": "2024-01-29T08:50:45.158460900Z"
    }
   },
   "id": "235341fca7f2be58"
  },
  {
   "cell_type": "markdown",
   "source": [
    "Opis kolona:\n",
    "\n",
    "datum_dolaska - datum kada bi gost trebao stići u hotel\n",
    "datum_kreiranja_rezervacije - datum kada je rezervacija kreirana\n",
    "datum_odjave - datum kada je gost napustio hotel\n",
    "datum_otkazivanja_rezervacije - datum kada je rezervacija otkazana\n",
    "broj_odraslih_gostiju - broj odraslih koji će boraviti u rezerviranim sobama\n",
    "broj_djece_gostiju - broj djece koji će boraviti u rezerviranim sobama\n",
    "zemlja_gosta - zemlja iz koje gost dolazi. Kategorije su zapisane u ISO 3155–3:2013 formatu\n",
    "kanal_prodaje_id - id kanala prodaje preko kojeg je rezervacija napravljena (primjeri: direktna rezervacija, agencija, online)\n",
    "tip_sobe_id - id tipa sobe koju je gost rezervirao\n",
    "cijena_nocenja - cijena jednog noćenja za pojedinu rezeraciju\n",
    "status_rezervacije - status rezervacije (Check-Out, Canceled, No-Show)\n",
    "rezervacija_id - id rezervacije\n",
    "gost_id - id gosta"
   ],
   "metadata": {
    "collapsed": false
   },
   "id": "3f0eb7acd12d95c7"
  },
  {
   "cell_type": "code",
   "execution_count": 2,
   "outputs": [],
   "source": [
    "import pandas as pd\n",
    "dataset_path = './data/lumen/export_df.parquet'"
   ],
   "metadata": {
    "collapsed": false,
    "ExecuteTime": {
     "end_time": "2024-01-29T08:50:50.387046Z",
     "start_time": "2024-01-29T08:50:50.343409Z"
    }
   },
   "id": "initial_id"
  },
  {
   "cell_type": "code",
   "execution_count": 3,
   "outputs": [
    {
     "data": {
      "text/plain": "   hotel_id datum_dolaska datum_kreiranja_rezervacije datum_odjave  \\\n0         0    2015-07-01                  2015-01-21   2015-07-01   \n1         0    2015-07-01                  2015-06-10   2015-07-01   \n2         0    2015-07-01                  2015-05-13   2015-07-02   \n3         0    2015-07-01                  2014-05-30   2015-07-02   \n4         0    2015-07-01                  2014-07-06   2015-07-03   \n\n  datum_otkazivanja_rezervacije  broj_odraslih_gostiju  broj_djece_gostiju  \\\n0                          None                      2                 0.0   \n1                          None                      2                 0.0   \n2                          None                      1                 0.0   \n3                          None                      1                 0.0   \n4                          None                      2                 0.0   \n\n  zemlja_gosta  kanal_prodaje_id  tip_sobe_id  cijena_nocenja  \\\n0          PRT                 0            0      100.000000   \n1          PRT                 0            0      100.000000   \n2          GBR                 0            1       64.991345   \n3          GBR                 1            1       74.368897   \n4          GBR                 2            1      130.973278   \n\n  status_rezervacije  rezervacija_id  gost_id  \n0          Check-Out         1313223  1077152  \n1          Check-Out         1313224  1017906  \n2          Check-Out         1313225  1039896  \n3          Check-Out         1313226  1008245  \n4          Check-Out         1313227  1093703  ",
      "text/html": "<div>\n<style scoped>\n    .dataframe tbody tr th:only-of-type {\n        vertical-align: middle;\n    }\n\n    .dataframe tbody tr th {\n        vertical-align: top;\n    }\n\n    .dataframe thead th {\n        text-align: right;\n    }\n</style>\n<table border=\"1\" class=\"dataframe\">\n  <thead>\n    <tr style=\"text-align: right;\">\n      <th></th>\n      <th>hotel_id</th>\n      <th>datum_dolaska</th>\n      <th>datum_kreiranja_rezervacije</th>\n      <th>datum_odjave</th>\n      <th>datum_otkazivanja_rezervacije</th>\n      <th>broj_odraslih_gostiju</th>\n      <th>broj_djece_gostiju</th>\n      <th>zemlja_gosta</th>\n      <th>kanal_prodaje_id</th>\n      <th>tip_sobe_id</th>\n      <th>cijena_nocenja</th>\n      <th>status_rezervacije</th>\n      <th>rezervacija_id</th>\n      <th>gost_id</th>\n    </tr>\n  </thead>\n  <tbody>\n    <tr>\n      <th>0</th>\n      <td>0</td>\n      <td>2015-07-01</td>\n      <td>2015-01-21</td>\n      <td>2015-07-01</td>\n      <td>None</td>\n      <td>2</td>\n      <td>0.0</td>\n      <td>PRT</td>\n      <td>0</td>\n      <td>0</td>\n      <td>100.000000</td>\n      <td>Check-Out</td>\n      <td>1313223</td>\n      <td>1077152</td>\n    </tr>\n    <tr>\n      <th>1</th>\n      <td>0</td>\n      <td>2015-07-01</td>\n      <td>2015-06-10</td>\n      <td>2015-07-01</td>\n      <td>None</td>\n      <td>2</td>\n      <td>0.0</td>\n      <td>PRT</td>\n      <td>0</td>\n      <td>0</td>\n      <td>100.000000</td>\n      <td>Check-Out</td>\n      <td>1313224</td>\n      <td>1017906</td>\n    </tr>\n    <tr>\n      <th>2</th>\n      <td>0</td>\n      <td>2015-07-01</td>\n      <td>2015-05-13</td>\n      <td>2015-07-02</td>\n      <td>None</td>\n      <td>1</td>\n      <td>0.0</td>\n      <td>GBR</td>\n      <td>0</td>\n      <td>1</td>\n      <td>64.991345</td>\n      <td>Check-Out</td>\n      <td>1313225</td>\n      <td>1039896</td>\n    </tr>\n    <tr>\n      <th>3</th>\n      <td>0</td>\n      <td>2015-07-01</td>\n      <td>2014-05-30</td>\n      <td>2015-07-02</td>\n      <td>None</td>\n      <td>1</td>\n      <td>0.0</td>\n      <td>GBR</td>\n      <td>1</td>\n      <td>1</td>\n      <td>74.368897</td>\n      <td>Check-Out</td>\n      <td>1313226</td>\n      <td>1008245</td>\n    </tr>\n    <tr>\n      <th>4</th>\n      <td>0</td>\n      <td>2015-07-01</td>\n      <td>2014-07-06</td>\n      <td>2015-07-03</td>\n      <td>None</td>\n      <td>2</td>\n      <td>0.0</td>\n      <td>GBR</td>\n      <td>2</td>\n      <td>1</td>\n      <td>130.973278</td>\n      <td>Check-Out</td>\n      <td>1313227</td>\n      <td>1093703</td>\n    </tr>\n  </tbody>\n</table>\n</div>"
     },
     "execution_count": 3,
     "metadata": {},
     "output_type": "execute_result"
    }
   ],
   "source": [
    "df = pd.read_parquet(dataset_path)\n",
    "df.head()"
   ],
   "metadata": {
    "collapsed": false,
    "ExecuteTime": {
     "end_time": "2024-01-29T08:50:50.407100400Z",
     "start_time": "2024-01-29T08:50:50.358919400Z"
    }
   },
   "id": "6823a84f0853585"
  },
  {
   "cell_type": "code",
   "execution_count": 4,
   "outputs": [
    {
     "name": "stdout",
     "output_type": "stream",
     "text": [
      "<class 'pandas.core.frame.DataFrame'>\n",
      "RangeIndex: 119210 entries, 0 to 119209\n",
      "Data columns (total 14 columns):\n",
      " #   Column                         Non-Null Count   Dtype         \n",
      "---  ------                         --------------   -----         \n",
      " 0   hotel_id                       119210 non-null  int32         \n",
      " 1   datum_dolaska                  119210 non-null  datetime64[ns]\n",
      " 2   datum_kreiranja_rezervacije    119210 non-null  datetime64[ns]\n",
      " 3   datum_odjave                   119210 non-null  datetime64[ns]\n",
      " 4   datum_otkazivanja_rezervacije  44199 non-null   object        \n",
      " 5   broj_odraslih_gostiju          119210 non-null  int64         \n",
      " 6   broj_djece_gostiju             119210 non-null  float64       \n",
      " 7   zemlja_gosta                   119210 non-null  object        \n",
      " 8   kanal_prodaje_id               119210 non-null  int32         \n",
      " 9   tip_sobe_id                    119210 non-null  int32         \n",
      " 10  cijena_nocenja                 119210 non-null  float64       \n",
      " 11  status_rezervacije             119210 non-null  object        \n",
      " 12  rezervacija_id                 119210 non-null  int32         \n",
      " 13  gost_id                        119210 non-null  int32         \n",
      "dtypes: datetime64[ns](3), float64(2), int32(5), int64(1), object(3)\n",
      "memory usage: 10.5+ MB\n"
     ]
    }
   ],
   "source": [
    "df.info()"
   ],
   "metadata": {
    "collapsed": false,
    "ExecuteTime": {
     "end_time": "2024-01-29T08:50:50.448378Z",
     "start_time": "2024-01-29T08:50:50.404101300Z"
    }
   },
   "id": "37dd3cb131466aa4"
  },
  {
   "cell_type": "code",
   "execution_count": 5,
   "outputs": [
    {
     "data": {
      "text/plain": "            hotel_id                  datum_dolaska  \\\ncount  119210.000000                         119210   \nmean        0.664063  2016-09-18 04:45:19.825518080   \nmin         0.000000            2015-01-01 00:00:00   \n25%         0.000000            2016-02-29 00:00:00   \n50%         1.000000            2016-10-08 00:00:00   \n75%         1.000000            2017-03-15 00:00:00   \nmax         1.000000            2017-12-31 00:00:00   \nstd         0.472319                            NaN   \n\n         datum_kreiranja_rezervacije                   datum_odjave  \\\ncount                         119210                         119210   \nmean   2016-06-06 09:30:00.513379584  2016-09-21 14:59:07.635265792   \nmin              2013-06-25 00:00:00            2015-01-03 00:00:00   \n25%              2015-11-30 00:00:00            2016-03-03 00:00:00   \n50%              2016-06-24 00:00:00            2016-10-11 00:00:00   \n75%              2016-12-27 00:00:00            2017-03-19 00:00:00   \nmax              2017-12-31 00:00:00            2018-01-14 00:00:00   \nstd                              NaN                            NaN   \n\n       broj_odraslih_gostiju  broj_djece_gostiju  kanal_prodaje_id  \\\ncount          119210.000000       119210.000000     119210.000000   \nmean                1.859206            0.112004          1.702357   \nmin                 0.000000            0.000000          0.000000   \n25%                 2.000000            0.000000          2.000000   \n50%                 2.000000            0.000000          2.000000   \n75%                 2.000000            0.000000          2.000000   \nmax                55.000000           10.000000          4.000000   \nstd                 0.575186            0.412849          0.681164   \n\n         tip_sobe_id  cijena_nocenja  rezervacija_id       gost_id  \ncount  119210.000000   119210.000000    1.192100e+05  1.192100e+05  \nmean        1.503179      123.182994    1.372828e+06  1.053647e+06  \nmin         0.000000       40.003037    1.313223e+06  1.000000e+06  \n25%         1.000000       80.917473    1.343025e+06  1.026866e+06  \n50%         1.000000      109.455175    1.372828e+06  1.053626e+06  \n75%         2.000000      146.425535    1.402630e+06  1.080427e+06  \nmax         8.000000     7351.295691    1.432432e+06  1.107288e+06  \nstd         1.125512       65.494762    3.441311e+04  3.095049e+04  ",
      "text/html": "<div>\n<style scoped>\n    .dataframe tbody tr th:only-of-type {\n        vertical-align: middle;\n    }\n\n    .dataframe tbody tr th {\n        vertical-align: top;\n    }\n\n    .dataframe thead th {\n        text-align: right;\n    }\n</style>\n<table border=\"1\" class=\"dataframe\">\n  <thead>\n    <tr style=\"text-align: right;\">\n      <th></th>\n      <th>hotel_id</th>\n      <th>datum_dolaska</th>\n      <th>datum_kreiranja_rezervacije</th>\n      <th>datum_odjave</th>\n      <th>broj_odraslih_gostiju</th>\n      <th>broj_djece_gostiju</th>\n      <th>kanal_prodaje_id</th>\n      <th>tip_sobe_id</th>\n      <th>cijena_nocenja</th>\n      <th>rezervacija_id</th>\n      <th>gost_id</th>\n    </tr>\n  </thead>\n  <tbody>\n    <tr>\n      <th>count</th>\n      <td>119210.000000</td>\n      <td>119210</td>\n      <td>119210</td>\n      <td>119210</td>\n      <td>119210.000000</td>\n      <td>119210.000000</td>\n      <td>119210.000000</td>\n      <td>119210.000000</td>\n      <td>119210.000000</td>\n      <td>1.192100e+05</td>\n      <td>1.192100e+05</td>\n    </tr>\n    <tr>\n      <th>mean</th>\n      <td>0.664063</td>\n      <td>2016-09-18 04:45:19.825518080</td>\n      <td>2016-06-06 09:30:00.513379584</td>\n      <td>2016-09-21 14:59:07.635265792</td>\n      <td>1.859206</td>\n      <td>0.112004</td>\n      <td>1.702357</td>\n      <td>1.503179</td>\n      <td>123.182994</td>\n      <td>1.372828e+06</td>\n      <td>1.053647e+06</td>\n    </tr>\n    <tr>\n      <th>min</th>\n      <td>0.000000</td>\n      <td>2015-01-01 00:00:00</td>\n      <td>2013-06-25 00:00:00</td>\n      <td>2015-01-03 00:00:00</td>\n      <td>0.000000</td>\n      <td>0.000000</td>\n      <td>0.000000</td>\n      <td>0.000000</td>\n      <td>40.003037</td>\n      <td>1.313223e+06</td>\n      <td>1.000000e+06</td>\n    </tr>\n    <tr>\n      <th>25%</th>\n      <td>0.000000</td>\n      <td>2016-02-29 00:00:00</td>\n      <td>2015-11-30 00:00:00</td>\n      <td>2016-03-03 00:00:00</td>\n      <td>2.000000</td>\n      <td>0.000000</td>\n      <td>2.000000</td>\n      <td>1.000000</td>\n      <td>80.917473</td>\n      <td>1.343025e+06</td>\n      <td>1.026866e+06</td>\n    </tr>\n    <tr>\n      <th>50%</th>\n      <td>1.000000</td>\n      <td>2016-10-08 00:00:00</td>\n      <td>2016-06-24 00:00:00</td>\n      <td>2016-10-11 00:00:00</td>\n      <td>2.000000</td>\n      <td>0.000000</td>\n      <td>2.000000</td>\n      <td>1.000000</td>\n      <td>109.455175</td>\n      <td>1.372828e+06</td>\n      <td>1.053626e+06</td>\n    </tr>\n    <tr>\n      <th>75%</th>\n      <td>1.000000</td>\n      <td>2017-03-15 00:00:00</td>\n      <td>2016-12-27 00:00:00</td>\n      <td>2017-03-19 00:00:00</td>\n      <td>2.000000</td>\n      <td>0.000000</td>\n      <td>2.000000</td>\n      <td>2.000000</td>\n      <td>146.425535</td>\n      <td>1.402630e+06</td>\n      <td>1.080427e+06</td>\n    </tr>\n    <tr>\n      <th>max</th>\n      <td>1.000000</td>\n      <td>2017-12-31 00:00:00</td>\n      <td>2017-12-31 00:00:00</td>\n      <td>2018-01-14 00:00:00</td>\n      <td>55.000000</td>\n      <td>10.000000</td>\n      <td>4.000000</td>\n      <td>8.000000</td>\n      <td>7351.295691</td>\n      <td>1.432432e+06</td>\n      <td>1.107288e+06</td>\n    </tr>\n    <tr>\n      <th>std</th>\n      <td>0.472319</td>\n      <td>NaN</td>\n      <td>NaN</td>\n      <td>NaN</td>\n      <td>0.575186</td>\n      <td>0.412849</td>\n      <td>0.681164</td>\n      <td>1.125512</td>\n      <td>65.494762</td>\n      <td>3.441311e+04</td>\n      <td>3.095049e+04</td>\n    </tr>\n  </tbody>\n</table>\n</div>"
     },
     "execution_count": 5,
     "metadata": {},
     "output_type": "execute_result"
    }
   ],
   "source": [
    "df.describe()"
   ],
   "metadata": {
    "collapsed": false,
    "ExecuteTime": {
     "end_time": "2024-01-29T08:50:50.469463900Z",
     "start_time": "2024-01-29T08:50:50.420110Z"
    }
   },
   "id": "d75e36c2c35c5920"
  }
 ],
 "metadata": {
  "kernelspec": {
   "display_name": "Python 3",
   "language": "python",
   "name": "python3"
  },
  "language_info": {
   "codemirror_mode": {
    "name": "ipython",
    "version": 2
   },
   "file_extension": ".py",
   "mimetype": "text/x-python",
   "name": "python",
   "nbconvert_exporter": "python",
   "pygments_lexer": "ipython2",
   "version": "2.7.6"
  }
 },
 "nbformat": 4,
 "nbformat_minor": 5
}
