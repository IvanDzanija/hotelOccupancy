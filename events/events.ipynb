{
 "cells": [
  {
   "cell_type": "markdown",
   "metadata": {},
   "source": [
    "# Events tablica"
   ]
  },
  {
   "cell_type": "code",
   "execution_count": 10,
   "metadata": {},
   "outputs": [],
   "source": [
    "import numpy as np\n",
    "import pandas as pd\n",
    "import matplotlib.pyplot as plt\n",
    "import seaborn as sns\n",
    "from pathlib import Path\n",
    "from datetime import datetime\n",
    "from scipy.stats import shapiro \n",
    "from scipy.stats import lognorm\n",
    "from scipy.stats import kstest,norm\n",
    "from scipy.stats import lognorm\n",
    "from statsmodels.graphics.tsaplots import plot_acf, plot_pacf\n",
    "from statsmodels.tsa.stattools import adfuller\n",
    "from sklearn.preprocessing import normalize\n",
    "import warnings\n",
    "warnings.filterwarnings(\"ignore\")"
   ]
  },
  {
   "cell_type": "code",
   "execution_count": 14,
   "metadata": {},
   "outputs": [
    {
     "name": "stdout",
     "output_type": "stream",
     "text": [
      "<class 'pandas.core.frame.DataFrame'>\n",
      "RangeIndex: 4 entries, 0 to 3\n",
      "Data columns (total 6 columns):\n",
      " #   Column            Non-Null Count  Dtype \n",
      "---  ------            --------------  ----- \n",
      " 0   holiday_name      4 non-null      object\n",
      " 1   date_from         4 non-null      object\n",
      " 2   date_to           4 non-null      object\n",
      " 3   country_of_event  4 non-null      object\n",
      " 4   repeating_date    4 non-null      int64 \n",
      " 5   yearly_repeating  4 non-null      int64 \n",
      "dtypes: int64(2), object(4)\n",
      "memory usage: 324.0+ bytes\n"
     ]
    }
   ],
   "source": [
    "f_eve = Path.cwd()\n",
    "f_eve = str(f_eve) + \"/events.csv\"\n",
    "events = pd.read_csv(f_eve)\n",
    "events.info()"
   ]
  },
  {
   "cell_type": "code",
   "execution_count": 18,
   "metadata": {},
   "outputs": [
    {
     "name": "stdout",
     "output_type": "stream",
     "text": [
      "<class 'pandas.core.frame.DataFrame'>\n",
      "RangeIndex: 4 entries, 0 to 3\n",
      "Data columns (total 6 columns):\n",
      " #   Column            Non-Null Count  Dtype         \n",
      "---  ------            --------------  -----         \n",
      " 0   holiday_name      4 non-null      string        \n",
      " 1   date_from         4 non-null      datetime64[ns]\n",
      " 2   date_to           4 non-null      datetime64[ns]\n",
      " 3   country_of_event  4 non-null      string        \n",
      " 4   repeating_date    4 non-null      string        \n",
      " 5   yearly_repeating  4 non-null      int64         \n",
      "dtypes: datetime64[ns](2), int64(1), string(3)\n",
      "memory usage: 324.0 bytes\n"
     ]
    }
   ],
   "source": [
    "events[\"date_from\"] = pd.to_datetime(events[\"date_from\"],format=\"%d-%m-%Y\")\n",
    "events[\"date_to\"] = pd.to_datetime(events[\"date_to\"],format=\"%d-%m-%Y\")\n",
    "events[\"country_of_event\"] = events[\"country_of_event\"].astype(\"string\")\n",
    "events[\"holiday_name\"] = events[\"holiday_name\"].astype(\"string\")\n",
    "events.info()"
   ]
  },
  {
   "cell_type": "code",
   "execution_count": 19,
   "metadata": {},
   "outputs": [
    {
     "name": "stdout",
     "output_type": "stream",
     "text": [
      "  holiday_name  date_from    date_to country_of_event repeating_date  \\\n",
      "0  Nova_godina 2008-12-31 2009-01-01              HRV              1   \n",
      "1        Bozic 2008-12-23 2008-12-25              HRV              1   \n",
      "2     Uskrs-08 2008-03-23 2008-03-24              HRV              0   \n",
      "3     Uskrs-09 2009-04-12 2009-04-13              HRV              0   \n",
      "4  Nova_godina 2008-12-31 2009-01-01              HRV              1   \n",
      "5        Bozic 2008-12-23 2008-12-25              HRV              1   \n",
      "6     Uskrs-08 2008-03-23 2008-03-24              HRV              0   \n",
      "7     Uskrs-09 2009-04-12 2009-04-13              HRV              0   \n",
      "\n",
      "   yearly_repeating  \n",
      "0                 1  \n",
      "1                 1  \n",
      "2                 1  \n",
      "3                 1  \n",
      "4                 1  \n",
      "5                 1  \n",
      "6                 1  \n",
      "7                 1  \n"
     ]
    }
   ],
   "source": [
    "num_years = 1\n",
    "\n",
    "# Function to duplicate rows for repeating events\n",
    "# Function to duplicate rows for repeating events\n",
    "def duplicate_rows_for_repeats(events, num_years):\n",
    "    new_rows = []\n",
    "    for _, row in events.iterrows():\n",
    "        # Access the 'repeat' column by its position\n",
    "        if row.iloc[-1] == 'da':  # Assuming 'repeat' is the last column\n",
    "            for i in range(1, num_years + 1):\n",
    "                new_row = row.copy()\n",
    "                new_row['date_from'] = pd.to_datetime(row['date_from']) + pd.DateOffset(years=i)\n",
    "                new_row['date_to'] = pd.to_datetime(row['date_to']) + pd.DateOffset(years=i)\n",
    "                new_rows.append(new_row)\n",
    "        else:\n",
    "            new_rows.append(row)\n",
    "    return pd.DataFrame(new_rows)\n",
    "\n",
    "# Add rows for repeating events\n",
    "new_df = duplicate_rows_for_repeats(events, num_years)\n",
    "\n",
    "\n",
    "# Concatenate the original DataFrame with the new DataFrame containing repeated events\n",
    "final_df = pd.concat([events, new_df], ignore_index=True)\n",
    "\n",
    "print(final_df)"
   ]
  },
  {
   "cell_type": "code",
   "execution_count": null,
   "metadata": {},
   "outputs": [],
   "source": []
  }
 ],
 "metadata": {
  "kernelspec": {
   "display_name": "dataSci",
   "language": "python",
   "name": "python3"
  },
  "language_info": {
   "codemirror_mode": {
    "name": "ipython",
    "version": 3
   },
   "file_extension": ".py",
   "mimetype": "text/x-python",
   "name": "python",
   "nbconvert_exporter": "python",
   "pygments_lexer": "ipython3",
   "version": "3.12.2"
  }
 },
 "nbformat": 4,
 "nbformat_minor": 2
}
