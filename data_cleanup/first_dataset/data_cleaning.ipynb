{
 "cells": [
  {
   "cell_type": "markdown",
   "id": "4a47e17e-d9d4-4168-bb88-ab0e2364968a",
   "metadata": {},
   "source": [
    "# Provjera i brisanja krivih podataka"
   ]
  },
  {
   "cell_type": "markdown",
   "id": "cfca11b2-b5ef-4724-b98b-a10f0a87c0a9",
   "metadata": {},
   "source": [
    "## Import potrebnih library-a i pronalazak lokacije dataseta"
   ]
  },
  {
   "cell_type": "code",
   "execution_count": 9,
   "id": "f54bf7e6-5da6-4605-831f-bb2816131966",
   "metadata": {},
   "outputs": [],
   "source": [
    "import os, sys\n",
    "import pandas as pd\n",
    "from pathlib import Path\n",
    "curr = Path.cwd().parent.parent\n",
    "parr = str(curr)\n",
    "parr += '/data_process/processed.parquet'\n"
   ]
  },
  {
   "cell_type": "markdown",
   "id": "0a076ffa-399e-44f1-84ca-641680ede433",
   "metadata": {},
   "source": [
    "## Otvaramo dataset sa dohvacene lokacije"
   ]
  },
  {
   "cell_type": "code",
   "execution_count": 10,
   "id": "3c15054c-3a9d-4b2c-b5ba-f98a496158c5",
   "metadata": {},
   "outputs": [
    {
     "name": "stdout",
     "output_type": "stream",
     "text": [
      "<class 'pandas.core.frame.DataFrame'>\n",
      "RangeIndex: 119210 entries, 0 to 119209\n",
      "Data columns (total 16 columns):\n",
      " #   Column                         Non-Null Count   Dtype         \n",
      "---  ------                         --------------   -----         \n",
      " 0   hotel_id                       119210 non-null  int32         \n",
      " 1   datum_dolaska                  119210 non-null  datetime64[ns]\n",
      " 2   datum_kreiranja_rezervacije    119210 non-null  datetime64[ns]\n",
      " 3   datum_odjave                   119210 non-null  datetime64[ns]\n",
      " 4   datum_otkazivanja_rezervacije  44199 non-null   object        \n",
      " 5   broj_odraslih_gostiju          119210 non-null  int64         \n",
      " 6   broj_djece_gostiju             119210 non-null  float64       \n",
      " 7   zemlja_gosta                   119210 non-null  object        \n",
      " 8   kanal_prodaje_id               119210 non-null  int32         \n",
      " 9   tip_sobe_id                    119210 non-null  int32         \n",
      " 10  cijena_nocenja                 119210 non-null  float64       \n",
      " 11  status_rezervacije             119210 non-null  object        \n",
      " 12  rezervacija_id                 119210 non-null  int32         \n",
      " 13  gost_id                        119210 non-null  int32         \n",
      " 14  broj_nocenja                   119210 non-null  float64       \n",
      " 15  ukupno_placeno                 119210 non-null  float64       \n",
      "dtypes: datetime64[ns](3), float64(4), int32(5), int64(1), object(3)\n",
      "memory usage: 12.3+ MB\n"
     ]
    }
   ],
   "source": [
    "df = pd.read_parquet(parr)\n",
    "df.info()"
   ]
  },
  {
   "cell_type": "markdown",
   "id": "0e249c64-9ccf-4763-88fc-68e6dd0afbb0",
   "metadata": {},
   "source": [
    "Pretvraranje stupca datuma otkazivanja u datetime"
   ]
  },
  {
   "cell_type": "code",
   "execution_count": 11,
   "id": "ae673ba1-4e61-487e-bfde-62221accfe17",
   "metadata": {},
   "outputs": [],
   "source": [
    "df['datum_otkazivanja_rezervacije'] = pd.to_datetime(df['datum_otkazivanja_rezervacije'], errors='coerce')"
   ]
  },
  {
   "cell_type": "markdown",
   "id": "5f954cde-0c14-46d0-912f-b89e44e024db",
   "metadata": {},
   "source": [
    "## Brisanje podataka kojima je datum dolaska prije datuma kreiranja."
   ]
  },
  {
   "cell_type": "code",
   "execution_count": 12,
   "id": "6c9406e2-ee5b-4098-b77b-a98b565e6ff9",
   "metadata": {},
   "outputs": [
    {
     "name": "stdout",
     "output_type": "stream",
     "text": [
      "<class 'pandas.core.frame.DataFrame'>\n",
      "RangeIndex: 119210 entries, 0 to 119209\n",
      "Data columns (total 16 columns):\n",
      " #   Column                         Non-Null Count   Dtype         \n",
      "---  ------                         --------------   -----         \n",
      " 0   hotel_id                       119210 non-null  int32         \n",
      " 1   datum_dolaska                  119210 non-null  datetime64[ns]\n",
      " 2   datum_kreiranja_rezervacije    119210 non-null  datetime64[ns]\n",
      " 3   datum_odjave                   119210 non-null  datetime64[ns]\n",
      " 4   datum_otkazivanja_rezervacije  44199 non-null   datetime64[ns]\n",
      " 5   broj_odraslih_gostiju          119210 non-null  int64         \n",
      " 6   broj_djece_gostiju             119210 non-null  float64       \n",
      " 7   zemlja_gosta                   119210 non-null  object        \n",
      " 8   kanal_prodaje_id               119210 non-null  int32         \n",
      " 9   tip_sobe_id                    119210 non-null  int32         \n",
      " 10  cijena_nocenja                 119210 non-null  float64       \n",
      " 11  status_rezervacije             119210 non-null  object        \n",
      " 12  rezervacija_id                 119210 non-null  int32         \n",
      " 13  gost_id                        119210 non-null  int32         \n",
      " 14  broj_nocenja                   119210 non-null  float64       \n",
      " 15  ukupno_placeno                 119210 non-null  float64       \n",
      "dtypes: datetime64[ns](4), float64(4), int32(5), int64(1), object(2)\n",
      "memory usage: 12.3+ MB\n"
     ]
    }
   ],
   "source": [
    "df = df[df[\"datum_dolaska\"] >= df[\"datum_kreiranja_rezervacije\"]]\n",
    "df.info()"
   ]
  },
  {
   "cell_type": "markdown",
   "id": "49403c99-fd4f-4887-8057-fbec01eb3a45",
   "metadata": {},
   "source": [
    "## Brisanje greska kada je datum kreiranja poslije datuma brisanja rezervacije"
   ]
  },
  {
   "cell_type": "code",
   "execution_count": 13,
   "id": "ce3ab666-7895-45cd-a303-6887583a3b34",
   "metadata": {},
   "outputs": [
    {
     "name": "stdout",
     "output_type": "stream",
     "text": [
      "<class 'pandas.core.frame.DataFrame'>\n",
      "Index: 96589 entries, 0 to 119209\n",
      "Data columns (total 16 columns):\n",
      " #   Column                         Non-Null Count  Dtype         \n",
      "---  ------                         --------------  -----         \n",
      " 0   hotel_id                       96589 non-null  int32         \n",
      " 1   datum_dolaska                  96589 non-null  datetime64[ns]\n",
      " 2   datum_kreiranja_rezervacije    96589 non-null  datetime64[ns]\n",
      " 3   datum_odjave                   96589 non-null  datetime64[ns]\n",
      " 4   datum_otkazivanja_rezervacije  21578 non-null  datetime64[ns]\n",
      " 5   broj_odraslih_gostiju          96589 non-null  int64         \n",
      " 6   broj_djece_gostiju             96589 non-null  float64       \n",
      " 7   zemlja_gosta                   96589 non-null  object        \n",
      " 8   kanal_prodaje_id               96589 non-null  int32         \n",
      " 9   tip_sobe_id                    96589 non-null  int32         \n",
      " 10  cijena_nocenja                 96589 non-null  float64       \n",
      " 11  status_rezervacije             96589 non-null  object        \n",
      " 12  rezervacija_id                 96589 non-null  int32         \n",
      " 13  gost_id                        96589 non-null  int32         \n",
      " 14  broj_nocenja                   96589 non-null  float64       \n",
      " 15  ukupno_placeno                 96589 non-null  float64       \n",
      "dtypes: datetime64[ns](4), float64(4), int32(5), int64(1), object(2)\n",
      "memory usage: 10.7+ MB\n"
     ]
    }
   ],
   "source": [
    "df = df[ (df[\"datum_kreiranja_rezervacije\"] <= df[\"datum_otkazivanja_rezervacije\"] ) | (df[\"datum_otkazivanja_rezervacije\"].isna()) ]\n",
    "a = set(df[\"datum_otkazivanja_rezervacije\"])\n",
    "df.info()\n",
    "#print(a)"
   ]
  },
  {
   "cell_type": "markdown",
   "id": "615def9d-a2d8-4c65-bc11-f92b46852ed6",
   "metadata": {},
   "source": [
    "## Brisanje podataka gdje je broj odraslih 0"
   ]
  },
  {
   "cell_type": "code",
   "execution_count": 14,
   "id": "9867cb55-7048-453c-9871-fe997ffb7df5",
   "metadata": {},
   "outputs": [
    {
     "name": "stdout",
     "output_type": "stream",
     "text": [
      "<class 'pandas.core.frame.DataFrame'>\n",
      "Index: 96418 entries, 0 to 119209\n",
      "Data columns (total 16 columns):\n",
      " #   Column                         Non-Null Count  Dtype         \n",
      "---  ------                         --------------  -----         \n",
      " 0   hotel_id                       96418 non-null  int32         \n",
      " 1   datum_dolaska                  96418 non-null  datetime64[ns]\n",
      " 2   datum_kreiranja_rezervacije    96418 non-null  datetime64[ns]\n",
      " 3   datum_odjave                   96418 non-null  datetime64[ns]\n",
      " 4   datum_otkazivanja_rezervacije  21546 non-null  datetime64[ns]\n",
      " 5   broj_odraslih_gostiju          96418 non-null  int64         \n",
      " 6   broj_djece_gostiju             96418 non-null  float64       \n",
      " 7   zemlja_gosta                   96418 non-null  object        \n",
      " 8   kanal_prodaje_id               96418 non-null  int32         \n",
      " 9   tip_sobe_id                    96418 non-null  int32         \n",
      " 10  cijena_nocenja                 96418 non-null  float64       \n",
      " 11  status_rezervacije             96418 non-null  object        \n",
      " 12  rezervacija_id                 96418 non-null  int32         \n",
      " 13  gost_id                        96418 non-null  int32         \n",
      " 14  broj_nocenja                   96418 non-null  float64       \n",
      " 15  ukupno_placeno                 96418 non-null  float64       \n",
      "dtypes: datetime64[ns](4), float64(4), int32(5), int64(1), object(2)\n",
      "memory usage: 10.7+ MB\n"
     ]
    }
   ],
   "source": [
    "df = df[df[\"broj_odraslih_gostiju\"] > 0]\n",
    "df.info()"
   ]
  },
  {
   "cell_type": "markdown",
   "id": "df2a0f83-632c-46a5-beb8-154afab57cb8",
   "metadata": {},
   "source": [
    "## Brisanje podataka gdje je cijena nocenja 0 (nista nije izbaceno)"
   ]
  },
  {
   "cell_type": "code",
   "execution_count": 15,
   "id": "d2ba1944-aedd-41ea-87a8-e9ffcefd4acf",
   "metadata": {
    "scrolled": true
   },
   "outputs": [
    {
     "name": "stdout",
     "output_type": "stream",
     "text": [
      "<class 'pandas.core.frame.DataFrame'>\n",
      "Index: 96418 entries, 0 to 119209\n",
      "Data columns (total 16 columns):\n",
      " #   Column                         Non-Null Count  Dtype         \n",
      "---  ------                         --------------  -----         \n",
      " 0   hotel_id                       96418 non-null  int32         \n",
      " 1   datum_dolaska                  96418 non-null  datetime64[ns]\n",
      " 2   datum_kreiranja_rezervacije    96418 non-null  datetime64[ns]\n",
      " 3   datum_odjave                   96418 non-null  datetime64[ns]\n",
      " 4   datum_otkazivanja_rezervacije  21546 non-null  datetime64[ns]\n",
      " 5   broj_odraslih_gostiju          96418 non-null  int64         \n",
      " 6   broj_djece_gostiju             96418 non-null  float64       \n",
      " 7   zemlja_gosta                   96418 non-null  object        \n",
      " 8   kanal_prodaje_id               96418 non-null  int32         \n",
      " 9   tip_sobe_id                    96418 non-null  int32         \n",
      " 10  cijena_nocenja                 96418 non-null  float64       \n",
      " 11  status_rezervacije             96418 non-null  object        \n",
      " 12  rezervacija_id                 96418 non-null  int32         \n",
      " 13  gost_id                        96418 non-null  int32         \n",
      " 14  broj_nocenja                   96418 non-null  float64       \n",
      " 15  ukupno_placeno                 96418 non-null  float64       \n",
      "dtypes: datetime64[ns](4), float64(4), int32(5), int64(1), object(2)\n",
      "memory usage: 10.7+ MB\n"
     ]
    }
   ],
   "source": [
    "df = df[df[\"cijena_nocenja\"] > 0]\n",
    "df.info()"
   ]
  },
  {
   "cell_type": "markdown",
   "id": "c9125d55-bcb0-4693-8562-573ecec4dee5",
   "metadata": {},
   "source": [
    "Brisanje onih kojima je datum odjave prije datuma dolaska(nista nije izbaceno)"
   ]
  },
  {
   "cell_type": "code",
   "execution_count": 16,
   "id": "95c9f3db-8345-444e-baa6-3ed1354dd278",
   "metadata": {},
   "outputs": [
    {
     "name": "stdout",
     "output_type": "stream",
     "text": [
      "<class 'pandas.core.frame.DataFrame'>\n",
      "Index: 96418 entries, 0 to 119209\n",
      "Data columns (total 16 columns):\n",
      " #   Column                         Non-Null Count  Dtype         \n",
      "---  ------                         --------------  -----         \n",
      " 0   hotel_id                       96418 non-null  int32         \n",
      " 1   datum_dolaska                  96418 non-null  datetime64[ns]\n",
      " 2   datum_kreiranja_rezervacije    96418 non-null  datetime64[ns]\n",
      " 3   datum_odjave                   96418 non-null  datetime64[ns]\n",
      " 4   datum_otkazivanja_rezervacije  21546 non-null  datetime64[ns]\n",
      " 5   broj_odraslih_gostiju          96418 non-null  int64         \n",
      " 6   broj_djece_gostiju             96418 non-null  float64       \n",
      " 7   zemlja_gosta                   96418 non-null  object        \n",
      " 8   kanal_prodaje_id               96418 non-null  int32         \n",
      " 9   tip_sobe_id                    96418 non-null  int32         \n",
      " 10  cijena_nocenja                 96418 non-null  float64       \n",
      " 11  status_rezervacije             96418 non-null  object        \n",
      " 12  rezervacija_id                 96418 non-null  int32         \n",
      " 13  gost_id                        96418 non-null  int32         \n",
      " 14  broj_nocenja                   96418 non-null  float64       \n",
      " 15  ukupno_placeno                 96418 non-null  float64       \n",
      "dtypes: datetime64[ns](4), float64(4), int32(5), int64(1), object(2)\n",
      "memory usage: 10.7+ MB\n"
     ]
    }
   ],
   "source": [
    "df = df[df[\"datum_dolaska\"] <= df[\"datum_odjave\"]]\n",
    "df.info()"
   ]
  },
  {
   "cell_type": "markdown",
   "id": "37904808-0f75-4efb-9fad-dfb99dfe6674",
   "metadata": {},
   "source": [
    "## Brisanje onih kojima je datum otkazivanja nakon datuma odjave"
   ]
  },
  {
   "cell_type": "code",
   "execution_count": 17,
   "id": "ae4d85e2-bb59-45b9-84df-16c0509013b3",
   "metadata": {},
   "outputs": [
    {
     "name": "stdout",
     "output_type": "stream",
     "text": [
      "<class 'pandas.core.frame.DataFrame'>\n",
      "Index: 94478 entries, 0 to 119209\n",
      "Data columns (total 16 columns):\n",
      " #   Column                         Non-Null Count  Dtype         \n",
      "---  ------                         --------------  -----         \n",
      " 0   hotel_id                       94478 non-null  int32         \n",
      " 1   datum_dolaska                  94478 non-null  datetime64[ns]\n",
      " 2   datum_kreiranja_rezervacije    94478 non-null  datetime64[ns]\n",
      " 3   datum_odjave                   94478 non-null  datetime64[ns]\n",
      " 4   datum_otkazivanja_rezervacije  19606 non-null  datetime64[ns]\n",
      " 5   broj_odraslih_gostiju          94478 non-null  int64         \n",
      " 6   broj_djece_gostiju             94478 non-null  float64       \n",
      " 7   zemlja_gosta                   94478 non-null  object        \n",
      " 8   kanal_prodaje_id               94478 non-null  int32         \n",
      " 9   tip_sobe_id                    94478 non-null  int32         \n",
      " 10  cijena_nocenja                 94478 non-null  float64       \n",
      " 11  status_rezervacije             94478 non-null  object        \n",
      " 12  rezervacija_id                 94478 non-null  int32         \n",
      " 13  gost_id                        94478 non-null  int32         \n",
      " 14  broj_nocenja                   94478 non-null  float64       \n",
      " 15  ukupno_placeno                 94478 non-null  float64       \n",
      "dtypes: datetime64[ns](4), float64(4), int32(5), int64(1), object(2)\n",
      "memory usage: 10.5+ MB\n"
     ]
    }
   ],
   "source": [
    "df = df[ (df[\"datum_otkazivanja_rezervacije\"] < df[\"datum_odjave\"]) | (df[\"datum_otkazivanja_rezervacije\"].isna())  ]\n",
    "df.info()"
   ]
  },
  {
   "cell_type": "markdown",
   "id": "13d9164c-c4a5-42a5-8ecd-23ca75afedc4",
   "metadata": {},
   "source": [
    "# Micanje onih sa neispravnim drzavama"
   ]
  },
  {
   "cell_type": "code",
   "execution_count": 18,
   "id": "775eb297-2a6b-4d86-a280-72e3f68800ea",
   "metadata": {},
   "outputs": [
    {
     "name": "stdout",
     "output_type": "stream",
     "text": [
      "{'ARM', 'BOL', 'EST', 'SEN', 'GLP', 'GTM', 'IRL', 'ITA', 'UGA', 'KHM', 'TUR', 'PRT', 'DEU', 'ALB', 'GUY', 'CIV', 'MRT', 'CMR', 'GGY', 'CHN', 'GAB', 'DOM', 'AGO', 'DMA', 'IDN', 'BRB', 'SAU', 'UKR', 'BHR', 'LKA', 'MEX', 'TWN', 'NLD', 'BRA', 'ISR', 'DNK', 'CYM', 'SRB', 'AUT', 'ESP', 'COM', 'FRA', 'KEN', 'GBR', 'TJK', 'MOZ', 'BEN', 'MLI', 'BWA', 'MNE', 'SDN', 'MLT', 'AZE', 'KWT', 'NOR', 'PAK', 'SYC', 'NGA', 'POL', 'THA', 'TMP', 'FRO', 'ISL', 'PRI', 'IRQ', 'PAN', 'NZL', 'URY', 'SYR', 'MCO', 'ZAF', 'MWI', 'BGR', 'GHA', 'CYP', 'RUS', 'QAT', 'LIE', 'HKG', 'SMR', 'LBY', 'BEL', 'RWA', 'GRC', 'NAM', 'ASM', 'SGP', 'AND', 'LBN', 'VGB', 'ARE', 'MDV', 'LUX', 'OMN', 'CPV', 'UZB', 'CAF', 'ATF', '0', 'COL', 'JPN', 'ETH', 'USA', 'HUN', 'FJI', 'LVA', 'CZE', 'JAM', 'GIB', 'TGO', 'GEO', 'MMR', 'PHL', 'CHE', 'FIN', 'TUN', 'KAZ', 'ZWE', 'VEN', 'MKD', 'LTU', 'AUS', 'JEY', 'IND', 'BDI', 'TZA', 'ATA', 'PYF', 'BIH', 'CN', 'MAC', 'DJI', 'SWE', 'CRI', 'PRY', 'MDG', 'VNM', 'SVN', 'ECU', 'LAO', 'SUR', 'JOR', 'DZA', 'BLR', 'PER', 'BGD', 'SLV', 'STP', 'SVK', 'KOR', 'MYS', 'MUS', 'GNB', 'ROU', 'ABW', 'ARG', 'CHL', 'ZMB', 'CUB', 'MAR', 'NPL', 'KIR', 'EGY', 'PLW', 'KNA', 'LCA', 'HRV', 'IRN'}\n",
      "<class 'pandas.core.frame.DataFrame'>\n",
      "Index: 93962 entries, 0 to 119209\n",
      "Data columns (total 16 columns):\n",
      " #   Column                         Non-Null Count  Dtype         \n",
      "---  ------                         --------------  -----         \n",
      " 0   hotel_id                       93962 non-null  int32         \n",
      " 1   datum_dolaska                  93962 non-null  datetime64[ns]\n",
      " 2   datum_kreiranja_rezervacije    93962 non-null  datetime64[ns]\n",
      " 3   datum_odjave                   93962 non-null  datetime64[ns]\n",
      " 4   datum_otkazivanja_rezervacije  19548 non-null  datetime64[ns]\n",
      " 5   broj_odraslih_gostiju          93962 non-null  int64         \n",
      " 6   broj_djece_gostiju             93962 non-null  float64       \n",
      " 7   zemlja_gosta                   93962 non-null  object        \n",
      " 8   kanal_prodaje_id               93962 non-null  int32         \n",
      " 9   tip_sobe_id                    93962 non-null  int32         \n",
      " 10  cijena_nocenja                 93962 non-null  float64       \n",
      " 11  status_rezervacije             93962 non-null  object        \n",
      " 12  rezervacija_id                 93962 non-null  int32         \n",
      " 13  gost_id                        93962 non-null  int32         \n",
      " 14  broj_nocenja                   93962 non-null  float64       \n",
      " 15  ukupno_placeno                 93962 non-null  float64       \n",
      "dtypes: datetime64[ns](4), float64(4), int32(5), int64(1), object(2)\n",
      "memory usage: 10.4+ MB\n"
     ]
    }
   ],
   "source": [
    "a = set(df[\"zemlja_gosta\"])\n",
    "print(a)\n",
    "#jedina neispravna je 0\n",
    "df = df[df[\"zemlja_gosta\"] != '0']\n",
    "df.info()"
   ]
  },
  {
   "cell_type": "markdown",
   "id": "41f070d7-0a17-44fe-bb21-021ed4b47eca",
   "metadata": {},
   "source": [
    "# Provjera stausa rezervacije"
   ]
  },
  {
   "cell_type": "code",
   "execution_count": 19,
   "id": "dfd7730e-ccd4-4931-b0cf-c506cab6d986",
   "metadata": {},
   "outputs": [
    {
     "name": "stdout",
     "output_type": "stream",
     "text": [
      "{'Canceled', 'No-Show', 'Check-Out'}\n"
     ]
    }
   ],
   "source": [
    "a = set(df[\"status_rezervacije\"])\n",
    "print(a)"
   ]
  },
  {
   "cell_type": "markdown",
   "id": "c4939d11-44b4-4e21-a3ca-d785c0701d29",
   "metadata": {},
   "source": [
    "# Spremanje ociscenih podataka u datoteku"
   ]
  },
  {
   "cell_type": "code",
   "execution_count": 20,
   "id": "135bd6d6-4c7d-436f-b5ae-87793857ce7b",
   "metadata": {},
   "outputs": [],
   "source": [
    "df.to_csv('cleaned_data.csv')"
   ]
  }
 ],
 "metadata": {
  "kernelspec": {
   "display_name": "Python 3 (ipykernel)",
   "language": "python",
   "name": "python3"
  },
  "language_info": {
   "codemirror_mode": {
    "name": "ipython",
    "version": 3
   },
   "file_extension": ".py",
   "mimetype": "text/x-python",
   "name": "python",
   "nbconvert_exporter": "python",
   "pygments_lexer": "ipython3",
   "version": "3.12.2"
  }
 },
 "nbformat": 4,
 "nbformat_minor": 5
}
