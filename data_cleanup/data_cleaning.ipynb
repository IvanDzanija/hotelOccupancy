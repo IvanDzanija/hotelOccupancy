{
 "cells": [
  {
   "cell_type": "markdown",
   "id": "e539c598",
   "metadata": {},
   "source": [
    "# Provjera i brisanja krivih podataka\n"
   ]
  },
  {
   "cell_type": "markdown",
   "id": "cf662675-2784-4ef2-8733-8c6437442d75",
   "metadata": {},
   "source": [
    "Brisanje podataka kojima je datum dolaska prije datuma kreiranja."
   ]
  },
  {
   "cell_type": "code",
   "execution_count": 9,
   "id": "6c9406e2-ee5b-4098-b77b-a98b565e6ff9",
   "metadata": {},
   "outputs": [
    {
     "name": "stdout",
     "output_type": "stream",
     "text": [
      "<class 'pandas.core.frame.DataFrame'>\n",
      "RangeIndex: 119210 entries, 0 to 119209\n",
      "Data columns (total 16 columns):\n",
      " #   Column                         Non-Null Count   Dtype         \n",
      "---  ------                         --------------   -----         \n",
      " 0   hotel_id                       119210 non-null  int32         \n",
      " 1   datum_dolaska                  119210 non-null  datetime64[ns]\n",
      " 2   datum_kreiranja_rezervacije    119210 non-null  datetime64[ns]\n",
      " 3   datum_odjave                   119210 non-null  datetime64[ns]\n",
      " 4   datum_otkazivanja_rezervacije  44199 non-null   object        \n",
      " 5   broj_odraslih_gostiju          119210 non-null  int64         \n",
      " 6   broj_djece_gostiju             119210 non-null  float64       \n",
      " 7   zemlja_gosta                   119210 non-null  object        \n",
      " 8   kanal_prodaje_id               119210 non-null  int32         \n",
      " 9   tip_sobe_id                    119210 non-null  int32         \n",
      " 10  cijena_nocenja                 119210 non-null  float64       \n",
      " 11  status_rezervacije             119210 non-null  object        \n",
      " 12  rezervacija_id                 119210 non-null  int32         \n",
      " 13  gost_id                        119210 non-null  int32         \n",
      " 14  broj_nocenja                   119210 non-null  float64       \n",
      " 15  ukupno_placeno                 119210 non-null  float64       \n",
      "dtypes: datetime64[ns](3), float64(4), int32(5), int64(1), object(3)\n",
      "memory usage: 12.3+ MB\n",
      "None\n"
     ]
    }
   ],
   "source": [
    "import os, sys\n",
    "import pandas as pd\n",
    "curr = os.getcwd()\n",
    "parr = os.path.dirname(curr)\n",
    "parr += '/data_process/processed.parquet'\n",
    "#print(parr)\n",
    "df = pd.read_parquet(parr)\n",
    "#print(df.head())\n",
    "df = df[df[\"datum_dolaska\"] >= df[\"datum_kreiranja_rezervacije\"]]\n",
    "print(df.info())\n",
    "\n"
   ]
  },
  {
   "cell_type": "markdown",
   "id": "49403c99-fd4f-4887-8057-fbec01eb3a45",
   "metadata": {},
   "source": [
    "Brisanje greska kada je datum kreiranja poslije datuma brisanja rezervacije"
   ]
  },
  {
   "cell_type": "code",
   "execution_count": 13,
   "id": "ce3ab666-7895-45cd-a303-6887583a3b34",
   "metadata": {},
   "outputs": [
    {
     "name": "stdout",
     "output_type": "stream",
     "text": [
      "<class 'pandas.core.frame.DataFrame'>\n",
      "Index: 21578 entries, 10 to 117115\n",
      "Data columns (total 16 columns):\n",
      " #   Column                         Non-Null Count  Dtype         \n",
      "---  ------                         --------------  -----         \n",
      " 0   hotel_id                       21578 non-null  int32         \n",
      " 1   datum_dolaska                  21578 non-null  datetime64[ns]\n",
      " 2   datum_kreiranja_rezervacije    21578 non-null  datetime64[ns]\n",
      " 3   datum_odjave                   21578 non-null  datetime64[ns]\n",
      " 4   datum_otkazivanja_rezervacije  21578 non-null  object        \n",
      " 5   broj_odraslih_gostiju          21578 non-null  int64         \n",
      " 6   broj_djece_gostiju             21578 non-null  float64       \n",
      " 7   zemlja_gosta                   21578 non-null  object        \n",
      " 8   kanal_prodaje_id               21578 non-null  int32         \n",
      " 9   tip_sobe_id                    21578 non-null  int32         \n",
      " 10  cijena_nocenja                 21578 non-null  float64       \n",
      " 11  status_rezervacije             21578 non-null  object        \n",
      " 12  rezervacija_id                 21578 non-null  int32         \n",
      " 13  gost_id                        21578 non-null  int32         \n",
      " 14  broj_nocenja                   21578 non-null  float64       \n",
      " 15  ukupno_placeno                 21578 non-null  float64       \n",
      "dtypes: datetime64[ns](3), float64(4), int32(5), int64(1), object(3)\n",
      "memory usage: 2.4+ MB\n",
      "None\n"
     ]
    }
   ],
   "source": [
    "df = df[df[\"datum_kreiranja_rezervacije\"] <= df[\"datum_otkazivanja_rezervacije\"]]\n",
    "print(df.info())"
   ]
  },
  {
   "cell_type": "markdown",
   "id": "615def9d-a2d8-4c65-bc11-f92b46852ed6",
   "metadata": {},
   "source": [
    "Brisanje podataka gdje je broj odraslih 0"
   ]
  },
  {
   "cell_type": "code",
   "execution_count": 14,
   "id": "9867cb55-7048-453c-9871-fe997ffb7df5",
   "metadata": {},
   "outputs": [
    {
     "name": "stdout",
     "output_type": "stream",
     "text": [
      "<class 'pandas.core.frame.DataFrame'>\n",
      "Index: 21546 entries, 10 to 117115\n",
      "Data columns (total 16 columns):\n",
      " #   Column                         Non-Null Count  Dtype         \n",
      "---  ------                         --------------  -----         \n",
      " 0   hotel_id                       21546 non-null  int32         \n",
      " 1   datum_dolaska                  21546 non-null  datetime64[ns]\n",
      " 2   datum_kreiranja_rezervacije    21546 non-null  datetime64[ns]\n",
      " 3   datum_odjave                   21546 non-null  datetime64[ns]\n",
      " 4   datum_otkazivanja_rezervacije  21546 non-null  object        \n",
      " 5   broj_odraslih_gostiju          21546 non-null  int64         \n",
      " 6   broj_djece_gostiju             21546 non-null  float64       \n",
      " 7   zemlja_gosta                   21546 non-null  object        \n",
      " 8   kanal_prodaje_id               21546 non-null  int32         \n",
      " 9   tip_sobe_id                    21546 non-null  int32         \n",
      " 10  cijena_nocenja                 21546 non-null  float64       \n",
      " 11  status_rezervacije             21546 non-null  object        \n",
      " 12  rezervacija_id                 21546 non-null  int32         \n",
      " 13  gost_id                        21546 non-null  int32         \n",
      " 14  broj_nocenja                   21546 non-null  float64       \n",
      " 15  ukupno_placeno                 21546 non-null  float64       \n",
      "dtypes: datetime64[ns](3), float64(4), int32(5), int64(1), object(3)\n",
      "memory usage: 2.4+ MB\n",
      "None\n"
     ]
    }
   ],
   "source": [
    "df = df[df[\"broj_odraslih_gostiju\"] > 0]\n",
    "print(df.info())"
   ]
  },
  {
   "cell_type": "markdown",
   "id": "df2a0f83-632c-46a5-beb8-154afab57cb8",
   "metadata": {},
   "source": [
    "Brisanje podataka gdje je cijena nocenja 0"
   ]
  },
  {
   "cell_type": "code",
   "execution_count": 15,
   "id": "d2ba1944-aedd-41ea-87a8-e9ffcefd4acf",
   "metadata": {},
   "outputs": [
    {
     "name": "stdout",
     "output_type": "stream",
     "text": [
      "<class 'pandas.core.frame.DataFrame'>\n",
      "Index: 21546 entries, 10 to 117115\n",
      "Data columns (total 16 columns):\n",
      " #   Column                         Non-Null Count  Dtype         \n",
      "---  ------                         --------------  -----         \n",
      " 0   hotel_id                       21546 non-null  int32         \n",
      " 1   datum_dolaska                  21546 non-null  datetime64[ns]\n",
      " 2   datum_kreiranja_rezervacije    21546 non-null  datetime64[ns]\n",
      " 3   datum_odjave                   21546 non-null  datetime64[ns]\n",
      " 4   datum_otkazivanja_rezervacije  21546 non-null  object        \n",
      " 5   broj_odraslih_gostiju          21546 non-null  int64         \n",
      " 6   broj_djece_gostiju             21546 non-null  float64       \n",
      " 7   zemlja_gosta                   21546 non-null  object        \n",
      " 8   kanal_prodaje_id               21546 non-null  int32         \n",
      " 9   tip_sobe_id                    21546 non-null  int32         \n",
      " 10  cijena_nocenja                 21546 non-null  float64       \n",
      " 11  status_rezervacije             21546 non-null  object        \n",
      " 12  rezervacija_id                 21546 non-null  int32         \n",
      " 13  gost_id                        21546 non-null  int32         \n",
      " 14  broj_nocenja                   21546 non-null  float64       \n",
      " 15  ukupno_placeno                 21546 non-null  float64       \n",
      "dtypes: datetime64[ns](3), float64(4), int32(5), int64(1), object(3)\n",
      "memory usage: 2.4+ MB\n",
      "None\n"
     ]
    }
   ],
   "source": [
    "bez_0 = df[df[\"cijena_nocenja\"] > 0]\n",
    "print(bez_0.info())"
   ]
  }
 ],
 "metadata": {
  "kernelspec": {
   "display_name": "Python 3 (ipykernel)",
   "language": "python",
   "name": "python3"
  },
  "language_info": {
   "codemirror_mode": {
    "name": "ipython",
    "version": 3
   },
   "file_extension": ".py",
   "mimetype": "text/x-python",
   "name": "python",
   "nbconvert_exporter": "python",
   "pygments_lexer": "ipython3",
   "version": "3.11.6"
  }
 },
 "nbformat": 4,
 "nbformat_minor": 5
}
