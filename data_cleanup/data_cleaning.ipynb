{
 "cells": [
  {
   "cell_type": "markdown",
   "id": "4a47e17e-d9d4-4168-bb88-ab0e2364968a",
   "metadata": {},
   "source": [
    "# Provjera i brisanja krivih podataka"
   ]
  },
  {
   "cell_type": "markdown",
   "id": "cfca11b2-b5ef-4724-b98b-a10f0a87c0a9",
   "metadata": {},
   "source": [
    "# Import potrebnih library-a i pronalazak lokacije dataseta"
   ]
  },
  {
   "cell_type": "code",
   "execution_count": 2,
   "id": "f54bf7e6-5da6-4605-831f-bb2816131966",
   "metadata": {},
   "outputs": [
    {
     "name": "stdout",
     "output_type": "stream",
     "text": [
      "/home/matijak/Documents/programiranje/lumen/data_process/processed.parquet\n"
     ]
    }
   ],
   "source": [
    "import os, sys\n",
    "import pandas as pd\n",
    "curr = os.getcwd()\n",
    "parr = os.path.dirname(curr)\n",
    "parr += '/data_process/processed.parquet'\n",
    "print(parr)"
   ]
  },
  {
   "cell_type": "markdown",
   "id": "0a076ffa-399e-44f1-84ca-641680ede433",
   "metadata": {},
   "source": [
    "# Otvaramo dataset sa dohvacene lokacije"
   ]
  },
  {
   "cell_type": "code",
   "execution_count": 3,
   "id": "3c15054c-3a9d-4b2c-b5ba-f98a496158c5",
   "metadata": {},
   "outputs": [
    {
     "name": "stdout",
     "output_type": "stream",
     "text": [
      "<class 'pandas.core.frame.DataFrame'>\n",
      "RangeIndex: 119210 entries, 0 to 119209\n",
      "Data columns (total 16 columns):\n",
      " #   Column                         Non-Null Count   Dtype         \n",
      "---  ------                         --------------   -----         \n",
      " 0   hotel_id                       119210 non-null  int32         \n",
      " 1   datum_dolaska                  119210 non-null  datetime64[ns]\n",
      " 2   datum_kreiranja_rezervacije    119210 non-null  datetime64[ns]\n",
      " 3   datum_odjave                   119210 non-null  datetime64[ns]\n",
      " 4   datum_otkazivanja_rezervacije  44199 non-null   object        \n",
      " 5   broj_odraslih_gostiju          119210 non-null  int64         \n",
      " 6   broj_djece_gostiju             119210 non-null  float64       \n",
      " 7   zemlja_gosta                   119210 non-null  object        \n",
      " 8   kanal_prodaje_id               119210 non-null  int32         \n",
      " 9   tip_sobe_id                    119210 non-null  int32         \n",
      " 10  cijena_nocenja                 119210 non-null  float64       \n",
      " 11  status_rezervacije             119210 non-null  object        \n",
      " 12  rezervacija_id                 119210 non-null  int32         \n",
      " 13  gost_id                        119210 non-null  int32         \n",
      " 14  broj_nocenja                   119210 non-null  float64       \n",
      " 15  ukupno_placeno                 119210 non-null  float64       \n",
      "dtypes: datetime64[ns](3), float64(4), int32(5), int64(1), object(3)\n",
      "memory usage: 12.3+ MB\n"
     ]
    }
   ],
   "source": [
    "df = pd.read_parquet(parr)\n",
    "df.info()"
   ]
  },
  {
   "cell_type": "markdown",
   "id": "0e249c64-9ccf-4763-88fc-68e6dd0afbb0",
   "metadata": {},
   "source": [
    "Pretvraranje stupca datuma otkazivanja u datetime"
   ]
  },
  {
   "cell_type": "code",
   "execution_count": 4,
   "id": "ae673ba1-4e61-487e-bfde-62221accfe17",
   "metadata": {},
   "outputs": [],
   "source": [
    "df['datum_otkazivanja_rezervacije'] = pd.to_datetime(df['datum_otkazivanja_rezervacije'], errors='coerce')"
   ]
  },
  {
   "cell_type": "markdown",
   "id": "5f954cde-0c14-46d0-912f-b89e44e024db",
   "metadata": {},
   "source": [
    "# Brisanje podataka kojima je datum dolaska prije datuma kreiranja."
   ]
  },
  {
   "cell_type": "code",
   "execution_count": 5,
   "id": "6c9406e2-ee5b-4098-b77b-a98b565e6ff9",
   "metadata": {},
   "outputs": [
    {
     "name": "stdout",
     "output_type": "stream",
     "text": [
      "<class 'pandas.core.frame.DataFrame'>\n",
      "RangeIndex: 119210 entries, 0 to 119209\n",
      "Data columns (total 16 columns):\n",
      " #   Column                         Non-Null Count   Dtype         \n",
      "---  ------                         --------------   -----         \n",
      " 0   hotel_id                       119210 non-null  int32         \n",
      " 1   datum_dolaska                  119210 non-null  datetime64[ns]\n",
      " 2   datum_kreiranja_rezervacije    119210 non-null  datetime64[ns]\n",
      " 3   datum_odjave                   119210 non-null  datetime64[ns]\n",
      " 4   datum_otkazivanja_rezervacije  44199 non-null   datetime64[ns]\n",
      " 5   broj_odraslih_gostiju          119210 non-null  int64         \n",
      " 6   broj_djece_gostiju             119210 non-null  float64       \n",
      " 7   zemlja_gosta                   119210 non-null  object        \n",
      " 8   kanal_prodaje_id               119210 non-null  int32         \n",
      " 9   tip_sobe_id                    119210 non-null  int32         \n",
      " 10  cijena_nocenja                 119210 non-null  float64       \n",
      " 11  status_rezervacije             119210 non-null  object        \n",
      " 12  rezervacija_id                 119210 non-null  int32         \n",
      " 13  gost_id                        119210 non-null  int32         \n",
      " 14  broj_nocenja                   119210 non-null  float64       \n",
      " 15  ukupno_placeno                 119210 non-null  float64       \n",
      "dtypes: datetime64[ns](4), float64(4), int32(5), int64(1), object(2)\n",
      "memory usage: 12.3+ MB\n"
     ]
    }
   ],
   "source": [
    "df = df[df[\"datum_dolaska\"] >= df[\"datum_kreiranja_rezervacije\"]]\n",
    "df.info()"
   ]
  },
  {
   "cell_type": "markdown",
   "id": "49403c99-fd4f-4887-8057-fbec01eb3a45",
   "metadata": {},
   "source": [
    "# Brisanje greska kada je datum kreiranja poslije datuma brisanja rezervacije"
   ]
  },
  {
   "cell_type": "code",
   "execution_count": 6,
   "id": "ce3ab666-7895-45cd-a303-6887583a3b34",
   "metadata": {},
   "outputs": [
    {
     "name": "stdout",
     "output_type": "stream",
     "text": [
      "<class 'pandas.core.frame.DataFrame'>\n",
      "Index: 96589 entries, 0 to 119209\n",
      "Data columns (total 16 columns):\n",
      " #   Column                         Non-Null Count  Dtype         \n",
      "---  ------                         --------------  -----         \n",
      " 0   hotel_id                       96589 non-null  int32         \n",
      " 1   datum_dolaska                  96589 non-null  datetime64[ns]\n",
      " 2   datum_kreiranja_rezervacije    96589 non-null  datetime64[ns]\n",
      " 3   datum_odjave                   96589 non-null  datetime64[ns]\n",
      " 4   datum_otkazivanja_rezervacije  21578 non-null  datetime64[ns]\n",
      " 5   broj_odraslih_gostiju          96589 non-null  int64         \n",
      " 6   broj_djece_gostiju             96589 non-null  float64       \n",
      " 7   zemlja_gosta                   96589 non-null  object        \n",
      " 8   kanal_prodaje_id               96589 non-null  int32         \n",
      " 9   tip_sobe_id                    96589 non-null  int32         \n",
      " 10  cijena_nocenja                 96589 non-null  float64       \n",
      " 11  status_rezervacije             96589 non-null  object        \n",
      " 12  rezervacija_id                 96589 non-null  int32         \n",
      " 13  gost_id                        96589 non-null  int32         \n",
      " 14  broj_nocenja                   96589 non-null  float64       \n",
      " 15  ukupno_placeno                 96589 non-null  float64       \n",
      "dtypes: datetime64[ns](4), float64(4), int32(5), int64(1), object(2)\n",
      "memory usage: 10.7+ MB\n"
     ]
    }
   ],
   "source": [
    "df = df[ (df[\"datum_kreiranja_rezervacije\"] <= df[\"datum_otkazivanja_rezervacije\"] ) | (df[\"datum_otkazivanja_rezervacije\"].isna()) ]\n",
    "a = set(df[\"datum_otkazivanja_rezervacije\"])\n",
    "df.info()\n",
    "#print(a)"
   ]
  },
  {
   "cell_type": "markdown",
   "id": "615def9d-a2d8-4c65-bc11-f92b46852ed6",
   "metadata": {},
   "source": [
    "# Brisanje podataka gdje je broj odraslih 0"
   ]
  },
  {
   "cell_type": "code",
   "execution_count": 7,
   "id": "9867cb55-7048-453c-9871-fe997ffb7df5",
   "metadata": {},
   "outputs": [
    {
     "name": "stdout",
     "output_type": "stream",
     "text": [
      "<class 'pandas.core.frame.DataFrame'>\n",
      "Index: 96418 entries, 0 to 119209\n",
      "Data columns (total 16 columns):\n",
      " #   Column                         Non-Null Count  Dtype         \n",
      "---  ------                         --------------  -----         \n",
      " 0   hotel_id                       96418 non-null  int32         \n",
      " 1   datum_dolaska                  96418 non-null  datetime64[ns]\n",
      " 2   datum_kreiranja_rezervacije    96418 non-null  datetime64[ns]\n",
      " 3   datum_odjave                   96418 non-null  datetime64[ns]\n",
      " 4   datum_otkazivanja_rezervacije  21546 non-null  datetime64[ns]\n",
      " 5   broj_odraslih_gostiju          96418 non-null  int64         \n",
      " 6   broj_djece_gostiju             96418 non-null  float64       \n",
      " 7   zemlja_gosta                   96418 non-null  object        \n",
      " 8   kanal_prodaje_id               96418 non-null  int32         \n",
      " 9   tip_sobe_id                    96418 non-null  int32         \n",
      " 10  cijena_nocenja                 96418 non-null  float64       \n",
      " 11  status_rezervacije             96418 non-null  object        \n",
      " 12  rezervacija_id                 96418 non-null  int32         \n",
      " 13  gost_id                        96418 non-null  int32         \n",
      " 14  broj_nocenja                   96418 non-null  float64       \n",
      " 15  ukupno_placeno                 96418 non-null  float64       \n",
      "dtypes: datetime64[ns](4), float64(4), int32(5), int64(1), object(2)\n",
      "memory usage: 10.7+ MB\n"
     ]
    }
   ],
   "source": [
    "df = df[df[\"broj_odraslih_gostiju\"] > 0]\n",
    "df.info()"
   ]
  },
  {
   "cell_type": "markdown",
   "id": "df2a0f83-632c-46a5-beb8-154afab57cb8",
   "metadata": {},
   "source": [
    "Brisanje podataka gdje je cijena nocenja 0 (nista nije izbaceno)"
   ]
  },
  {
   "cell_type": "code",
   "execution_count": 8,
   "id": "d2ba1944-aedd-41ea-87a8-e9ffcefd4acf",
   "metadata": {
    "scrolled": true
   },
   "outputs": [
    {
     "name": "stdout",
     "output_type": "stream",
     "text": [
      "<class 'pandas.core.frame.DataFrame'>\n",
      "Index: 96418 entries, 0 to 119209\n",
      "Data columns (total 16 columns):\n",
      " #   Column                         Non-Null Count  Dtype         \n",
      "---  ------                         --------------  -----         \n",
      " 0   hotel_id                       96418 non-null  int32         \n",
      " 1   datum_dolaska                  96418 non-null  datetime64[ns]\n",
      " 2   datum_kreiranja_rezervacije    96418 non-null  datetime64[ns]\n",
      " 3   datum_odjave                   96418 non-null  datetime64[ns]\n",
      " 4   datum_otkazivanja_rezervacije  21546 non-null  datetime64[ns]\n",
      " 5   broj_odraslih_gostiju          96418 non-null  int64         \n",
      " 6   broj_djece_gostiju             96418 non-null  float64       \n",
      " 7   zemlja_gosta                   96418 non-null  object        \n",
      " 8   kanal_prodaje_id               96418 non-null  int32         \n",
      " 9   tip_sobe_id                    96418 non-null  int32         \n",
      " 10  cijena_nocenja                 96418 non-null  float64       \n",
      " 11  status_rezervacije             96418 non-null  object        \n",
      " 12  rezervacija_id                 96418 non-null  int32         \n",
      " 13  gost_id                        96418 non-null  int32         \n",
      " 14  broj_nocenja                   96418 non-null  float64       \n",
      " 15  ukupno_placeno                 96418 non-null  float64       \n",
      "dtypes: datetime64[ns](4), float64(4), int32(5), int64(1), object(2)\n",
      "memory usage: 10.7+ MB\n"
     ]
    }
   ],
   "source": [
    "df = df[df[\"cijena_nocenja\"] > 0]\n",
    "df.info()"
   ]
  },
  {
   "cell_type": "markdown",
   "id": "c9125d55-bcb0-4693-8562-573ecec4dee5",
   "metadata": {},
   "source": [
    "Brisanje onih kojima je datum odjave prije datuma dolaska(nista nije izbaceno)"
   ]
  },
  {
   "cell_type": "code",
   "execution_count": 9,
   "id": "95c9f3db-8345-444e-baa6-3ed1354dd278",
   "metadata": {},
   "outputs": [
    {
     "name": "stdout",
     "output_type": "stream",
     "text": [
      "<class 'pandas.core.frame.DataFrame'>\n",
      "Index: 96418 entries, 0 to 119209\n",
      "Data columns (total 16 columns):\n",
      " #   Column                         Non-Null Count  Dtype         \n",
      "---  ------                         --------------  -----         \n",
      " 0   hotel_id                       96418 non-null  int32         \n",
      " 1   datum_dolaska                  96418 non-null  datetime64[ns]\n",
      " 2   datum_kreiranja_rezervacije    96418 non-null  datetime64[ns]\n",
      " 3   datum_odjave                   96418 non-null  datetime64[ns]\n",
      " 4   datum_otkazivanja_rezervacije  21546 non-null  datetime64[ns]\n",
      " 5   broj_odraslih_gostiju          96418 non-null  int64         \n",
      " 6   broj_djece_gostiju             96418 non-null  float64       \n",
      " 7   zemlja_gosta                   96418 non-null  object        \n",
      " 8   kanal_prodaje_id               96418 non-null  int32         \n",
      " 9   tip_sobe_id                    96418 non-null  int32         \n",
      " 10  cijena_nocenja                 96418 non-null  float64       \n",
      " 11  status_rezervacije             96418 non-null  object        \n",
      " 12  rezervacija_id                 96418 non-null  int32         \n",
      " 13  gost_id                        96418 non-null  int32         \n",
      " 14  broj_nocenja                   96418 non-null  float64       \n",
      " 15  ukupno_placeno                 96418 non-null  float64       \n",
      "dtypes: datetime64[ns](4), float64(4), int32(5), int64(1), object(2)\n",
      "memory usage: 10.7+ MB\n"
     ]
    }
   ],
   "source": [
    "df = df[df[\"datum_dolaska\"] <= df[\"datum_odjave\"]]\n",
    "df.info()"
   ]
  },
  {
   "cell_type": "markdown",
   "id": "37904808-0f75-4efb-9fad-dfb99dfe6674",
   "metadata": {},
   "source": [
    "# Brisanje onih kojima je datum otkazivanja nakon datuma odjave"
   ]
  },
  {
   "cell_type": "code",
   "execution_count": 10,
   "id": "ae4d85e2-bb59-45b9-84df-16c0509013b3",
   "metadata": {},
   "outputs": [
    {
     "name": "stdout",
     "output_type": "stream",
     "text": [
      "<class 'pandas.core.frame.DataFrame'>\n",
      "Index: 94478 entries, 0 to 119209\n",
      "Data columns (total 16 columns):\n",
      " #   Column                         Non-Null Count  Dtype         \n",
      "---  ------                         --------------  -----         \n",
      " 0   hotel_id                       94478 non-null  int32         \n",
      " 1   datum_dolaska                  94478 non-null  datetime64[ns]\n",
      " 2   datum_kreiranja_rezervacije    94478 non-null  datetime64[ns]\n",
      " 3   datum_odjave                   94478 non-null  datetime64[ns]\n",
      " 4   datum_otkazivanja_rezervacije  19606 non-null  datetime64[ns]\n",
      " 5   broj_odraslih_gostiju          94478 non-null  int64         \n",
      " 6   broj_djece_gostiju             94478 non-null  float64       \n",
      " 7   zemlja_gosta                   94478 non-null  object        \n",
      " 8   kanal_prodaje_id               94478 non-null  int32         \n",
      " 9   tip_sobe_id                    94478 non-null  int32         \n",
      " 10  cijena_nocenja                 94478 non-null  float64       \n",
      " 11  status_rezervacije             94478 non-null  object        \n",
      " 12  rezervacija_id                 94478 non-null  int32         \n",
      " 13  gost_id                        94478 non-null  int32         \n",
      " 14  broj_nocenja                   94478 non-null  float64       \n",
      " 15  ukupno_placeno                 94478 non-null  float64       \n",
      "dtypes: datetime64[ns](4), float64(4), int32(5), int64(1), object(2)\n",
      "memory usage: 10.5+ MB\n"
     ]
    }
   ],
   "source": [
    "df = df[ (df[\"datum_otkazivanja_rezervacije\"] < df[\"datum_odjave\"]) | (df[\"datum_otkazivanja_rezervacije\"].isna())  ]\n",
    "df.info()"
   ]
  },
  {
   "cell_type": "markdown",
   "id": "13d9164c-c4a5-42a5-8ecd-23ca75afedc4",
   "metadata": {},
   "source": [
    "# Micanje onih sa neispravnim drzavama"
   ]
  },
  {
   "cell_type": "code",
   "execution_count": 11,
   "id": "775eb297-2a6b-4d86-a280-72e3f68800ea",
   "metadata": {},
   "outputs": [
    {
     "name": "stdout",
     "output_type": "stream",
     "text": [
      "{'PLW', 'BEL', 'PAK', 'ZMB', 'AZE', 'PHL', 'IRN', 'ISL', 'MLT', 'KWT', 'FJI', 'SVK', 'DZA', 'GLP', 'ATF', 'UZB', 'MDG', 'SAU', 'KIR', 'MNE', 'CMR', 'FRA', 'ETH', 'PYF', 'ROU', 'AUS', 'BIH', 'GBR', 'VGB', 'CYP', 'CN', 'CIV', 'DEU', 'CHL', 'LVA', 'POL', 'AUT', 'CAF', 'COL', 'UGA', 'LTU', 'ARG', 'KEN', 'ECU', 'JAM', 'CYM', 'KNA', 'BGD', 'GHA', 'TUN', 'EGY', 'URY', 'BEN', 'MCO', 'ZWE', 'MYS', 'QAT', 'ARM', 'RWA', 'HKG', 'GIB', 'SEN', 'SWE', 'VEN', 'TMP', 'GTM', 'VNM', 'HRV', 'LBY', 'KAZ', 'SLV', 'GUY', 'FRO', 'PRI', 'ISR', 'IND', 'AGO', 'DJI', 'LCA', 'LBN', 'BRA', 'LIE', 'LAO', 'PER', 'PRY', 'DOM', 'IRQ', 'NPL', 'TJK', 'BOL', 'CUB', 'TWN', 'GRC', 'LUX', 'COM', 'PAN', 'ARE', 'GAB', 'SMR', 'TZA', 'IDN', 'GEO', 'FIN', 'KOR', 'SGP', 'HUN', 'LKA', 'NLD', 'SYR', 'PRT', 'SYC', 'BRB', 'JPN', 'JOR', 'MDV', 'BGR', 'DNK', 'THA', 'GGY', 'BWA', 'TGO', 'ALB', 'NOR', 'NZL', 'KHM', 'SUR', 'BHR', 'NGA', '0', 'MRT', 'MOZ', 'CZE', 'MWI', 'ESP', 'SDN', 'MLI', 'BLR', 'CPV', 'TUR', 'IRL', 'MAC', 'GNB', 'NAM', 'DMA', 'CHN', 'BDI', 'MAR', 'SVN', 'ABW', 'MKD', 'CRI', 'RUS', 'MUS', 'AND', 'JEY', 'EST', 'ASM', 'OMN', 'STP', 'MEX', 'USA', 'UKR', 'CHE', 'ZAF', 'ITA', 'ATA', 'SRB', 'MMR'}\n",
      "<class 'pandas.core.frame.DataFrame'>\n",
      "Index: 93962 entries, 0 to 119209\n",
      "Data columns (total 16 columns):\n",
      " #   Column                         Non-Null Count  Dtype         \n",
      "---  ------                         --------------  -----         \n",
      " 0   hotel_id                       93962 non-null  int32         \n",
      " 1   datum_dolaska                  93962 non-null  datetime64[ns]\n",
      " 2   datum_kreiranja_rezervacije    93962 non-null  datetime64[ns]\n",
      " 3   datum_odjave                   93962 non-null  datetime64[ns]\n",
      " 4   datum_otkazivanja_rezervacije  19548 non-null  datetime64[ns]\n",
      " 5   broj_odraslih_gostiju          93962 non-null  int64         \n",
      " 6   broj_djece_gostiju             93962 non-null  float64       \n",
      " 7   zemlja_gosta                   93962 non-null  object        \n",
      " 8   kanal_prodaje_id               93962 non-null  int32         \n",
      " 9   tip_sobe_id                    93962 non-null  int32         \n",
      " 10  cijena_nocenja                 93962 non-null  float64       \n",
      " 11  status_rezervacije             93962 non-null  object        \n",
      " 12  rezervacija_id                 93962 non-null  int32         \n",
      " 13  gost_id                        93962 non-null  int32         \n",
      " 14  broj_nocenja                   93962 non-null  float64       \n",
      " 15  ukupno_placeno                 93962 non-null  float64       \n",
      "dtypes: datetime64[ns](4), float64(4), int32(5), int64(1), object(2)\n",
      "memory usage: 10.4+ MB\n"
     ]
    }
   ],
   "source": [
    "a = set(df[\"zemlja_gosta\"])\n",
    "print(a)\n",
    "#jedina neispravna je 0\n",
    "df = df[df[\"zemlja_gosta\"] != '0']\n",
    "df.info()"
   ]
  },
  {
   "cell_type": "markdown",
   "id": "41f070d7-0a17-44fe-bb21-021ed4b47eca",
   "metadata": {},
   "source": [
    "# Provjera stausa rezervacije"
   ]
  },
  {
   "cell_type": "code",
   "execution_count": 13,
   "id": "cb05bd9a-f263-46a0-96f9-4aa4071ab214",
   "metadata": {},
   "outputs": [
    {
     "name": "stdout",
     "output_type": "stream",
     "text": [
      "{'Check-Out', 'No-Show', 'Canceled'}\n"
     ]
    },
    {
     "data": {
      "text/html": [
       "<div>\n",
       "<style scoped>\n",
       "    .dataframe tbody tr th:only-of-type {\n",
       "        vertical-align: middle;\n",
       "    }\n",
       "\n",
       "    .dataframe tbody tr th {\n",
       "        vertical-align: top;\n",
       "    }\n",
       "\n",
       "    .dataframe thead th {\n",
       "        text-align: right;\n",
       "    }\n",
       "</style>\n",
       "<table border=\"1\" class=\"dataframe\">\n",
       "  <thead>\n",
       "    <tr style=\"text-align: right;\">\n",
       "      <th></th>\n",
       "      <th>hotel_id</th>\n",
       "      <th>datum_dolaska</th>\n",
       "      <th>datum_kreiranja_rezervacije</th>\n",
       "      <th>datum_odjave</th>\n",
       "      <th>datum_otkazivanja_rezervacije</th>\n",
       "      <th>broj_odraslih_gostiju</th>\n",
       "      <th>broj_djece_gostiju</th>\n",
       "      <th>kanal_prodaje_id</th>\n",
       "      <th>tip_sobe_id</th>\n",
       "      <th>cijena_nocenja</th>\n",
       "      <th>rezervacija_id</th>\n",
       "      <th>gost_id</th>\n",
       "      <th>broj_nocenja</th>\n",
       "      <th>ukupno_placeno</th>\n",
       "    </tr>\n",
       "  </thead>\n",
       "  <tbody>\n",
       "    <tr>\n",
       "      <th>count</th>\n",
       "      <td>93962.000000</td>\n",
       "      <td>93962</td>\n",
       "      <td>93962</td>\n",
       "      <td>93962</td>\n",
       "      <td>19548</td>\n",
       "      <td>93962.000000</td>\n",
       "      <td>93962.000000</td>\n",
       "      <td>93962.000000</td>\n",
       "      <td>93962.000000</td>\n",
       "      <td>93962.000000</td>\n",
       "      <td>9.396200e+04</td>\n",
       "      <td>9.396200e+04</td>\n",
       "      <td>93962.000000</td>\n",
       "      <td>93962.000000</td>\n",
       "    </tr>\n",
       "    <tr>\n",
       "      <th>mean</th>\n",
       "      <td>0.628967</td>\n",
       "      <td>2016-09-08 00:57:54.868563712</td>\n",
       "      <td>2016-05-15 09:06:50.336093184</td>\n",
       "      <td>2016-09-11 11:12:41.439730944</td>\n",
       "      <td>2016-06-24 20:18:20.552486144</td>\n",
       "      <td>1.849907</td>\n",
       "      <td>0.113737</td>\n",
       "      <td>1.655563</td>\n",
       "      <td>1.524361</td>\n",
       "      <td>122.887893</td>\n",
       "      <td>1.374848e+06</td>\n",
       "      <td>1.053752e+06</td>\n",
       "      <td>3.433516</td>\n",
       "      <td>431.015926</td>\n",
       "    </tr>\n",
       "    <tr>\n",
       "      <th>min</th>\n",
       "      <td>0.000000</td>\n",
       "      <td>2015-01-01 00:00:00</td>\n",
       "      <td>2013-10-10 00:00:00</td>\n",
       "      <td>2015-01-03 00:00:00</td>\n",
       "      <td>2014-10-17 00:00:00</td>\n",
       "      <td>1.000000</td>\n",
       "      <td>0.000000</td>\n",
       "      <td>0.000000</td>\n",
       "      <td>0.000000</td>\n",
       "      <td>40.003037</td>\n",
       "      <td>1.313223e+06</td>\n",
       "      <td>1.000000e+06</td>\n",
       "      <td>1.000000</td>\n",
       "      <td>40.003037</td>\n",
       "    </tr>\n",
       "    <tr>\n",
       "      <th>25%</th>\n",
       "      <td>0.000000</td>\n",
       "      <td>2016-02-22 00:00:00</td>\n",
       "      <td>2015-11-13 00:00:00</td>\n",
       "      <td>2016-02-25 00:00:00</td>\n",
       "      <td>2015-12-28 18:00:00</td>\n",
       "      <td>2.000000</td>\n",
       "      <td>0.000000</td>\n",
       "      <td>2.000000</td>\n",
       "      <td>1.000000</td>\n",
       "      <td>81.000000</td>\n",
       "      <td>1.341888e+06</td>\n",
       "      <td>1.027046e+06</td>\n",
       "      <td>2.000000</td>\n",
       "      <td>169.888247</td>\n",
       "    </tr>\n",
       "    <tr>\n",
       "      <th>50%</th>\n",
       "      <td>1.000000</td>\n",
       "      <td>2016-09-26 00:00:00</td>\n",
       "      <td>2016-05-21 00:00:00</td>\n",
       "      <td>2016-09-29 00:00:00</td>\n",
       "      <td>2016-06-28 00:00:00</td>\n",
       "      <td>2.000000</td>\n",
       "      <td>0.000000</td>\n",
       "      <td>2.000000</td>\n",
       "      <td>1.000000</td>\n",
       "      <td>109.029867</td>\n",
       "      <td>1.373586e+06</td>\n",
       "      <td>1.053762e+06</td>\n",
       "      <td>3.000000</td>\n",
       "      <td>304.685098</td>\n",
       "    </tr>\n",
       "    <tr>\n",
       "      <th>75%</th>\n",
       "      <td>1.000000</td>\n",
       "      <td>2017-03-01 00:00:00</td>\n",
       "      <td>2016-12-10 00:00:00</td>\n",
       "      <td>2017-03-05 00:00:00</td>\n",
       "      <td>2017-01-17 00:00:00</td>\n",
       "      <td>2.000000</td>\n",
       "      <td>0.000000</td>\n",
       "      <td>2.000000</td>\n",
       "      <td>2.000000</td>\n",
       "      <td>145.218303</td>\n",
       "      <td>1.408853e+06</td>\n",
       "      <td>1.080558e+06</td>\n",
       "      <td>4.000000</td>\n",
       "      <td>530.385814</td>\n",
       "    </tr>\n",
       "    <tr>\n",
       "      <th>max</th>\n",
       "      <td>1.000000</td>\n",
       "      <td>2017-12-31 00:00:00</td>\n",
       "      <td>2017-12-31 00:00:00</td>\n",
       "      <td>2018-01-14 00:00:00</td>\n",
       "      <td>2017-08-31 00:00:00</td>\n",
       "      <td>26.000000</td>\n",
       "      <td>10.000000</td>\n",
       "      <td>4.000000</td>\n",
       "      <td>8.000000</td>\n",
       "      <td>765.832355</td>\n",
       "      <td>1.432432e+06</td>\n",
       "      <td>1.107288e+06</td>\n",
       "      <td>56.000000</td>\n",
       "      <td>7978.278811</td>\n",
       "    </tr>\n",
       "    <tr>\n",
       "      <th>std</th>\n",
       "      <td>0.483084</td>\n",
       "      <td>NaN</td>\n",
       "      <td>NaN</td>\n",
       "      <td>NaN</td>\n",
       "      <td>NaN</td>\n",
       "      <td>0.505378</td>\n",
       "      <td>0.413343</td>\n",
       "      <td>0.723063</td>\n",
       "      <td>1.122193</td>\n",
       "      <td>62.287915</td>\n",
       "      <td>3.653554e+04</td>\n",
       "      <td>3.094654e+04</td>\n",
       "      <td>2.540579</td>\n",
       "      <td>429.045006</td>\n",
       "    </tr>\n",
       "  </tbody>\n",
       "</table>\n",
       "</div>"
      ],
      "text/plain": [
       "           hotel_id                  datum_dolaska  \\\n",
       "count  93962.000000                          93962   \n",
       "mean       0.628967  2016-09-08 00:57:54.868563712   \n",
       "min        0.000000            2015-01-01 00:00:00   \n",
       "25%        0.000000            2016-02-22 00:00:00   \n",
       "50%        1.000000            2016-09-26 00:00:00   \n",
       "75%        1.000000            2017-03-01 00:00:00   \n",
       "max        1.000000            2017-12-31 00:00:00   \n",
       "std        0.483084                            NaN   \n",
       "\n",
       "         datum_kreiranja_rezervacije                   datum_odjave  \\\n",
       "count                          93962                          93962   \n",
       "mean   2016-05-15 09:06:50.336093184  2016-09-11 11:12:41.439730944   \n",
       "min              2013-10-10 00:00:00            2015-01-03 00:00:00   \n",
       "25%              2015-11-13 00:00:00            2016-02-25 00:00:00   \n",
       "50%              2016-05-21 00:00:00            2016-09-29 00:00:00   \n",
       "75%              2016-12-10 00:00:00            2017-03-05 00:00:00   \n",
       "max              2017-12-31 00:00:00            2018-01-14 00:00:00   \n",
       "std                              NaN                            NaN   \n",
       "\n",
       "       datum_otkazivanja_rezervacije  broj_odraslih_gostiju  \\\n",
       "count                          19548           93962.000000   \n",
       "mean   2016-06-24 20:18:20.552486144               1.849907   \n",
       "min              2014-10-17 00:00:00               1.000000   \n",
       "25%              2015-12-28 18:00:00               2.000000   \n",
       "50%              2016-06-28 00:00:00               2.000000   \n",
       "75%              2017-01-17 00:00:00               2.000000   \n",
       "max              2017-08-31 00:00:00              26.000000   \n",
       "std                              NaN               0.505378   \n",
       "\n",
       "       broj_djece_gostiju  kanal_prodaje_id   tip_sobe_id  cijena_nocenja  \\\n",
       "count        93962.000000      93962.000000  93962.000000    93962.000000   \n",
       "mean             0.113737          1.655563      1.524361      122.887893   \n",
       "min              0.000000          0.000000      0.000000       40.003037   \n",
       "25%              0.000000          2.000000      1.000000       81.000000   \n",
       "50%              0.000000          2.000000      1.000000      109.029867   \n",
       "75%              0.000000          2.000000      2.000000      145.218303   \n",
       "max             10.000000          4.000000      8.000000      765.832355   \n",
       "std              0.413343          0.723063      1.122193       62.287915   \n",
       "\n",
       "       rezervacija_id       gost_id  broj_nocenja  ukupno_placeno  \n",
       "count    9.396200e+04  9.396200e+04  93962.000000    93962.000000  \n",
       "mean     1.374848e+06  1.053752e+06      3.433516      431.015926  \n",
       "min      1.313223e+06  1.000000e+06      1.000000       40.003037  \n",
       "25%      1.341888e+06  1.027046e+06      2.000000      169.888247  \n",
       "50%      1.373586e+06  1.053762e+06      3.000000      304.685098  \n",
       "75%      1.408853e+06  1.080558e+06      4.000000      530.385814  \n",
       "max      1.432432e+06  1.107288e+06     56.000000     7978.278811  \n",
       "std      3.653554e+04  3.094654e+04      2.540579      429.045006  "
      ]
     },
     "execution_count": 13,
     "metadata": {},
     "output_type": "execute_result"
    }
   ],
   "source": [
    " a = set(df[\"status_rezervacije\"])\n",
    "print(a)\n",
    "df.describe()"
   ]
  },
  {
   "cell_type": "markdown",
   "id": "c4939d11-44b4-4e21-a3ca-d785c0701d29",
   "metadata": {},
   "source": [
    "# Spremanje ociscenih podataka u datoteku"
   ]
  },
  {
   "cell_type": "code",
   "execution_count": 35,
   "id": "135bd6d6-4c7d-436f-b5ae-87793857ce7b",
   "metadata": {},
   "outputs": [],
   "source": [
    "df.to_csv('cleaned_data.csv')"
   ]
  }
 ],
 "metadata": {
  "kernelspec": {
   "display_name": "Python 3 (ipykernel)",
   "language": "python",
   "name": "python3"
  },
  "language_info": {
   "codemirror_mode": {
    "name": "ipython",
    "version": 3
   },
   "file_extension": ".py",
   "mimetype": "text/x-python",
   "name": "python",
   "nbconvert_exporter": "python",
   "pygments_lexer": "ipython3",
   "version": "3.11.7"
  }
 },
 "nbformat": 4,
 "nbformat_minor": 5
}
