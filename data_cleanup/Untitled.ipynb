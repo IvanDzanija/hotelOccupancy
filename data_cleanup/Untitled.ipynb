{
 "cells": [
  {
   "cell_type": "markdown",
   "id": "ea225072-c51b-443d-a448-63afbd1462ed",
   "metadata": {},
   "source": [
    "# Provjera i čišćenje train dataset-a\n"
   ]
  },
  {
   "cell_type": "code",
   "execution_count": 2,
   "id": "dfd12052-f714-490b-aa9b-40b503028ff5",
   "metadata": {},
   "outputs": [],
   "source": [
    "import os, sys\n",
    "import pandas as pd\n",
    "curr = os.getcwd()\n",
    "file = os.path.dirname(curr)\n",
    "file += '/data_process/train_processed.parquet'"
   ]
  },
  {
   "cell_type": "code",
   "execution_count": 4,
   "id": "896e150e-7714-4741-a8dc-6c37e5496baf",
   "metadata": {},
   "outputs": [
    {
     "name": "stdout",
     "output_type": "stream",
     "text": [
      "<class 'pandas.core.frame.DataFrame'>\n",
      "RangeIndex: 31634 entries, 0 to 31633\n",
      "Data columns (total 25 columns):\n",
      " #   Column              Non-Null Count  Dtype         \n",
      "---  ------              --------------  -----         \n",
      " 0   reservation_id      31634 non-null  int64         \n",
      " 1   stay_date           31634 non-null  datetime64[ns]\n",
      " 2   guest_id            31634 non-null  int64         \n",
      " 3   guest_country_id    31634 non-null  object        \n",
      " 4   reservation_status  31634 non-null  object        \n",
      " 5   reservation_date    31634 non-null  datetime64[ns]\n",
      " 6   date_from           31634 non-null  datetime64[ns]\n",
      " 7   date_to             31634 non-null  datetime64[ns]\n",
      " 8   resort_id           31634 non-null  int64         \n",
      " 9   cancel_date         6151 non-null   object        \n",
      " 10  room_cnt            31634 non-null  int64         \n",
      " 11  adult_cnt           31634 non-null  int64         \n",
      " 12  children_cnt        31634 non-null  int64         \n",
      " 13  price               27860 non-null  float64       \n",
      " 14  price_tax           27860 non-null  float64       \n",
      " 15  total_price_tax     28076 non-null  float64       \n",
      " 16  total_price         28076 non-null  float64       \n",
      " 17  food_price          27860 non-null  float64       \n",
      " 18  food_price_tax      27860 non-null  float64       \n",
      " 19  other_price         27860 non-null  float64       \n",
      " 20  other_price_tax     27860 non-null  float64       \n",
      " 21  room_category_id    31634 non-null  int64         \n",
      " 22  sales_channel_id    31634 non-null  float64       \n",
      " 23  stay_nights         31634 non-null  float64       \n",
      " 24  price_per_night     27860 non-null  float64       \n",
      "dtypes: datetime64[ns](4), float64(11), int64(7), object(3)\n",
      "memory usage: 6.0+ MB\n"
     ]
    }
   ],
   "source": [
    "df = pd.read_parquet(file)\n",
    "df.info()"
   ]
  },
  {
   "cell_type": "markdown",
   "id": "340caf09-496a-47d4-a06b-dad49f5bef1a",
   "metadata": {},
   "source": [
    "## Brisanje podataka kojima je datum dolaska prije datuma kreiranja rezervacija"
   ]
  },
  {
   "cell_type": "code",
   "execution_count": 5,
   "id": "7977a444-0328-4dfa-9440-877be3312357",
   "metadata": {},
   "outputs": [
    {
     "name": "stdout",
     "output_type": "stream",
     "text": [
      "<class 'pandas.core.frame.DataFrame'>\n",
      "Int64Index: 31147 entries, 0 to 31633\n",
      "Data columns (total 25 columns):\n",
      " #   Column              Non-Null Count  Dtype         \n",
      "---  ------              --------------  -----         \n",
      " 0   reservation_id      31147 non-null  int64         \n",
      " 1   stay_date           31147 non-null  datetime64[ns]\n",
      " 2   guest_id            31147 non-null  int64         \n",
      " 3   guest_country_id    31147 non-null  object        \n",
      " 4   reservation_status  31147 non-null  object        \n",
      " 5   reservation_date    31147 non-null  datetime64[ns]\n",
      " 6   date_from           31147 non-null  datetime64[ns]\n",
      " 7   date_to             31147 non-null  datetime64[ns]\n",
      " 8   resort_id           31147 non-null  int64         \n",
      " 9   cancel_date         6040 non-null   object        \n",
      " 10  room_cnt            31147 non-null  int64         \n",
      " 11  adult_cnt           31147 non-null  int64         \n",
      " 12  children_cnt        31147 non-null  int64         \n",
      " 13  price               27383 non-null  float64       \n",
      " 14  price_tax           27383 non-null  float64       \n",
      " 15  total_price_tax     27598 non-null  float64       \n",
      " 16  total_price         27598 non-null  float64       \n",
      " 17  food_price          27383 non-null  float64       \n",
      " 18  food_price_tax      27383 non-null  float64       \n",
      " 19  other_price         27383 non-null  float64       \n",
      " 20  other_price_tax     27383 non-null  float64       \n",
      " 21  room_category_id    31147 non-null  int64         \n",
      " 22  sales_channel_id    31147 non-null  float64       \n",
      " 23  stay_nights         31147 non-null  float64       \n",
      " 24  price_per_night     27383 non-null  float64       \n",
      "dtypes: datetime64[ns](4), float64(11), int64(7), object(3)\n",
      "memory usage: 6.2+ MB\n"
     ]
    }
   ],
   "source": [
    "df = df[df[\"date_from\"] >= df[\"reservation_date\"]]\n",
    "df.info()"
   ]
  },
  {
   "cell_type": "markdown",
   "id": "8c3f5961",
   "metadata": {},
   "source": [
    "## Brisanje greska kada je datum kreiranja poslije datuma brisanja rezervacije"
   ]
  },
  {
   "cell_type": "code",
   "execution_count": 12,
   "id": "620fde66-b4ec-4c55-be83-b7ab96cbf06b",
   "metadata": {},
   "outputs": [
    {
     "name": "stdout",
     "output_type": "stream",
     "text": [
      "<class 'pandas.core.frame.DataFrame'>\n",
      "Int64Index: 6040 entries, 3 to 31632\n",
      "Data columns (total 25 columns):\n",
      " #   Column              Non-Null Count  Dtype         \n",
      "---  ------              --------------  -----         \n",
      " 0   reservation_id      6040 non-null   int64         \n",
      " 1   stay_date           6040 non-null   datetime64[ns]\n",
      " 2   guest_id            6040 non-null   int64         \n",
      " 3   guest_country_id    6040 non-null   object        \n",
      " 4   reservation_status  6040 non-null   object        \n",
      " 5   reservation_date    6040 non-null   datetime64[ns]\n",
      " 6   date_from           6040 non-null   datetime64[ns]\n",
      " 7   date_to             6040 non-null   datetime64[ns]\n",
      " 8   resort_id           6040 non-null   int64         \n",
      " 9   cancel_date         6040 non-null   object        \n",
      " 10  room_cnt            6040 non-null   int64         \n",
      " 11  adult_cnt           6040 non-null   int64         \n",
      " 12  children_cnt        6040 non-null   int64         \n",
      " 13  price               2391 non-null   float64       \n",
      " 14  price_tax           2391 non-null   float64       \n",
      " 15  total_price_tax     2491 non-null   float64       \n",
      " 16  total_price         2491 non-null   float64       \n",
      " 17  food_price          2391 non-null   float64       \n",
      " 18  food_price_tax      2391 non-null   float64       \n",
      " 19  other_price         2391 non-null   float64       \n",
      " 20  other_price_tax     2391 non-null   float64       \n",
      " 21  room_category_id    6040 non-null   int64         \n",
      " 22  sales_channel_id    6040 non-null   float64       \n",
      " 23  stay_nights         6040 non-null   float64       \n",
      " 24  price_per_night     2391 non-null   float64       \n",
      "dtypes: datetime64[ns](4), float64(11), int64(7), object(3)\n",
      "memory usage: 1.2+ MB\n"
     ]
    }
   ],
   "source": [
    "df = df[(df[\"cancel_date\"].isnull()) | (df[\"reservation_date\"] <= df[\"cancel_date\"])]\n",
    "df.info()"
   ]
  },
  {
   "cell_type": "code",
   "execution_count": null,
   "id": "933b7fa3",
   "metadata": {},
   "outputs": [],
   "source": []
  }
 ],
 "metadata": {
  "kernelspec": {
   "display_name": "Python 3 (ipykernel)",
   "language": "python",
   "name": "python3"
  },
  "language_info": {
   "codemirror_mode": {
    "name": "ipython",
    "version": 3
   },
   "file_extension": ".py",
   "mimetype": "text/x-python",
   "name": "python",
   "nbconvert_exporter": "python",
   "pygments_lexer": "ipython3",
   "version": "3.9.13"
  }
 },
 "nbformat": 4,
 "nbformat_minor": 5
}
