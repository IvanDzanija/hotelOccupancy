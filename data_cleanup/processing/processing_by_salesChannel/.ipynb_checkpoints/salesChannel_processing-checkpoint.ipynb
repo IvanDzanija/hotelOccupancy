{
 "cells": [
  {
   "cell_type": "markdown",
   "id": "0ce93f73-3bac-477c-ace6-c7826ee6a724",
   "metadata": {},
   "source": [
    "# Obrada podataka po kanalu prodaje"
   ]
  },
  {
   "cell_type": "markdown",
   "id": "e7d4c3a3-1172-4d37-ad6c-ab9d24c2a185",
   "metadata": {},
   "source": [
    "U ovoj bilježnici nalaze se postupci obrade podataka uzimajući u obzir kanal prodaje. Pokušavamo vidjeti koje su navike gostiju ovisno o pojednim kanalima prodaje.\n",
    "\n",
    "Prvo počinjemo uvozom potrebnih biblioteka.\n"
   ]
  },
  {
   "cell_type": "code",
   "execution_count": 2,
   "id": "3b3078ae-53be-4c78-8a87-12a21e565aa0",
   "metadata": {},
   "outputs": [],
   "source": [
    "import numpy as np\n",
    "import pandas as pd\n",
    "import matplotlib.pyplot as plt\n",
    "from pathlib import Path"
   ]
  },
  {
   "cell_type": "markdown",
   "id": "bb5ab4f5-d976-4b26-9213-1d97967d703a",
   "metadata": {},
   "source": [
    "Zatim pronalazimo lokaciju i učitavamo .csv datoteku s podatcima"
   ]
  },
  {
   "cell_type": "code",
   "execution_count": 27,
   "id": "53312f76-f3ed-4ab3-b3f3-eeb80a850c17",
   "metadata": {},
   "outputs": [
    {
     "name": "stdout",
     "output_type": "stream",
     "text": [
      "<class 'pandas.core.frame.DataFrame'>\n",
      "RangeIndex: 93962 entries, 0 to 93961\n",
      "Data columns (total 17 columns):\n",
      " #   Column                         Non-Null Count  Dtype  \n",
      "---  ------                         --------------  -----  \n",
      " 0   Unnamed: 0                     93962 non-null  int64  \n",
      " 1   hotel_id                       93962 non-null  int64  \n",
      " 2   datum_dolaska                  93962 non-null  object \n",
      " 3   datum_kreiranja_rezervacije    93962 non-null  object \n",
      " 4   datum_odjave                   93962 non-null  object \n",
      " 5   datum_otkazivanja_rezervacije  19548 non-null  object \n",
      " 6   broj_odraslih_gostiju          93962 non-null  int64  \n",
      " 7   broj_djece_gostiju             93962 non-null  float64\n",
      " 8   zemlja_gosta                   93962 non-null  object \n",
      " 9   kanal_prodaje_id               93962 non-null  int64  \n",
      " 10  tip_sobe_id                    93962 non-null  int64  \n",
      " 11  cijena_nocenja                 93962 non-null  float64\n",
      " 12  status_rezervacije             93962 non-null  object \n",
      " 13  rezervacija_id                 93962 non-null  int64  \n",
      " 14  gost_id                        93962 non-null  int64  \n",
      " 15  broj_nocenja                   93962 non-null  float64\n",
      " 16  ukupno_placeno                 93962 non-null  float64\n",
      "dtypes: float64(4), int64(7), object(6)\n",
      "memory usage: 12.2+ MB\n"
     ]
    }
   ],
   "source": [
    "curr = Path.cwd()\n",
    "path = curr.parent.parent\n",
    "filePath = str(path)\n",
    "filePath += \"/cleaned_data.csv\"\n",
    "#print(filePath)\n",
    "dataFrame = pd.read_csv(filePath)\n",
    "#dataFrame.info()"
   ]
  },
  {
   "cell_type": "markdown",
   "id": "d542e3f7-6140-4fb3-ab14-e5c138e1fd2c",
   "metadata": {},
   "source": [
    "## Različiti kanali prodaje"
   ]
  },
  {
   "cell_type": "markdown",
   "id": "353a4709-6321-4b94-a8af-88a90b1e4e7a",
   "metadata": {},
   "source": [
    "Prvo pronalazimo koliko je različitih kanala prodaje te učestalost korištenja pojedinog kanala. "
   ]
  },
  {
   "cell_type": "code",
   "execution_count": 40,
   "id": "71a1abb6-b2b9-4278-9c5b-cfbdc888626e",
   "metadata": {},
   "outputs": [
    {
     "name": "stdout",
     "output_type": "stream",
     "text": [
      "dict_values([13414, 5897, 74469, 3, 179])\n"
     ]
    },
    {
     "data": {
      "image/png": "[encoded data removed]",
      "text/plain": [
       "<Figure size 640x480 with 1 Axes>"
      ]
     },
     "metadata": {},
     "output_type": "display_data"
    }
   ],
   "source": [
    "uniqueSalesChannels = set(dataFrame[\"kanal_prodaje_id\"].unique())\n",
    "#salesChannelsFile = open(\"salesChannels.txt\", \"w\")\n",
    "#for channel in dataFrame[\"kanal_prodaje_id\"]:\n",
    "#    salesChannelsFile.write(str(channel) + \" \")\n",
    "#print (uniqueSalesChannels)\n",
    "totalSales = len(dataFrame)\n",
    "salesChannels = {key : 0 for key in uniqueSalesChannels}\n",
    "for key in dataFrame[\"kanal_prodaje_id\"]:\n",
    "    salesChannels[key] += 1\n",
    "#print (salesChannels)\n",
    "#print (sum(salesChannels.values()))\n",
    "fig, ax = plt.subplots()\n",
    "print(list(salesChannels.values()))\n",
    "#ax.pie(salesChannels.values, uniqueSalesChannels)"
   ]
  },
  {
   "cell_type": "markdown",
   "id": "5adecb6b-3804-48e2-8e25-488f5b35da97",
   "metadata": {},
   "source": [
    "Zatim podatke razdvajamo po kanalima prodaje."
   ]
  },
  {
   "cell_type": "code",
   "execution_count": 29,
   "id": "d668049c-ad30-4d06-a500-80621da4221e",
   "metadata": {},
   "outputs": [
    {
     "name": "stdout",
     "output_type": "stream",
     "text": [
      "Unnamed: 0\n",
      "hotel_id\n",
      "datum_dolaska\n",
      "datum_kreiranja_rezervacije\n",
      "datum_odjave\n",
      "datum_otkazivanja_rezervacije\n",
      "broj_odraslih_gostiju\n",
      "broj_djece_gostiju\n",
      "zemlja_gosta\n",
      "kanal_prodaje_id\n",
      "tip_sobe_id\n",
      "cijena_nocenja\n",
      "status_rezervacije\n",
      "rezervacija_id\n",
      "gost_id\n",
      "broj_nocenja\n",
      "ukupno_placeno\n"
     ]
    }
   ],
   "source": [
    "for i in dataFrame:\n",
    "    print (i)"
   ]
  },
  {
   "cell_type": "code",
   "execution_count": null,
   "id": "76ac8ebf-ec89-43e4-9c23-39f01d1b5dc5",
   "metadata": {},
   "outputs": [],
   "source": []
  }
 ],
 "metadata": {
  "kernelspec": {
   "display_name": "Python 3 (ipykernel)",
   "language": "python",
   "name": "python3"
  },
  "language_info": {
   "codemirror_mode": {
    "name": "ipython",
    "version": 3
   },
   "file_extension": ".py",
   "mimetype": "text/x-python",
   "name": "python",
   "nbconvert_exporter": "python",
   "pygments_lexer": "ipython3",
   "version": "3.12.1"
  }
 },
 "nbformat": 4,
 "nbformat_minor": 5
}
